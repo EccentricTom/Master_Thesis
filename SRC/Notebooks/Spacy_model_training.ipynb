{
 "cells": [
  {
   "cell_type": "markdown",
   "metadata": {
    "toc": true
   },
   "source": [
    "<h1>Table of Contents<span class=\"tocSkip\"></span></h1>\n",
    "<div class=\"toc\"><ul class=\"toc-item\"><li><span><a href=\"#Install-Packages-and-initialize-working-directory\" data-toc-modified-id=\"Install-Packages-and-initialize-working-directory-1\"><span class=\"toc-item-num\">1&nbsp;&nbsp;</span>Install Packages and initialize working directory</a></span></li><li><span><a href=\"#Load-the-data\" data-toc-modified-id=\"Load-the-data-2\"><span class=\"toc-item-num\">2&nbsp;&nbsp;</span>Load the data</a></span></li><li><span><a href=\"#Convert-data-to-list-of-Tuples\" data-toc-modified-id=\"Convert-data-to-list-of-Tuples-3\"><span class=\"toc-item-num\">3&nbsp;&nbsp;</span>Convert data to list of Tuples</a></span></li><li><span><a href=\"#Set-up-model-for-training\" data-toc-modified-id=\"Set-up-model-for-training-4\"><span class=\"toc-item-num\">4&nbsp;&nbsp;</span>Set up model for training</a></span></li><li><span><a href=\"#Model-with-noise-in-Training-Data\" data-toc-modified-id=\"Model-with-noise-in-Training-Data-5\"><span class=\"toc-item-num\">5&nbsp;&nbsp;</span>Model with noise in Training Data</a></span></li><li><span><a href=\"#Attempt-3\" data-toc-modified-id=\"Attempt-3-6\"><span class=\"toc-item-num\">6&nbsp;&nbsp;</span>Attempt 3</a></span></li></ul></div>"
   ]
  },
  {
   "cell_type": "markdown",
   "metadata": {},
   "source": [
    "## Install Packages and initialize working directory"
   ]
  },
  {
   "cell_type": "code",
   "execution_count": 1,
   "metadata": {},
   "outputs": [
    {
     "name": "stdout",
     "output_type": "stream",
     "text": [
      "Collecting en-core-web-lg==3.2.0\n",
      "  Downloading https://github.com/explosion/spacy-models/releases/download/en_core_web_lg-3.2.0/en_core_web_lg-3.2.0-py3-none-any.whl (777.4 MB)\n",
      "     -------------------------------------- 777.4/777.4 MB 1.9 MB/s eta 0:00:00\n",
      "Requirement already satisfied: spacy<3.3.0,>=3.2.0 in d:\\python_projects\\thesis\\lib\\site-packages (from en-core-web-lg==3.2.0) (3.2.3)\n",
      "Requirement already satisfied: packaging>=20.0 in d:\\python_projects\\thesis\\lib\\site-packages (from spacy<3.3.0,>=3.2.0->en-core-web-lg==3.2.0) (21.3)\n",
      "Requirement already satisfied: murmurhash<1.1.0,>=0.28.0 in d:\\python_projects\\thesis\\lib\\site-packages (from spacy<3.3.0,>=3.2.0->en-core-web-lg==3.2.0) (1.0.6)\n",
      "Requirement already satisfied: pathy>=0.3.5 in d:\\python_projects\\thesis\\lib\\site-packages (from spacy<3.3.0,>=3.2.0->en-core-web-lg==3.2.0) (0.6.1)\n",
      "Requirement already satisfied: cymem<2.1.0,>=2.0.2 in d:\\python_projects\\thesis\\lib\\site-packages (from spacy<3.3.0,>=3.2.0->en-core-web-lg==3.2.0) (2.0.6)\n",
      "Requirement already satisfied: tqdm<5.0.0,>=4.38.0 in d:\\python_projects\\thesis\\lib\\site-packages (from spacy<3.3.0,>=3.2.0->en-core-web-lg==3.2.0) (4.63.0)\n",
      "Requirement already satisfied: requests<3.0.0,>=2.13.0 in d:\\python_projects\\thesis\\lib\\site-packages (from spacy<3.3.0,>=3.2.0->en-core-web-lg==3.2.0) (2.27.1)\n",
      "Requirement already satisfied: spacy-loggers<2.0.0,>=1.0.0 in d:\\python_projects\\thesis\\lib\\site-packages (from spacy<3.3.0,>=3.2.0->en-core-web-lg==3.2.0) (1.0.1)\n",
      "Requirement already satisfied: pydantic!=1.8,!=1.8.1,<1.9.0,>=1.7.4 in d:\\python_projects\\thesis\\lib\\site-packages (from spacy<3.3.0,>=3.2.0->en-core-web-lg==3.2.0) (1.8.2)\n",
      "Requirement already satisfied: typer<0.5.0,>=0.3.0 in d:\\python_projects\\thesis\\lib\\site-packages (from spacy<3.3.0,>=3.2.0->en-core-web-lg==3.2.0) (0.4.0)\n",
      "Requirement already satisfied: setuptools in d:\\python_projects\\thesis\\lib\\site-packages (from spacy<3.3.0,>=3.2.0->en-core-web-lg==3.2.0) (60.10.0)\n",
      "Requirement already satisfied: jinja2 in d:\\python_projects\\thesis\\lib\\site-packages (from spacy<3.3.0,>=3.2.0->en-core-web-lg==3.2.0) (3.0.3)\n",
      "Requirement already satisfied: numpy>=1.15.0 in d:\\python_projects\\thesis\\lib\\site-packages (from spacy<3.3.0,>=3.2.0->en-core-web-lg==3.2.0) (1.22.3)\n",
      "Requirement already satisfied: blis<0.8.0,>=0.4.0 in d:\\python_projects\\thesis\\lib\\site-packages (from spacy<3.3.0,>=3.2.0->en-core-web-lg==3.2.0) (0.7.6)\n",
      "Requirement already satisfied: langcodes<4.0.0,>=3.2.0 in d:\\python_projects\\thesis\\lib\\site-packages (from spacy<3.3.0,>=3.2.0->en-core-web-lg==3.2.0) (3.3.0)\n",
      "Requirement already satisfied: spacy-legacy<3.1.0,>=3.0.8 in d:\\python_projects\\thesis\\lib\\site-packages (from spacy<3.3.0,>=3.2.0->en-core-web-lg==3.2.0) (3.0.9)\n",
      "Requirement already satisfied: srsly<3.0.0,>=2.4.1 in d:\\python_projects\\thesis\\lib\\site-packages (from spacy<3.3.0,>=3.2.0->en-core-web-lg==3.2.0) (2.4.2)\n",
      "Requirement already satisfied: wasabi<1.1.0,>=0.8.1 in d:\\python_projects\\thesis\\lib\\site-packages (from spacy<3.3.0,>=3.2.0->en-core-web-lg==3.2.0) (0.9.0)\n",
      "Requirement already satisfied: thinc<8.1.0,>=8.0.12 in d:\\python_projects\\thesis\\lib\\site-packages (from spacy<3.3.0,>=3.2.0->en-core-web-lg==3.2.0) (8.0.14)\n",
      "Requirement already satisfied: preshed<3.1.0,>=3.0.2 in d:\\python_projects\\thesis\\lib\\site-packages (from spacy<3.3.0,>=3.2.0->en-core-web-lg==3.2.0) (3.0.6)\n",
      "Requirement already satisfied: catalogue<2.1.0,>=2.0.6 in d:\\python_projects\\thesis\\lib\\site-packages (from spacy<3.3.0,>=3.2.0->en-core-web-lg==3.2.0) (2.0.6)\n",
      "Requirement already satisfied: pyparsing!=3.0.5,>=2.0.2 in d:\\python_projects\\thesis\\lib\\site-packages (from packaging>=20.0->spacy<3.3.0,>=3.2.0->en-core-web-lg==3.2.0) (3.0.7)\n",
      "Requirement already satisfied: smart-open<6.0.0,>=5.0.0 in d:\\python_projects\\thesis\\lib\\site-packages (from pathy>=0.3.5->spacy<3.3.0,>=3.2.0->en-core-web-lg==3.2.0) (5.2.1)\n",
      "Requirement already satisfied: typing-extensions>=3.7.4.3 in d:\\python_projects\\thesis\\lib\\site-packages (from pydantic!=1.8,!=1.8.1,<1.9.0,>=1.7.4->spacy<3.3.0,>=3.2.0->en-core-web-lg==3.2.0) (4.1.1)\n",
      "Requirement already satisfied: certifi>=2017.4.17 in d:\\python_projects\\thesis\\lib\\site-packages (from requests<3.0.0,>=2.13.0->spacy<3.3.0,>=3.2.0->en-core-web-lg==3.2.0) (2021.10.8)\n",
      "Requirement already satisfied: charset-normalizer~=2.0.0 in d:\\python_projects\\thesis\\lib\\site-packages (from requests<3.0.0,>=2.13.0->spacy<3.3.0,>=3.2.0->en-core-web-lg==3.2.0) (2.0.12)\n",
      "Requirement already satisfied: idna<4,>=2.5 in d:\\python_projects\\thesis\\lib\\site-packages (from requests<3.0.0,>=2.13.0->spacy<3.3.0,>=3.2.0->en-core-web-lg==3.2.0) (3.3)\n",
      "Requirement already satisfied: urllib3<1.27,>=1.21.1 in d:\\python_projects\\thesis\\lib\\site-packages (from requests<3.0.0,>=2.13.0->spacy<3.3.0,>=3.2.0->en-core-web-lg==3.2.0) (1.26.8)\n",
      "Requirement already satisfied: colorama in d:\\python_projects\\thesis\\lib\\site-packages (from tqdm<5.0.0,>=4.38.0->spacy<3.3.0,>=3.2.0->en-core-web-lg==3.2.0) (0.4.4)\n",
      "Requirement already satisfied: click<9.0.0,>=7.1.1 in d:\\python_projects\\thesis\\lib\\site-packages (from typer<0.5.0,>=0.3.0->spacy<3.3.0,>=3.2.0->en-core-web-lg==3.2.0) (8.0.4)\n",
      "Requirement already satisfied: MarkupSafe>=2.0 in d:\\python_projects\\thesis\\lib\\site-packages (from jinja2->spacy<3.3.0,>=3.2.0->en-core-web-lg==3.2.0) (2.1.0)\n",
      "Installing collected packages: en-core-web-lg\n",
      "Successfully installed en-core-web-lg-3.2.0\n",
      "[+] Download and installation successful\n",
      "You can now load the package via spacy.load('en_core_web_lg')\n"
     ]
    }
   ],
   "source": [
    "!python -m spacy download en_core_web_lg"
   ]
  },
  {
   "cell_type": "code",
   "execution_count": 101,
   "metadata": {},
   "outputs": [],
   "source": [
    "#Basics\n",
    "import pandas as pd\n",
    "import numpy as np\n",
    "import os\n",
    "import re\n",
    "import time\n",
    "import tqdm # replace with tqdm in pyfile\n",
    "from pathlib import Path\n",
    "pd.set_option(\"display.max_rows\", None)\n",
    "\n",
    "#Spacy\n",
    "import spacy\n",
    "nlp = spacy.load('en_core_web_sm')"
   ]
  },
  {
   "cell_type": "code",
   "execution_count": 3,
   "metadata": {},
   "outputs": [
    {
     "name": "stdout",
     "output_type": "stream",
     "text": [
      "Working Directory is now D:\\HSLU_Projects\\Thesis\n"
     ]
    }
   ],
   "source": [
    "workdir = 'D:\\HSLU_Projects\\Thesis'\n",
    "if os.getcwd() != workdir:\n",
    "    os.chdir(workdir)\n",
    "    print(f\"Working Directory is now {os.getcwd()}\")\n",
    "else:\n",
    "    print(f\"Working Directory is already set to {os.getcwd()}\")"
   ]
  },
  {
   "cell_type": "markdown",
   "metadata": {},
   "source": [
    "## Load the data"
   ]
  },
  {
   "cell_type": "code",
   "execution_count": 4,
   "metadata": {},
   "outputs": [],
   "source": [
    "table_data = pd.read_csv(\"Data/training_data.csv\")"
   ]
  },
  {
   "cell_type": "code",
   "execution_count": 5,
   "metadata": {},
   "outputs": [
    {
     "data": {
      "text/html": [
       "<div>\n",
       "<style scoped>\n",
       "    .dataframe tbody tr th:only-of-type {\n",
       "        vertical-align: middle;\n",
       "    }\n",
       "\n",
       "    .dataframe tbody tr th {\n",
       "        vertical-align: top;\n",
       "    }\n",
       "\n",
       "    .dataframe thead th {\n",
       "        text-align: right;\n",
       "    }\n",
       "</style>\n",
       "<table border=\"1\" class=\"dataframe\">\n",
       "  <thead>\n",
       "    <tr style=\"text-align: right;\">\n",
       "      <th></th>\n",
       "      <th>Name</th>\n",
       "      <th>Vorname</th>\n",
       "      <th>Firma</th>\n",
       "      <th>Email</th>\n",
       "    </tr>\n",
       "  </thead>\n",
       "  <tbody>\n",
       "    <tr>\n",
       "      <th>0</th>\n",
       "      <td>Ademoglu</td>\n",
       "      <td>Amara</td>\n",
       "      <td>Mobimo Management AG</td>\n",
       "      <td>amara.ademoglu@mobimo.ch</td>\n",
       "    </tr>\n",
       "    <tr>\n",
       "      <th>1</th>\n",
       "      <td>Aebischer</td>\n",
       "      <td>Thomas</td>\n",
       "      <td>ACUTRONIC Medical Systems AG</td>\n",
       "      <td>t.aebischer@acutronic-medical.ch</td>\n",
       "    </tr>\n",
       "    <tr>\n",
       "      <th>2</th>\n",
       "      <td>Aeschbach</td>\n",
       "      <td>André</td>\n",
       "      <td>Dialog Verwaltungs-Data AG</td>\n",
       "      <td>andre.aeschbach@dialog.ch</td>\n",
       "    </tr>\n",
       "    <tr>\n",
       "      <th>3</th>\n",
       "      <td>Agotai</td>\n",
       "      <td>Doris</td>\n",
       "      <td>FHNW</td>\n",
       "      <td>doris.agotai@fhnw.ch</td>\n",
       "    </tr>\n",
       "    <tr>\n",
       "      <th>4</th>\n",
       "      <td>Albert</td>\n",
       "      <td>Stefan</td>\n",
       "      <td>AMAG Automobil- und Motoren AG</td>\n",
       "      <td>stefan.albert@amag.ch</td>\n",
       "    </tr>\n",
       "  </tbody>\n",
       "</table>\n",
       "</div>"
      ],
      "text/plain": [
       "        Name Vorname                           Firma  \\\n",
       "0   Ademoglu   Amara            Mobimo Management AG   \n",
       "1  Aebischer  Thomas    ACUTRONIC Medical Systems AG   \n",
       "2  Aeschbach   André      Dialog Verwaltungs-Data AG   \n",
       "3     Agotai   Doris                            FHNW   \n",
       "4     Albert  Stefan  AMAG Automobil- und Motoren AG   \n",
       "\n",
       "                              Email  \n",
       "0          amara.ademoglu@mobimo.ch  \n",
       "1  t.aebischer@acutronic-medical.ch  \n",
       "2         andre.aeschbach@dialog.ch  \n",
       "3              doris.agotai@fhnw.ch  \n",
       "4             stefan.albert@amag.ch  "
      ]
     },
     "execution_count": 5,
     "metadata": {},
     "output_type": "execute_result"
    }
   ],
   "source": [
    "table_data.head()"
   ]
  },
  {
   "cell_type": "code",
   "execution_count": 6,
   "metadata": {},
   "outputs": [
    {
     "name": "stdout",
     "output_type": "stream",
     "text": [
      "(525, 4)\n"
     ]
    }
   ],
   "source": [
    "print(table_data.shape)"
   ]
  },
  {
   "cell_type": "markdown",
   "metadata": {},
   "source": [
    "## Convert data to list of Tuples"
   ]
  },
  {
   "cell_type": "markdown",
   "metadata": {},
   "source": [
    "For training a custom spacy model, the data has to be prepared as a list of tuples. The first element is the string, the second is a dictionary with a nest list, and within that another tuple. This will take some preparation to achieve."
   ]
  },
  {
   "cell_type": "code",
   "execution_count": 7,
   "metadata": {},
   "outputs": [],
   "source": [
    "def table_to_tuple(df):\n",
    "    finished = list()\n",
    "    for col in df.columns:\n",
    "        test = list()\n",
    "        for item in df[col].tolist():\n",
    "            last_index = len(item) - 1\n",
    "            new_tuple = (item, {'entities': [(0, last_index, col)]})\n",
    "            finished.append(new_tuple)\n",
    "    return finished"
   ]
  },
  {
   "cell_type": "code",
   "execution_count": 8,
   "metadata": {},
   "outputs": [],
   "source": [
    "train_data = table_to_tuple(table_data)"
   ]
  },
  {
   "cell_type": "code",
   "execution_count": 39,
   "metadata": {},
   "outputs": [
    {
     "data": {
      "text/plain": [
       "[('Ademoglu', {'entities': [(0, 7, 'Name')]}),\n",
       " ('Aebischer', {'entities': [(0, 8, 'Name')]}),\n",
       " ('Aeschbach', {'entities': [(0, 8, 'Name')]}),\n",
       " ('Agotai', {'entities': [(0, 5, 'Name')]}),\n",
       " ('Albert', {'entities': [(0, 5, 'Name')]}),\n",
       " ('Albiez', {'entities': [(0, 5, 'Name')]}),\n",
       " ('Alkalay', {'entities': [(0, 6, 'Name')]}),\n",
       " ('Amacher', {'entities': [(0, 6, 'Name')]}),\n",
       " ('Amacker', {'entities': [(0, 6, 'Name')]}),\n",
       " ('Amrhein', {'entities': [(0, 6, 'Name')]}),\n",
       " ('Amstutz', {'entities': [(0, 6, 'Name')]}),\n",
       " ('Amstutz', {'entities': [(0, 6, 'Name')]}),\n",
       " ('Anderhub', {'entities': [(0, 7, 'Name')]}),\n",
       " ('Aregger', {'entities': [(0, 6, 'Name')]}),\n",
       " ('Aregger', {'entities': [(0, 6, 'Name')]}),\n",
       " ('Arioli', {'entities': [(0, 5, 'Name')]}),\n",
       " ('Arnold', {'entities': [(0, 5, 'Name')]}),\n",
       " ('Arnold', {'entities': [(0, 5, 'Name')]}),\n",
       " ('Arnold', {'entities': [(0, 5, 'Name')]}),\n",
       " ('Arnold', {'entities': [(0, 5, 'Name')]}),\n",
       " ('Auf der Maur', {'entities': [(0, 11, 'Name')]}),\n",
       " ('Auf der Maur', {'entities': [(0, 11, 'Name')]}),\n",
       " ('Augsburger', {'entities': [(0, 9, 'Name')]}),\n",
       " ('Bachmann', {'entities': [(0, 7, 'Name')]}),\n",
       " ('Bachmann', {'entities': [(0, 7, 'Name')]}),\n",
       " ('Bachofen', {'entities': [(0, 7, 'Name')]}),\n",
       " ('Bachofner', {'entities': [(0, 8, 'Name')]}),\n",
       " ('Baillod', {'entities': [(0, 6, 'Name')]}),\n",
       " ('Balsiger', {'entities': [(0, 7, 'Name')]}),\n",
       " ('Balthasar', {'entities': [(0, 8, 'Name')]}),\n",
       " ('Bamert', {'entities': [(0, 5, 'Name')]}),\n",
       " ('Bammert', {'entities': [(0, 6, 'Name')]}),\n",
       " ('Bammert', {'entities': [(0, 6, 'Name')]}),\n",
       " ('Barmettler', {'entities': [(0, 9, 'Name')]}),\n",
       " ('Barraclough', {'entities': [(0, 10, 'Name')]}),\n",
       " ('Barraud', {'entities': [(0, 6, 'Name')]}),\n",
       " ('Bastino', {'entities': [(0, 6, 'Name')]}),\n",
       " ('Bauhofer', {'entities': [(0, 7, 'Name')]}),\n",
       " ('Baumgartner', {'entities': [(0, 10, 'Name')]}),\n",
       " ('Baumgartner', {'entities': [(0, 10, 'Name')]}),\n",
       " ('Baumgartner', {'entities': [(0, 10, 'Name')]}),\n",
       " ('Baumgartner', {'entities': [(0, 10, 'Name')]}),\n",
       " ('Bellm', {'entities': [(0, 4, 'Name')]}),\n",
       " ('Bellwald', {'entities': [(0, 7, 'Name')]}),\n",
       " ('Bernhard', {'entities': [(0, 7, 'Name')]}),\n",
       " ('Bidinger', {'entities': [(0, 7, 'Name')]}),\n",
       " ('Bieri', {'entities': [(0, 4, 'Name')]}),\n",
       " ('Bieri', {'entities': [(0, 4, 'Name')]}),\n",
       " ('Binkert', {'entities': [(0, 6, 'Name')]}),\n",
       " ('Binkert', {'entities': [(0, 6, 'Name')]}),\n",
       " ('Birrer', {'entities': [(0, 5, 'Name')]}),\n",
       " ('Birrer', {'entities': [(0, 5, 'Name')]}),\n",
       " ('Birrer', {'entities': [(0, 5, 'Name')]}),\n",
       " ('Blanke', {'entities': [(0, 5, 'Name')]}),\n",
       " ('Bliem', {'entities': [(0, 4, 'Name')]}),\n",
       " ('Blume', {'entities': [(0, 4, 'Name')]}),\n",
       " ('Blöchlinger', {'entities': [(0, 10, 'Name')]}),\n",
       " ('Boehler', {'entities': [(0, 6, 'Name')]}),\n",
       " ('Bommer', {'entities': [(0, 5, 'Name')]}),\n",
       " ('Bonati', {'entities': [(0, 5, 'Name')]}),\n",
       " ('Boos', {'entities': [(0, 3, 'Name')]}),\n",
       " ('Bosnjak', {'entities': [(0, 6, 'Name')]}),\n",
       " ('Bossard', {'entities': [(0, 6, 'Name')]}),\n",
       " ('Boutellier', {'entities': [(0, 9, 'Name')]}),\n",
       " ('Bowald', {'entities': [(0, 5, 'Name')]}),\n",
       " ('Braun', {'entities': [(0, 4, 'Name')]}),\n",
       " ('Brehm', {'entities': [(0, 4, 'Name')]}),\n",
       " ('Breisacher', {'entities': [(0, 9, 'Name')]}),\n",
       " ('Breiter', {'entities': [(0, 6, 'Name')]}),\n",
       " ('Brenner', {'entities': [(0, 6, 'Name')]}),\n",
       " ('Brigger', {'entities': [(0, 6, 'Name')]}),\n",
       " ('Brotschi', {'entities': [(0, 7, 'Name')]}),\n",
       " ('Brun', {'entities': [(0, 3, 'Name')]}),\n",
       " ('Brun', {'entities': [(0, 3, 'Name')]}),\n",
       " ('Brun Lütolf', {'entities': [(0, 10, 'Name')]}),\n",
       " ('Brunner', {'entities': [(0, 6, 'Name')]}),\n",
       " ('Brügger', {'entities': [(0, 6, 'Name')]}),\n",
       " ('Bründler', {'entities': [(0, 7, 'Name')]}),\n",
       " ('Bucher', {'entities': [(0, 5, 'Name')]}),\n",
       " ('Bucher', {'entities': [(0, 5, 'Name')]}),\n",
       " ('Bucher', {'entities': [(0, 5, 'Name')]}),\n",
       " ('Buck', {'entities': [(0, 3, 'Name')]}),\n",
       " ('Buechel', {'entities': [(0, 6, 'Name')]}),\n",
       " ('Bulgheroni', {'entities': [(0, 9, 'Name')]}),\n",
       " ('Burkhard', {'entities': [(0, 7, 'Name')]}),\n",
       " ('Bättig', {'entities': [(0, 5, 'Name')]}),\n",
       " ('Böhm', {'entities': [(0, 3, 'Name')]}),\n",
       " ('Büchi', {'entities': [(0, 4, 'Name')]}),\n",
       " ('Büchi-Kaiser', {'entities': [(0, 11, 'Name')]}),\n",
       " ('Bühler', {'entities': [(0, 5, 'Name')]}),\n",
       " ('Bürgi', {'entities': [(0, 4, 'Name')]}),\n",
       " ('Büsser', {'entities': [(0, 5, 'Name')]}),\n",
       " ('Cadalbert', {'entities': [(0, 8, 'Name')]}),\n",
       " ('Cerminara', {'entities': [(0, 8, 'Name')]}),\n",
       " ('Cham-Stump', {'entities': [(0, 9, 'Name')]}),\n",
       " ('Chicherio', {'entities': [(0, 8, 'Name')]}),\n",
       " ('Ciglia', {'entities': [(0, 5, 'Name')]}),\n",
       " ('Collart', {'entities': [(0, 6, 'Name')]}),\n",
       " ('Conzelmann', {'entities': [(0, 9, 'Name')]}),\n",
       " ('Delfosse', {'entities': [(0, 7, 'Name')]}),\n",
       " (\"Dell'Amore\", {'entities': [(0, 9, 'Name')]}),\n",
       " ('Dettling', {'entities': [(0, 7, 'Name')]}),\n",
       " ('Di Piertro', {'entities': [(0, 9, 'Name')]}),\n",
       " ('Diermeier', {'entities': [(0, 8, 'Name')]}),\n",
       " ('Diermeyer', {'entities': [(0, 8, 'Name')]}),\n",
       " ('Dioguardi', {'entities': [(0, 8, 'Name')]}),\n",
       " ('Dittli', {'entities': [(0, 5, 'Name')]}),\n",
       " ('Dollfus', {'entities': [(0, 6, 'Name')]}),\n",
       " ('Dominik', {'entities': [(0, 6, 'Name')]}),\n",
       " ('Durdevic', {'entities': [(0, 7, 'Name')]}),\n",
       " ('Dysli', {'entities': [(0, 4, 'Name')]}),\n",
       " ('Eberhard', {'entities': [(0, 7, 'Name')]}),\n",
       " ('Eberle', {'entities': [(0, 5, 'Name')]}),\n",
       " ('Eckert', {'entities': [(0, 5, 'Name')]}),\n",
       " ('Eichenberger', {'entities': [(0, 11, 'Name')]}),\n",
       " ('Eichmann', {'entities': [(0, 7, 'Name')]}),\n",
       " ('Elmiger', {'entities': [(0, 6, 'Name')]}),\n",
       " ('Elmiger', {'entities': [(0, 6, 'Name')]}),\n",
       " ('Emmenegger', {'entities': [(0, 9, 'Name')]}),\n",
       " ('Enzler', {'entities': [(0, 5, 'Name')]}),\n",
       " ('Erni', {'entities': [(0, 3, 'Name')]}),\n",
       " ('Erni', {'entities': [(0, 3, 'Name')]}),\n",
       " ('Erni', {'entities': [(0, 3, 'Name')]}),\n",
       " ('Escand', {'entities': [(0, 5, 'Name')]}),\n",
       " ('Ess', {'entities': [(0, 2, 'Name')]}),\n",
       " ('Evjen', {'entities': [(0, 4, 'Name')]}),\n",
       " ('Fahrländer', {'entities': [(0, 9, 'Name')]}),\n",
       " ('Fedier', {'entities': [(0, 5, 'Name')]}),\n",
       " ('Fehr', {'entities': [(0, 3, 'Name')]}),\n",
       " ('Felder', {'entities': [(0, 5, 'Name')]}),\n",
       " ('Feller', {'entities': [(0, 5, 'Name')]}),\n",
       " ('Filliger', {'entities': [(0, 7, 'Name')]}),\n",
       " ('Fink', {'entities': [(0, 3, 'Name')]}),\n",
       " ('Fischer', {'entities': [(0, 6, 'Name')]}),\n",
       " ('Fischer', {'entities': [(0, 6, 'Name')]}),\n",
       " ('Fischermanns', {'entities': [(0, 11, 'Name')]}),\n",
       " ('Flubacher-Maurer', {'entities': [(0, 15, 'Name')]}),\n",
       " ('Fluder', {'entities': [(0, 5, 'Name')]}),\n",
       " ('Frei', {'entities': [(0, 3, 'Name')]}),\n",
       " ('Freyler', {'entities': [(0, 6, 'Name')]}),\n",
       " ('Frischknecht', {'entities': [(0, 11, 'Name')]}),\n",
       " ('Frommhold', {'entities': [(0, 8, 'Name')]}),\n",
       " ('Frutig', {'entities': [(0, 5, 'Name')]}),\n",
       " ('Frühauf', {'entities': [(0, 6, 'Name')]}),\n",
       " ('Fuhrer', {'entities': [(0, 5, 'Name')]}),\n",
       " ('Fuhrimann', {'entities': [(0, 8, 'Name')]}),\n",
       " ('Furrer', {'entities': [(0, 5, 'Name')]}),\n",
       " ('Fussen', {'entities': [(0, 5, 'Name')]}),\n",
       " ('Füssenich', {'entities': [(0, 8, 'Name')]}),\n",
       " ('Gabriel', {'entities': [(0, 6, 'Name')]}),\n",
       " ('Galliker', {'entities': [(0, 7, 'Name')]}),\n",
       " ('Gasteiger', {'entities': [(0, 8, 'Name')]}),\n",
       " ('Geier', {'entities': [(0, 4, 'Name')]}),\n",
       " ('Geiser', {'entities': [(0, 5, 'Name')]}),\n",
       " ('Geissbühler', {'entities': [(0, 10, 'Name')]}),\n",
       " ('Gernet', {'entities': [(0, 5, 'Name')]}),\n",
       " ('Giger', {'entities': [(0, 4, 'Name')]}),\n",
       " ('Gisi', {'entities': [(0, 3, 'Name')]}),\n",
       " ('Gisler', {'entities': [(0, 5, 'Name')]}),\n",
       " ('Glatthard', {'entities': [(0, 8, 'Name')]}),\n",
       " ('Gloor', {'entities': [(0, 4, 'Name')]}),\n",
       " ('Gloor', {'entities': [(0, 4, 'Name')]}),\n",
       " ('Gmür', {'entities': [(0, 3, 'Name')]}),\n",
       " ('Goldiger', {'entities': [(0, 7, 'Name')]}),\n",
       " ('Graber', {'entities': [(0, 5, 'Name')]}),\n",
       " ('Graber', {'entities': [(0, 5, 'Name')]}),\n",
       " ('Graber', {'entities': [(0, 5, 'Name')]}),\n",
       " ('Graf', {'entities': [(0, 3, 'Name')]}),\n",
       " ('Grampp', {'entities': [(0, 5, 'Name')]}),\n",
       " ('Granziol', {'entities': [(0, 7, 'Name')]}),\n",
       " ('Greminger', {'entities': [(0, 8, 'Name')]}),\n",
       " ('Grimm', {'entities': [(0, 4, 'Name')]}),\n",
       " ('Grossniklaus', {'entities': [(0, 11, 'Name')]}),\n",
       " ('Grüter', {'entities': [(0, 5, 'Name')]}),\n",
       " ('Gugger', {'entities': [(0, 5, 'Name')]}),\n",
       " ('Guldin', {'entities': [(0, 5, 'Name')]}),\n",
       " ('Gumann', {'entities': [(0, 5, 'Name')]}),\n",
       " ('Gut', {'entities': [(0, 2, 'Name')]}),\n",
       " ('Gut', {'entities': [(0, 2, 'Name')]}),\n",
       " ('Gut', {'entities': [(0, 2, 'Name')]}),\n",
       " ('Gutzwiler', {'entities': [(0, 8, 'Name')]}),\n",
       " ('Gysin', {'entities': [(0, 4, 'Name')]}),\n",
       " ('Gössi', {'entities': [(0, 4, 'Name')]}),\n",
       " ('Güttinger', {'entities': [(0, 8, 'Name')]}),\n",
       " ('Haas', {'entities': [(0, 3, 'Name')]}),\n",
       " ('Hafner', {'entities': [(0, 5, 'Name')]}),\n",
       " ('Haldemann', {'entities': [(0, 8, 'Name')]}),\n",
       " ('Halter', {'entities': [(0, 5, 'Name')]}),\n",
       " ('Hard', {'entities': [(0, 3, 'Name')]}),\n",
       " ('Hasenmaile', {'entities': [(0, 9, 'Name')]}),\n",
       " ('Hasler', {'entities': [(0, 5, 'Name')]}),\n",
       " ('Haupt', {'entities': [(0, 4, 'Name')]}),\n",
       " ('Hauser', {'entities': [(0, 5, 'Name')]}),\n",
       " ('Hauser', {'entities': [(0, 5, 'Name')]}),\n",
       " ('Hauser', {'entities': [(0, 5, 'Name')]}),\n",
       " ('Hauser', {'entities': [(0, 5, 'Name')]}),\n",
       " ('Hecht', {'entities': [(0, 4, 'Name')]}),\n",
       " ('Hegglin', {'entities': [(0, 6, 'Name')]}),\n",
       " ('Hegglin', {'entities': [(0, 6, 'Name')]}),\n",
       " ('Heim', {'entities': [(0, 3, 'Name')]}),\n",
       " ('Heimgartner', {'entities': [(0, 10, 'Name')]}),\n",
       " ('Helling', {'entities': [(0, 6, 'Name')]}),\n",
       " ('Hermans', {'entities': [(0, 6, 'Name')]}),\n",
       " ('Herr', {'entities': [(0, 3, 'Name')]}),\n",
       " ('Hilgendorff', {'entities': [(0, 10, 'Name')]}),\n",
       " ('Hiltpold', {'entities': [(0, 7, 'Name')]}),\n",
       " ('Hodel', {'entities': [(0, 4, 'Name')]}),\n",
       " ('Hofer', {'entities': [(0, 4, 'Name')]}),\n",
       " ('Hofmann', {'entities': [(0, 6, 'Name')]}),\n",
       " ('Horat', {'entities': [(0, 4, 'Name')]}),\n",
       " ('Hostettler', {'entities': [(0, 9, 'Name')]}),\n",
       " ('Howald', {'entities': [(0, 5, 'Name')]}),\n",
       " ('Huber', {'entities': [(0, 4, 'Name')]}),\n",
       " ('Hunger', {'entities': [(0, 5, 'Name')]}),\n",
       " ('Hunziker', {'entities': [(0, 7, 'Name')]}),\n",
       " ('Hunziker', {'entities': [(0, 7, 'Name')]}),\n",
       " ('Hurschler', {'entities': [(0, 8, 'Name')]}),\n",
       " ('Huwyler', {'entities': [(0, 6, 'Name')]}),\n",
       " ('Huwyler', {'entities': [(0, 6, 'Name')]}),\n",
       " ('Häcki', {'entities': [(0, 4, 'Name')]}),\n",
       " ('Häfliger', {'entities': [(0, 7, 'Name')]}),\n",
       " ('Hälg', {'entities': [(0, 3, 'Name')]}),\n",
       " ('Höfer', {'entities': [(0, 4, 'Name')]}),\n",
       " ('Hönger', {'entities': [(0, 5, 'Name')]}),\n",
       " ('Hübscher', {'entities': [(0, 7, 'Name')]}),\n",
       " ('Hügli', {'entities': [(0, 4, 'Name')]}),\n",
       " ('Hüsser', {'entities': [(0, 5, 'Name')]}),\n",
       " ('Illi', {'entities': [(0, 3, 'Name')]}),\n",
       " ('Imhof', {'entities': [(0, 4, 'Name')]}),\n",
       " ('Imhof', {'entities': [(0, 4, 'Name')]}),\n",
       " ('Imhof', {'entities': [(0, 4, 'Name')]}),\n",
       " ('Indermitte', {'entities': [(0, 9, 'Name')]}),\n",
       " ('Ippolito', {'entities': [(0, 7, 'Name')]}),\n",
       " ('Janett', {'entities': [(0, 5, 'Name')]}),\n",
       " ('Janett', {'entities': [(0, 5, 'Name')]}),\n",
       " ('Jekel', {'entities': [(0, 4, 'Name')]}),\n",
       " ('Jenni', {'entities': [(0, 4, 'Name')]}),\n",
       " ('Joss', {'entities': [(0, 3, 'Name')]}),\n",
       " ('Jost', {'entities': [(0, 3, 'Name')]}),\n",
       " ('Jost', {'entities': [(0, 3, 'Name')]}),\n",
       " ('Jung', {'entities': [(0, 3, 'Name')]}),\n",
       " ('Jurt', {'entities': [(0, 3, 'Name')]}),\n",
       " ('Jörger', {'entities': [(0, 5, 'Name')]}),\n",
       " ('Jürg Reber', {'entities': [(0, 9, 'Name')]}),\n",
       " ('Kaech', {'entities': [(0, 4, 'Name')]}),\n",
       " ('Kamer', {'entities': [(0, 4, 'Name')]}),\n",
       " ('Kamer', {'entities': [(0, 4, 'Name')]}),\n",
       " ('Kaufmann', {'entities': [(0, 7, 'Name')]}),\n",
       " ('Kaufmann', {'entities': [(0, 7, 'Name')]}),\n",
       " ('Kaufmann', {'entities': [(0, 7, 'Name')]}),\n",
       " ('Keel', {'entities': [(0, 3, 'Name')]}),\n",
       " ('Keller', {'entities': [(0, 5, 'Name')]}),\n",
       " ('Kellermüller', {'entities': [(0, 11, 'Name')]}),\n",
       " ('Kessler', {'entities': [(0, 6, 'Name')]}),\n",
       " ('Kirchner', {'entities': [(0, 7, 'Name')]}),\n",
       " ('Kloess', {'entities': [(0, 5, 'Name')]}),\n",
       " ('Koch', {'entities': [(0, 3, 'Name')]}),\n",
       " ('Koch', {'entities': [(0, 3, 'Name')]}),\n",
       " ('Koch', {'entities': [(0, 3, 'Name')]}),\n",
       " ('Koller', {'entities': [(0, 5, 'Name')]}),\n",
       " ('Koller', {'entities': [(0, 5, 'Name')]}),\n",
       " ('Kost', {'entities': [(0, 3, 'Name')]}),\n",
       " ('Krucker', {'entities': [(0, 6, 'Name')]}),\n",
       " ('Krummenacher', {'entities': [(0, 11, 'Name')]}),\n",
       " ('Kuhn', {'entities': [(0, 3, 'Name')]}),\n",
       " ('Kunz', {'entities': [(0, 3, 'Name')]}),\n",
       " ('Käch', {'entities': [(0, 3, 'Name')]}),\n",
       " ('Käppeli', {'entities': [(0, 6, 'Name')]}),\n",
       " ('Kübler', {'entities': [(0, 5, 'Name')]}),\n",
       " ('Küng', {'entities': [(0, 3, 'Name')]}),\n",
       " ('Küng', {'entities': [(0, 3, 'Name')]}),\n",
       " ('Künzli', {'entities': [(0, 5, 'Name')]}),\n",
       " ('Landmesser', {'entities': [(0, 9, 'Name')]}),\n",
       " ('Larbig', {'entities': [(0, 5, 'Name')]}),\n",
       " ('Lederer', {'entities': [(0, 6, 'Name')]}),\n",
       " ('Lehmann', {'entities': [(0, 6, 'Name')]}),\n",
       " ('Leimer', {'entities': [(0, 5, 'Name')]}),\n",
       " ('Lergier', {'entities': [(0, 6, 'Name')]}),\n",
       " ('Leumann', {'entities': [(0, 6, 'Name')]}),\n",
       " ('Leuthard', {'entities': [(0, 7, 'Name')]}),\n",
       " ('Lienhard', {'entities': [(0, 7, 'Name')]}),\n",
       " ('Lippmann', {'entities': [(0, 7, 'Name')]}),\n",
       " ('Lippmann', {'entities': [(0, 7, 'Name')]}),\n",
       " ('Lippmann', {'entities': [(0, 7, 'Name')]}),\n",
       " ('Locher', {'entities': [(0, 5, 'Name')]}),\n",
       " ('Lorenzon', {'entities': [(0, 7, 'Name')]}),\n",
       " ('Lupart', {'entities': [(0, 5, 'Name')]}),\n",
       " ('Lüthi', {'entities': [(0, 4, 'Name')]}),\n",
       " ('Lüthi', {'entities': [(0, 4, 'Name')]}),\n",
       " ('Lütolf', {'entities': [(0, 5, 'Name')]}),\n",
       " ('Maechler', {'entities': [(0, 7, 'Name')]}),\n",
       " ('Maggi', {'entities': [(0, 4, 'Name')]}),\n",
       " ('Malito', {'entities': [(0, 5, 'Name')]}),\n",
       " ('Marbet', {'entities': [(0, 5, 'Name')]}),\n",
       " ('Margot', {'entities': [(0, 5, 'Name')]}),\n",
       " ('Marie Hannes', {'entities': [(0, 11, 'Name')]}),\n",
       " ('Markovich', {'entities': [(0, 8, 'Name')]}),\n",
       " ('Marti', {'entities': [(0, 4, 'Name')]}),\n",
       " ('Marty', {'entities': [(0, 4, 'Name')]}),\n",
       " ('Marty', {'entities': [(0, 4, 'Name')]}),\n",
       " ('Marx', {'entities': [(0, 3, 'Name')]}),\n",
       " ('Mathis', {'entities': [(0, 5, 'Name')]}),\n",
       " ('Mecenero', {'entities': [(0, 7, 'Name')]}),\n",
       " ('Medimorec', {'entities': [(0, 8, 'Name')]}),\n",
       " ('Mehringer', {'entities': [(0, 8, 'Name')]}),\n",
       " ('Meier', {'entities': [(0, 4, 'Name')]}),\n",
       " ('Meissner', {'entities': [(0, 7, 'Name')]}),\n",
       " ('Meyer', {'entities': [(0, 4, 'Name')]}),\n",
       " ('Meyer', {'entities': [(0, 4, 'Name')]}),\n",
       " ('Meyer', {'entities': [(0, 4, 'Name')]}),\n",
       " ('Meyer', {'entities': [(0, 4, 'Name')]}),\n",
       " ('Meyerhans', {'entities': [(0, 8, 'Name')]}),\n",
       " ('Meyerhans', {'entities': [(0, 8, 'Name')]}),\n",
       " ('Meyerhans', {'entities': [(0, 8, 'Name')]}),\n",
       " ('Meyerhans', {'entities': [(0, 8, 'Name')]}),\n",
       " ('Michael Weber', {'entities': [(0, 12, 'Name')]}),\n",
       " ('Michel', {'entities': [(0, 5, 'Name')]}),\n",
       " ('Michel', {'entities': [(0, 5, 'Name')]}),\n",
       " ('Michel', {'entities': [(0, 5, 'Name')]}),\n",
       " ('Michel', {'entities': [(0, 5, 'Name')]}),\n",
       " ('Michel', {'entities': [(0, 5, 'Name')]}),\n",
       " ('Minonne', {'entities': [(0, 6, 'Name')]}),\n",
       " ('Miolo', {'entities': [(0, 4, 'Name')]}),\n",
       " ('Mukic', {'entities': [(0, 4, 'Name')]}),\n",
       " ('Ménétrey', {'entities': [(0, 7, 'Name')]}),\n",
       " ('Müllener', {'entities': [(0, 7, 'Name')]}),\n",
       " ('Müller', {'entities': [(0, 5, 'Name')]}),\n",
       " ('Müller', {'entities': [(0, 5, 'Name')]}),\n",
       " ('Müller', {'entities': [(0, 5, 'Name')]}),\n",
       " ('Müller', {'entities': [(0, 5, 'Name')]}),\n",
       " ('Müller-Studer', {'entities': [(0, 12, 'Name')]}),\n",
       " ('Nadelhofer Do Canto Lagido', {'entities': [(0, 25, 'Name')]}),\n",
       " ('Nanchen', {'entities': [(0, 6, 'Name')]}),\n",
       " ('Neese', {'entities': [(0, 4, 'Name')]}),\n",
       " ('Nef', {'entities': [(0, 2, 'Name')]}),\n",
       " ('Neff', {'entities': [(0, 3, 'Name')]}),\n",
       " ('Neher', {'entities': [(0, 4, 'Name')]}),\n",
       " ('Neidhart', {'entities': [(0, 7, 'Name')]}),\n",
       " ('Neumann', {'entities': [(0, 6, 'Name')]}),\n",
       " ('Nicoud', {'entities': [(0, 5, 'Name')]}),\n",
       " ('Noel', {'entities': [(0, 3, 'Name')]}),\n",
       " ('Noser', {'entities': [(0, 4, 'Name')]}),\n",
       " ('Nottaris', {'entities': [(0, 7, 'Name')]}),\n",
       " ('Näf', {'entities': [(0, 2, 'Name')]}),\n",
       " ('Oberson', {'entities': [(0, 6, 'Name')]}),\n",
       " ('Odermatt', {'entities': [(0, 7, 'Name')]}),\n",
       " ('Oegema', {'entities': [(0, 5, 'Name')]}),\n",
       " ('Ott', {'entities': [(0, 2, 'Name')]}),\n",
       " ('Otz', {'entities': [(0, 2, 'Name')]}),\n",
       " ('Pandolfo', {'entities': [(0, 7, 'Name')]}),\n",
       " ('Pauli', {'entities': [(0, 4, 'Name')]}),\n",
       " ('Perren', {'entities': [(0, 5, 'Name')]}),\n",
       " ('Peter', {'entities': [(0, 4, 'Name')]}),\n",
       " ('Petermann', {'entities': [(0, 8, 'Name')]}),\n",
       " ('Pfaff', {'entities': [(0, 4, 'Name')]}),\n",
       " ('Pfister', {'entities': [(0, 6, 'Name')]}),\n",
       " ('Pfister', {'entities': [(0, 6, 'Name')]}),\n",
       " ('Platzer', {'entities': [(0, 6, 'Name')]}),\n",
       " ('Plüss', {'entities': [(0, 4, 'Name')]}),\n",
       " ('Podleisek', {'entities': [(0, 8, 'Name')]}),\n",
       " ('Poletti', {'entities': [(0, 6, 'Name')]}),\n",
       " ('Portmann', {'entities': [(0, 7, 'Name')]}),\n",
       " ('Prinz', {'entities': [(0, 4, 'Name')]}),\n",
       " ('Pustulka', {'entities': [(0, 7, 'Name')]}),\n",
       " ('Rainer Künzle', {'entities': [(0, 12, 'Name')]}),\n",
       " ('Ramseier', {'entities': [(0, 7, 'Name')]}),\n",
       " ('Reichmuth', {'entities': [(0, 8, 'Name')]}),\n",
       " ('Reichmuth', {'entities': [(0, 8, 'Name')]}),\n",
       " ('Reinhardt', {'entities': [(0, 8, 'Name')]}),\n",
       " ('Renggli', {'entities': [(0, 6, 'Name')]}),\n",
       " ('Renggli', {'entities': [(0, 6, 'Name')]}),\n",
       " ('Restle', {'entities': [(0, 5, 'Name')]}),\n",
       " ('Richter', {'entities': [(0, 6, 'Name')]}),\n",
       " ('Rieder', {'entities': [(0, 5, 'Name')]}),\n",
       " ('Riedi', {'entities': [(0, 4, 'Name')]}),\n",
       " ('Risi', {'entities': [(0, 3, 'Name')]}),\n",
       " ('Rodel', {'entities': [(0, 4, 'Name')]}),\n",
       " ('Rollier', {'entities': [(0, 6, 'Name')]}),\n",
       " ('Roten', {'entities': [(0, 4, 'Name')]}),\n",
       " ('Roth', {'entities': [(0, 3, 'Name')]}),\n",
       " ('Ruch', {'entities': [(0, 3, 'Name')]}),\n",
       " ('Ruppeiner', {'entities': [(0, 8, 'Name')]}),\n",
       " ('Rust', {'entities': [(0, 3, 'Name')]}),\n",
       " ('Ryter', {'entities': [(0, 4, 'Name')]}),\n",
       " ('Rüegg', {'entities': [(0, 4, 'Name')]}),\n",
       " ('Rüst', {'entities': [(0, 3, 'Name')]}),\n",
       " ('Sager', {'entities': [(0, 4, 'Name')]}),\n",
       " ('Salzmann', {'entities': [(0, 7, 'Name')]}),\n",
       " ('Santschi', {'entities': [(0, 7, 'Name')]}),\n",
       " ('Sarasin', {'entities': [(0, 6, 'Name')]}),\n",
       " ('Saupper', {'entities': [(0, 6, 'Name')]}),\n",
       " ('Savoia', {'entities': [(0, 5, 'Name')]}),\n",
       " ('Scala', {'entities': [(0, 4, 'Name')]}),\n",
       " ('Schaefer', {'entities': [(0, 7, 'Name')]}),\n",
       " ('Schaller', {'entities': [(0, 7, 'Name')]}),\n",
       " ('Schaub', {'entities': [(0, 5, 'Name')]}),\n",
       " ('Scheffrahn', {'entities': [(0, 9, 'Name')]}),\n",
       " ('Schelbert', {'entities': [(0, 8, 'Name')]}),\n",
       " ('Schenk', {'entities': [(0, 5, 'Name')]}),\n",
       " ('Scherer', {'entities': [(0, 6, 'Name')]}),\n",
       " ('Scheurer', {'entities': [(0, 7, 'Name')]}),\n",
       " ('Schibli', {'entities': [(0, 6, 'Name')]}),\n",
       " ('Schiesser', {'entities': [(0, 8, 'Name')]}),\n",
       " ('Schifferle', {'entities': [(0, 9, 'Name')]}),\n",
       " ('Schildknecht', {'entities': [(0, 11, 'Name')]}),\n",
       " ('Schmid', {'entities': [(0, 5, 'Name')]}),\n",
       " ('Schmid', {'entities': [(0, 5, 'Name')]}),\n",
       " ('Schmid', {'entities': [(0, 5, 'Name')]}),\n",
       " ('Schmidiger', {'entities': [(0, 9, 'Name')]}),\n",
       " ('Schmidiger', {'entities': [(0, 9, 'Name')]}),\n",
       " ('Schmuckli', {'entities': [(0, 8, 'Name')]}),\n",
       " ('Schneebeli', {'entities': [(0, 9, 'Name')]}),\n",
       " ('Schneider', {'entities': [(0, 8, 'Name')]}),\n",
       " ('Schneider', {'entities': [(0, 8, 'Name')]}),\n",
       " ('Schneider', {'entities': [(0, 8, 'Name')]}),\n",
       " ('Schneider', {'entities': [(0, 8, 'Name')]}),\n",
       " ('Schneider', {'entities': [(0, 8, 'Name')]}),\n",
       " ('Schneider', {'entities': [(0, 8, 'Name')]}),\n",
       " ('Schnider', {'entities': [(0, 7, 'Name')]}),\n",
       " ('Schnyder', {'entities': [(0, 7, 'Name')]}),\n",
       " ('Schucan', {'entities': [(0, 6, 'Name')]}),\n",
       " ('Schulthess', {'entities': [(0, 9, 'Name')]}),\n",
       " ('Schumacher', {'entities': [(0, 9, 'Name')]}),\n",
       " ('Schurter', {'entities': [(0, 7, 'Name')]}),\n",
       " ('Schwaller', {'entities': [(0, 8, 'Name')]}),\n",
       " ('Schwander', {'entities': [(0, 8, 'Name')]}),\n",
       " ('Schwarzenbach', {'entities': [(0, 12, 'Name')]}),\n",
       " ('Schweisgut-Heimgartner', {'entities': [(0, 21, 'Name')]}),\n",
       " ('Schwerzmann', {'entities': [(0, 10, 'Name')]}),\n",
       " ('Schwindt', {'entities': [(0, 7, 'Name')]}),\n",
       " ('Schwob', {'entities': [(0, 5, 'Name')]}),\n",
       " ('Schätzle', {'entities': [(0, 7, 'Name')]}),\n",
       " ('Schöpfer', {'entities': [(0, 7, 'Name')]}),\n",
       " ('Schöpfer', {'entities': [(0, 7, 'Name')]}),\n",
       " ('Schürmann', {'entities': [(0, 8, 'Name')]}),\n",
       " ('Schütz', {'entities': [(0, 5, 'Name')]}),\n",
       " ('Sebben', {'entities': [(0, 5, 'Name')]}),\n",
       " ('Seifritz', {'entities': [(0, 7, 'Name')]}),\n",
       " ('Seiler', {'entities': [(0, 5, 'Name')]}),\n",
       " ('Seyff', {'entities': [(0, 4, 'Name')]}),\n",
       " ('Sidler', {'entities': [(0, 5, 'Name')]}),\n",
       " ('Spieler', {'entities': [(0, 6, 'Name')]}),\n",
       " ('Stadelmann', {'entities': [(0, 9, 'Name')]}),\n",
       " ('Stadelmann', {'entities': [(0, 9, 'Name')]}),\n",
       " ('Stalder', {'entities': [(0, 6, 'Name')]}),\n",
       " ('Steiner', {'entities': [(0, 6, 'Name')]}),\n",
       " ('Steiner', {'entities': [(0, 6, 'Name')]}),\n",
       " ('Steinmann', {'entities': [(0, 8, 'Name')]}),\n",
       " ('Stettler', {'entities': [(0, 7, 'Name')]}),\n",
       " ('Stohler', {'entities': [(0, 6, 'Name')]}),\n",
       " ('Stoller-Laternser', {'entities': [(0, 16, 'Name')]}),\n",
       " ('Stolz', {'entities': [(0, 4, 'Name')]}),\n",
       " ('Stotz', {'entities': [(0, 4, 'Name')]}),\n",
       " ('Strub', {'entities': [(0, 4, 'Name')]}),\n",
       " ('Stuber', {'entities': [(0, 5, 'Name')]}),\n",
       " ('Studer', {'entities': [(0, 5, 'Name')]}),\n",
       " ('Stöckle', {'entities': [(0, 6, 'Name')]}),\n",
       " ('Stöckli', {'entities': [(0, 6, 'Name')]}),\n",
       " ('Stöcklin', {'entities': [(0, 7, 'Name')]}),\n",
       " ('Supthut', {'entities': [(0, 6, 'Name')]}),\n",
       " ('Suter', {'entities': [(0, 4, 'Name')]}),\n",
       " ('Suter', {'entities': [(0, 4, 'Name')]}),\n",
       " ('Szabo', {'entities': [(0, 4, 'Name')]}),\n",
       " ('Szabó', {'entities': [(0, 4, 'Name')]}),\n",
       " ('Szalai', {'entities': [(0, 5, 'Name')]}),\n",
       " ('Szelyes', {'entities': [(0, 6, 'Name')]}),\n",
       " ('Tercan', {'entities': [(0, 5, 'Name')]}),\n",
       " ('Tetzlaff', {'entities': [(0, 7, 'Name')]}),\n",
       " ('Thaddey', {'entities': [(0, 6, 'Name')]}),\n",
       " ('Thusbass', {'entities': [(0, 7, 'Name')]}),\n",
       " ('Thut', {'entities': [(0, 3, 'Name')]}),\n",
       " ('Thürig', {'entities': [(0, 5, 'Name')]}),\n",
       " ('Truttmann', {'entities': [(0, 8, 'Name')]}),\n",
       " ('Tännler', {'entities': [(0, 6, 'Name')]}),\n",
       " ('Uhlmann', {'entities': [(0, 6, 'Name')]}),\n",
       " ('Ullmann', {'entities': [(0, 6, 'Name')]}),\n",
       " ('Ulrich', {'entities': [(0, 5, 'Name')]}),\n",
       " ('Unternährer', {'entities': [(0, 10, 'Name')]}),\n",
       " ('Vassali', {'entities': [(0, 6, 'Name')]}),\n",
       " ('Vaterlaus', {'entities': [(0, 8, 'Name')]}),\n",
       " ('Vionnet', {'entities': [(0, 6, 'Name')]}),\n",
       " ('Vogel', {'entities': [(0, 4, 'Name')]}),\n",
       " ('Vogelsang', {'entities': [(0, 8, 'Name')]}),\n",
       " ('Vollmar', {'entities': [(0, 6, 'Name')]}),\n",
       " ('Von Matt', {'entities': [(0, 7, 'Name')]}),\n",
       " ('Vontobel', {'entities': [(0, 7, 'Name')]}),\n",
       " ('Walpen', {'entities': [(0, 5, 'Name')]}),\n",
       " ('Walther', {'entities': [(0, 6, 'Name')]}),\n",
       " ('Walther', {'entities': [(0, 6, 'Name')]}),\n",
       " ('Walthert', {'entities': [(0, 7, 'Name')]}),\n",
       " ('Weber', {'entities': [(0, 4, 'Name')]}),\n",
       " ('Weber', {'entities': [(0, 4, 'Name')]}),\n",
       " ('Wegener', {'entities': [(0, 6, 'Name')]}),\n",
       " ('Weisstroffer', {'entities': [(0, 11, 'Name')]}),\n",
       " ('Wellinger', {'entities': [(0, 8, 'Name')]}),\n",
       " ('Wespi', {'entities': [(0, 4, 'Name')]}),\n",
       " ('Wicki', {'entities': [(0, 4, 'Name')]}),\n",
       " ('Wigger', {'entities': [(0, 5, 'Name')]}),\n",
       " ('Wildi', {'entities': [(0, 4, 'Name')]}),\n",
       " ('Williams', {'entities': [(0, 7, 'Name')]}),\n",
       " ('Winiker', {'entities': [(0, 6, 'Name')]}),\n",
       " ('Wipfli', {'entities': [(0, 5, 'Name')]}),\n",
       " ('Wirz', {'entities': [(0, 3, 'Name')]}),\n",
       " ('With', {'entities': [(0, 3, 'Name')]}),\n",
       " ('Wohlwend', {'entities': [(0, 7, 'Name')]}),\n",
       " ('Wolfers', {'entities': [(0, 6, 'Name')]}),\n",
       " ('Wolff', {'entities': [(0, 4, 'Name')]}),\n",
       " ('Wozniak', {'entities': [(0, 6, 'Name')]}),\n",
       " ('Wymann', {'entities': [(0, 5, 'Name')]}),\n",
       " ('Wyss', {'entities': [(0, 3, 'Name')]}),\n",
       " ('Wälti', {'entities': [(0, 4, 'Name')]}),\n",
       " ('Wüst', {'entities': [(0, 3, 'Name')]}),\n",
       " ('Yves', {'entities': [(0, 3, 'Name')]}),\n",
       " ('Zehnder', {'entities': [(0, 6, 'Name')]}),\n",
       " ('Zemp', {'entities': [(0, 3, 'Name')]}),\n",
       " ('Zemp-Lüthy', {'entities': [(0, 9, 'Name')]}),\n",
       " ('Zgraggen', {'entities': [(0, 7, 'Name')]}),\n",
       " ('Zimmermann', {'entities': [(0, 9, 'Name')]}),\n",
       " ('Zirn', {'entities': [(0, 3, 'Name')]}),\n",
       " ('Zollinger', {'entities': [(0, 8, 'Name')]}),\n",
       " ('Zollinger', {'entities': [(0, 8, 'Name')]}),\n",
       " ('Zwicker', {'entities': [(0, 6, 'Name')]}),\n",
       " ('Zürcher', {'entities': [(0, 6, 'Name')]}),\n",
       " ('de Espona Pernas', {'entities': [(0, 15, 'Name')]}),\n",
       " ('von Arx', {'entities': [(0, 6, 'Name')]}),\n",
       " ('Amara', {'entities': [(0, 4, 'Vorname')]}),\n",
       " ('Thomas', {'entities': [(0, 5, 'Vorname')]}),\n",
       " ('André', {'entities': [(0, 4, 'Vorname')]}),\n",
       " ('Doris', {'entities': [(0, 4, 'Vorname')]}),\n",
       " ('Stefan', {'entities': [(0, 5, 'Vorname')]}),\n",
       " ('Timo', {'entities': [(0, 3, 'Vorname')]}),\n",
       " ('Michael', {'entities': [(0, 6, 'Vorname')]}),\n",
       " ('Jacqueline', {'entities': [(0, 9, 'Vorname')]}),\n",
       " ('Pietro', {'entities': [(0, 5, 'Vorname')]}),\n",
       " ('René', {'entities': [(0, 3, 'Vorname')]}),\n",
       " ('Albert', {'entities': [(0, 5, 'Vorname')]}),\n",
       " ('René', {'entities': [(0, 3, 'Vorname')]}),\n",
       " ('Isabelle', {'entities': [(0, 7, 'Vorname')]}),\n",
       " ('Bruno', {'entities': [(0, 4, 'Vorname')]}),\n",
       " ('Othmar', {'entities': [(0, 5, 'Vorname')]}),\n",
       " ('Marcel', {'entities': [(0, 5, 'Vorname')]}),\n",
       " ('Christoph', {'entities': [(0, 8, 'Vorname')]}),\n",
       " ('Franzsepp', {'entities': [(0, 8, 'Vorname')]}),\n",
       " ('Franzsepp', {'entities': [(0, 8, 'Vorname')]}),\n",
       " ('Urs', {'entities': [(0, 2, 'Vorname')]}),\n",
       " ('Silvan', {'entities': [(0, 5, 'Vorname')]}),\n",
       " ('Silvan', {'entities': [(0, 5, 'Vorname')]}),\n",
       " ('Christa', {'entities': [(0, 6, 'Vorname')]}),\n",
       " ('Marcel', {'entities': [(0, 5, 'Vorname')]}),\n",
       " ('Mark', {'entities': [(0, 3, 'Vorname')]}),\n",
       " ('Adrian', {'entities': [(0, 5, 'Vorname')]}),\n",
       " ('Martin', {'entities': [(0, 5, 'Vorname')]}),\n",
       " ('Roger', {'entities': [(0, 4, 'Vorname')]}),\n",
       " ('Peter', {'entities': [(0, 4, 'Vorname')]}),\n",
       " ('Andreas', {'entities': [(0, 6, 'Vorname')]}),\n",
       " ('Roland', {'entities': [(0, 5, 'Vorname')]}),\n",
       " ('Daniel', {'entities': [(0, 5, 'Vorname')]}),\n",
       " ('Markus', {'entities': [(0, 5, 'Vorname')]}),\n",
       " ('Stefan', {'entities': [(0, 5, 'Vorname')]}),\n",
       " ('Robin', {'entities': [(0, 4, 'Vorname')]}),\n",
       " ('Andreas', {'entities': [(0, 6, 'Vorname')]}),\n",
       " ('Roberto', {'entities': [(0, 6, 'Vorname')]}),\n",
       " ('Raphael', {'entities': [(0, 6, 'Vorname')]}),\n",
       " ('Arne', {'entities': [(0, 3, 'Vorname')]}),\n",
       " ('Peter', {'entities': [(0, 4, 'Vorname')]}),\n",
       " ('Simon', {'entities': [(0, 4, 'Vorname')]}),\n",
       " ('Werner', {'entities': [(0, 5, 'Vorname')]}),\n",
       " ('Ralf', {'entities': [(0, 3, 'Vorname')]}),\n",
       " ('Noah', {'entities': [(0, 3, 'Vorname')]}),\n",
       " ('René', {'entities': [(0, 3, 'Vorname')]}),\n",
       " ('Lukas', {'entities': [(0, 4, 'Vorname')]}),\n",
       " ('Oliver', {'entities': [(0, 5, 'Vorname')]}),\n",
       " ('Thomas', {'entities': [(0, 5, 'Vorname')]}),\n",
       " ('Andreas', {'entities': [(0, 6, 'Vorname')]}),\n",
       " ('Julia', {'entities': [(0, 4, 'Vorname')]}),\n",
       " ('Andreas', {'entities': [(0, 6, 'Vorname')]}),\n",
       " ('Guido', {'entities': [(0, 4, 'Vorname')]}),\n",
       " ('Josef', {'entities': [(0, 4, 'Vorname')]}),\n",
       " ('Jürgen', {'entities': [(0, 5, 'Vorname')]}),\n",
       " ('Wolfgang', {'entities': [(0, 7, 'Vorname')]}),\n",
       " ('Ulla', {'entities': [(0, 3, 'Vorname')]}),\n",
       " ('Johannes', {'entities': [(0, 7, 'Vorname')]}),\n",
       " ('Christian', {'entities': [(0, 8, 'Vorname')]}),\n",
       " ('Daniel', {'entities': [(0, 5, 'Vorname')]}),\n",
       " ('Bruno', {'entities': [(0, 4, 'Vorname')]}),\n",
       " ('Andreas', {'entities': [(0, 6, 'Vorname')]}),\n",
       " ('Andreas', {'entities': [(0, 6, 'Vorname')]}),\n",
       " ('Alfred', {'entities': [(0, 5, 'Vorname')]}),\n",
       " ('Adrian', {'entities': [(0, 5, 'Vorname')]}),\n",
       " ('Tobias', {'entities': [(0, 5, 'Vorname')]}),\n",
       " ('Peter E.', {'entities': [(0, 7, 'Vorname')]}),\n",
       " ('Hans-Peter', {'entities': [(0, 9, 'Vorname')]}),\n",
       " ('Brigitte', {'entities': [(0, 7, 'Vorname')]}),\n",
       " ('Patrick', {'entities': [(0, 6, 'Vorname')]}),\n",
       " ('Beatrice', {'entities': [(0, 7, 'Vorname')]}),\n",
       " ('Patrick', {'entities': [(0, 6, 'Vorname')]}),\n",
       " ('Urs', {'entities': [(0, 2, 'Vorname')]}),\n",
       " ('Adrian', {'entities': [(0, 5, 'Vorname')]}),\n",
       " ('Philipp', {'entities': [(0, 6, 'Vorname')]}),\n",
       " ('Karin', {'entities': [(0, 4, 'Vorname')]}),\n",
       " ('Lukas', {'entities': [(0, 4, 'Vorname')]}),\n",
       " ('Urs', {'entities': [(0, 2, 'Vorname')]}),\n",
       " ('Maurus', {'entities': [(0, 5, 'Vorname')]}),\n",
       " ('Markus', {'entities': [(0, 5, 'Vorname')]}),\n",
       " ('Urs', {'entities': [(0, 2, 'Vorname')]}),\n",
       " ('Viktor', {'entities': [(0, 5, 'Vorname')]}),\n",
       " ('Armin', {'entities': [(0, 4, 'Vorname')]}),\n",
       " ('Markus', {'entities': [(0, 5, 'Vorname')]}),\n",
       " ('Guido', {'entities': [(0, 4, 'Vorname')]}),\n",
       " ('Jürg Dr.', {'entities': [(0, 7, 'Vorname')]}),\n",
       " ('Hans-Peter', {'entities': [(0, 9, 'Vorname')]}),\n",
       " ('Zeno', {'entities': [(0, 3, 'Vorname')]}),\n",
       " ('Oliver', {'entities': [(0, 5, 'Vorname')]}),\n",
       " ('Maya', {'entities': [(0, 3, 'Vorname')]}),\n",
       " ('Tim Nick', {'entities': [(0, 7, 'Vorname')]}),\n",
       " ('Ueli', {'entities': [(0, 3, 'Vorname')]}),\n",
       " ('Peter E.', {'entities': [(0, 7, 'Vorname')]}),\n",
       " ('Marc', {'entities': [(0, 3, 'Vorname')]}),\n",
       " ('Franco', {'entities': [(0, 5, 'Vorname')]}),\n",
       " ('Doris', {'entities': [(0, 4, 'Vorname')]}),\n",
       " ('Franco', {'entities': [(0, 5, 'Vorname')]}),\n",
       " ('Flavio', {'entities': [(0, 5, 'Vorname')]}),\n",
       " ('Stéphane', {'entities': [(0, 7, 'Vorname')]}),\n",
       " ('Markus', {'entities': [(0, 5, 'Vorname')]}),\n",
       " ('Peter', {'entities': [(0, 4, 'Vorname')]}),\n",
       " ('Michele', {'entities': [(0, 6, 'Vorname')]}),\n",
       " ('Sabrina', {'entities': [(0, 6, 'Vorname')]}),\n",
       " ('Vincenzo', {'entities': [(0, 7, 'Vorname')]}),\n",
       " ('Nicole', {'entities': [(0, 5, 'Vorname')]}),\n",
       " ('Nicole', {'entities': [(0, 5, 'Vorname')]}),\n",
       " ('Alessandro', {'entities': [(0, 9, 'Vorname')]}),\n",
       " ('Mark', {'entities': [(0, 3, 'Vorname')]}),\n",
       " ('Christian', {'entities': [(0, 8, 'Vorname')]}),\n",
       " ('Studer', {'entities': [(0, 5, 'Vorname')]}),\n",
       " ('Ivica', {'entities': [(0, 4, 'Vorname')]}),\n",
       " ('Esther', {'entities': [(0, 5, 'Vorname')]}),\n",
       " ('Urs', {'entities': [(0, 2, 'Vorname')]}),\n",
       " ('Patrick', {'entities': [(0, 6, 'Vorname')]}),\n",
       " ('Jan P.', {'entities': [(0, 5, 'Vorname')]}),\n",
       " ('Michael', {'entities': [(0, 6, 'Vorname')]}),\n",
       " ('Martin', {'entities': [(0, 5, 'Vorname')]}),\n",
       " ('Astrid', {'entities': [(0, 5, 'Vorname')]}),\n",
       " ('Eugen', {'entities': [(0, 4, 'Vorname')]}),\n",
       " ('Andreas', {'entities': [(0, 6, 'Vorname')]}),\n",
       " ('Rafael', {'entities': [(0, 5, 'Vorname')]}),\n",
       " ('Ernst Martin', {'entities': [(0, 11, 'Vorname')]}),\n",
       " ('Fritz', {'entities': [(0, 4, 'Vorname')]}),\n",
       " ('Patrick', {'entities': [(0, 6, 'Vorname')]}),\n",
       " ('Sophie', {'entities': [(0, 5, 'Vorname')]}),\n",
       " ('Hans-Peter', {'entities': [(0, 9, 'Vorname')]}),\n",
       " ('Linda', {'entities': [(0, 4, 'Vorname')]}),\n",
       " ('Stefan', {'entities': [(0, 5, 'Vorname')]}),\n",
       " ('Jürg', {'entities': [(0, 3, 'Vorname')]}),\n",
       " ('Rico', {'entities': [(0, 3, 'Vorname')]}),\n",
       " ('Matthias', {'entities': [(0, 7, 'Vorname')]}),\n",
       " ('Ivo', {'entities': [(0, 2, 'Vorname')]}),\n",
       " ('Daniel', {'entities': [(0, 5, 'Vorname')]}),\n",
       " ('Thorsten+Melanie', {'entities': [(0, 15, 'Vorname')]}),\n",
       " ('Corinne', {'entities': [(0, 6, 'Vorname')]}),\n",
       " ('Jennifer', {'entities': [(0, 7, 'Vorname')]}),\n",
       " ('Guido', {'entities': [(0, 4, 'Vorname')]}),\n",
       " ('Barbara', {'entities': [(0, 6, 'Vorname')]}),\n",
       " ('Peter', {'entities': [(0, 4, 'Vorname')]}),\n",
       " ('Urs', {'entities': [(0, 2, 'Vorname')]}),\n",
       " ('Angelica', {'entities': [(0, 7, 'Vorname')]}),\n",
       " ('Astrid', {'entities': [(0, 5, 'Vorname')]}),\n",
       " ('Roger', {'entities': [(0, 4, 'Vorname')]}),\n",
       " ('Patrick', {'entities': [(0, 6, 'Vorname')]}),\n",
       " ('Ruedi', {'entities': [(0, 4, 'Vorname')]}),\n",
       " ('Marco', {'entities': [(0, 4, 'Vorname')]}),\n",
       " ('Remo', {'entities': [(0, 3, 'Vorname')]}),\n",
       " ('Oliver', {'entities': [(0, 5, 'Vorname')]}),\n",
       " ('Denise', {'entities': [(0, 5, 'Vorname')]}),\n",
       " ('Frédéric', {'entities': [(0, 7, 'Vorname')]}),\n",
       " ('Tommy', {'entities': [(0, 4, 'Vorname')]}),\n",
       " ('Peter', {'entities': [(0, 4, 'Vorname')]}),\n",
       " ('Daniel', {'entities': [(0, 5, 'Vorname')]}),\n",
       " ('Rolf', {'entities': [(0, 3, 'Vorname')]}),\n",
       " ('Tanja', {'entities': [(0, 4, 'Vorname')]}),\n",
       " ('Marc R.', {'entities': [(0, 6, 'Vorname')]}),\n",
       " ('Hilmar', {'entities': [(0, 5, 'Vorname')]}),\n",
       " ('Reto', {'entities': [(0, 3, 'Vorname')]}),\n",
       " ('Barbara', {'entities': [(0, 6, 'Vorname')]}),\n",
       " ('Bernhard', {'entities': [(0, 7, 'Vorname')]}),\n",
       " ('Thomas', {'entities': [(0, 5, 'Vorname')]}),\n",
       " ('Pascal', {'entities': [(0, 5, 'Vorname')]}),\n",
       " ('Ramona', {'entities': [(0, 5, 'Vorname')]}),\n",
       " ('Christian', {'entities': [(0, 8, 'Vorname')]}),\n",
       " ('Manuela', {'entities': [(0, 6, 'Vorname')]}),\n",
       " ('Felix', {'entities': [(0, 4, 'Vorname')]}),\n",
       " ('Hedy', {'entities': [(0, 3, 'Vorname')]}),\n",
       " ('Konrad', {'entities': [(0, 5, 'Vorname')]}),\n",
       " ('Felix', {'entities': [(0, 4, 'Vorname')]}),\n",
       " ('Michael', {'entities': [(0, 6, 'Vorname')]}),\n",
       " ('Markus J.', {'entities': [(0, 8, 'Vorname')]}),\n",
       " ('Jonas', {'entities': [(0, 4, 'Vorname')]}),\n",
       " ('Thomas', {'entities': [(0, 5, 'Vorname')]}),\n",
       " ('Beat', {'entities': [(0, 3, 'Vorname')]}),\n",
       " ('Leo', {'entities': [(0, 2, 'Vorname')]}),\n",
       " ('Roland', {'entities': [(0, 5, 'Vorname')]}),\n",
       " ('Joëlle', {'entities': [(0, 5, 'Vorname')]}),\n",
       " ('Maria', {'entities': [(0, 4, 'Vorname')]}),\n",
       " ('Adrian', {'entities': [(0, 5, 'Vorname')]}),\n",
       " ('René', {'entities': [(0, 3, 'Vorname')]}),\n",
       " ('Roland', {'entities': [(0, 5, 'Vorname')]}),\n",
       " ('Jürg', {'entities': [(0, 3, 'Vorname')]}),\n",
       " ('Roland', {'entities': [(0, 5, 'Vorname')]}),\n",
       " ('Petra', {'entities': [(0, 4, 'Vorname')]}),\n",
       " ('Urs', {'entities': [(0, 2, 'Vorname')]}),\n",
       " ('Erwin', {'entities': [(0, 4, 'Vorname')]}),\n",
       " ('Andreas', {'entities': [(0, 6, 'Vorname')]}),\n",
       " ('Anton', {'entities': [(0, 4, 'Vorname')]}),\n",
       " ('Balz', {'entities': [(0, 3, 'Vorname')]}),\n",
       " ('Daniel', {'entities': [(0, 5, 'Vorname')]}),\n",
       " ('Fredy', {'entities': [(0, 4, 'Vorname')]}),\n",
       " ('Petra', {'entities': [(0, 4, 'Vorname')]}),\n",
       " ('Lis', {'entities': [(0, 2, 'Vorname')]}),\n",
       " ('Christoph', {'entities': [(0, 8, 'Vorname')]}),\n",
       " ('Gerhard', {'entities': [(0, 6, 'Vorname')]}),\n",
       " ('Mike', {'entities': [(0, 3, 'Vorname')]}),\n",
       " ('Patrick', {'entities': [(0, 6, 'Vorname')]}),\n",
       " ('Philippe', {'entities': [(0, 7, 'Vorname')]}),\n",
       " ('Peter', {'entities': [(0, 4, 'Vorname')]}),\n",
       " ('Tanja', {'entities': [(0, 4, 'Vorname')]}),\n",
       " ('Michael', {'entities': [(0, 6, 'Vorname')]}),\n",
       " ('Dieter', {'entities': [(0, 5, 'Vorname')]}),\n",
       " ('Felix', {'entities': [(0, 4, 'Vorname')]}),\n",
       " ('Dirk', {'entities': [(0, 3, 'Vorname')]}),\n",
       " ('Richard', {'entities': [(0, 6, 'Vorname')]}),\n",
       " ('Thomas', {'entities': [(0, 5, 'Vorname')]}),\n",
       " ('Stefanie', {'entities': [(0, 7, 'Vorname')]}),\n",
       " ('Beat', {'entities': [(0, 3, 'Vorname')]}),\n",
       " ('Emmanuel', {'entities': [(0, 7, 'Vorname')]}),\n",
       " ('Klaus', {'entities': [(0, 4, 'Vorname')]}),\n",
       " ('Robert', {'entities': [(0, 5, 'Vorname')]}),\n",
       " ('Sascha', {'entities': [(0, 5, 'Vorname')]}),\n",
       " ('Felix', {'entities': [(0, 4, 'Vorname')]}),\n",
       " ('Reto', {'entities': [(0, 3, 'Vorname')]}),\n",
       " ('Brigitte', {'entities': [(0, 7, 'Vorname')]}),\n",
       " ('Clemens', {'entities': [(0, 6, 'Vorname')]}),\n",
       " ('Raymond', {'entities': [(0, 6, 'Vorname')]}),\n",
       " ('Marcel', {'entities': [(0, 5, 'Vorname')]}),\n",
       " ('Maurus', {'entities': [(0, 5, 'Vorname')]}),\n",
       " ('Maurus', {'entities': [(0, 5, 'Vorname')]}),\n",
       " ('Daniel', {'entities': [(0, 5, 'Vorname')]}),\n",
       " ('Peter', {'entities': [(0, 4, 'Vorname')]}),\n",
       " ('Paul J.', {'entities': [(0, 6, 'Vorname')]}),\n",
       " ('Hugues', {'entities': [(0, 5, 'Vorname')]}),\n",
       " ('Mike', {'entities': [(0, 3, 'Vorname')]}),\n",
       " ('Markus', {'entities': [(0, 5, 'Vorname')]}),\n",
       " ('Samuel', {'entities': [(0, 5, 'Vorname')]}),\n",
       " ('Cloe', {'entities': [(0, 3, 'Vorname')]}),\n",
       " ('Reto', {'entities': [(0, 3, 'Vorname')]}),\n",
       " ('Bruno', {'entities': [(0, 4, 'Vorname')]}),\n",
       " ('Mario', {'entities': [(0, 4, 'Vorname')]}),\n",
       " ('Matthias', {'entities': [(0, 7, 'Vorname')]}),\n",
       " ('Roland', {'entities': [(0, 5, 'Vorname')]}),\n",
       " ('Marco', {'entities': [(0, 4, 'Vorname')]}),\n",
       " ('Heinz', {'entities': [(0, 4, 'Vorname')]}),\n",
       " ('Urs', {'entities': [(0, 2, 'Vorname')]}),\n",
       " ('Horst', {'entities': [(0, 4, 'Vorname')]}),\n",
       " ('Georg', {'entities': [(0, 4, 'Vorname')]}),\n",
       " ('Roger', {'entities': [(0, 4, 'Vorname')]}),\n",
       " ('Manuela', {'entities': [(0, 6, 'Vorname')]}),\n",
       " ('Marco', {'entities': [(0, 4, 'Vorname')]}),\n",
       " ('Daniel C.', {'entities': [(0, 8, 'Vorname')]}),\n",
       " ('Herbert', {'entities': [(0, 6, 'Vorname')]}),\n",
       " ('Katarina', {'entities': [(0, 7, 'Vorname')]}),\n",
       " ('Hans', {'entities': [(0, 3, 'Vorname')]}),\n",
       " ('Bruno', {'entities': [(0, 4, 'Vorname')]}),\n",
       " ('René', {'entities': [(0, 3, 'Vorname')]}),\n",
       " ('René', {'entities': [(0, 3, 'Vorname')]}),\n",
       " ('Daniel', {'entities': [(0, 5, 'Vorname')]}),\n",
       " ('Stefan', {'entities': [(0, 5, 'Vorname')]}),\n",
       " ('Urs', {'entities': [(0, 2, 'Vorname')]}),\n",
       " ('Harry', {'entities': [(0, 4, 'Vorname')]}),\n",
       " ('Adrian', {'entities': [(0, 5, 'Vorname')]}),\n",
       " ('Mike', {'entities': [(0, 3, 'Vorname')]}),\n",
       " ('Stefan', {'entities': [(0, 5, 'Vorname')]}),\n",
       " ('Karin', {'entities': [(0, 4, 'Vorname')]}),\n",
       " ('Stephan', {'entities': [(0, 6, 'Vorname')]}),\n",
       " ('Godi', {'entities': [(0, 3, 'Vorname')]}),\n",
       " ('Martin', {'entities': [(0, 5, 'Vorname')]}),\n",
       " ('Philipp', {'entities': [(0, 6, 'Vorname')]}),\n",
       " ('Peter', {'entities': [(0, 4, 'Vorname')]}),\n",
       " ('Robert', {'entities': [(0, 5, 'Vorname')]}),\n",
       " ('Stephan', {'entities': [(0, 6, 'Vorname')]}),\n",
       " ('Bruno', {'entities': [(0, 4, 'Vorname')]}),\n",
       " ('Markus', {'entities': [(0, 5, 'Vorname')]}),\n",
       " ('Eric', {'entities': [(0, 3, 'Vorname')]}),\n",
       " ('Bruno', {'entities': [(0, 4, 'Vorname')]}),\n",
       " ('Melanie', {'entities': [(0, 6, 'Vorname')]}),\n",
       " ('Michael', {'entities': [(0, 6, 'Vorname')]}),\n",
       " ('Daniel', {'entities': [(0, 5, 'Vorname')]}),\n",
       " ('Marco', {'entities': [(0, 4, 'Vorname')]}),\n",
       " ('Silvan', {'entities': [(0, 5, 'Vorname')]}),\n",
       " ('Stefan', {'entities': [(0, 5, 'Vorname')]}),\n",
       " ('Claudio', {'entities': [(0, 6, 'Vorname')]}),\n",
       " ('Christine', {'entities': [(0, 8, 'Vorname')]}),\n",
       " ('Thomas', {'entities': [(0, 5, 'Vorname')]}),\n",
       " ('Martin', {'entities': [(0, 5, 'Vorname')]}),\n",
       " ('Roger', {'entities': [(0, 4, 'Vorname')]}),\n",
       " ('Markus', {'entities': [(0, 5, 'Vorname')]}),\n",
       " ('Stefan', {'entities': [(0, 5, 'Vorname')]}),\n",
       " ('Heinrich', {'entities': [(0, 7, 'Vorname')]}),\n",
       " ('Isabel', {'entities': [(0, 5, 'Vorname')]}),\n",
       " ('Pascal', {'entities': [(0, 5, 'Vorname')]}),\n",
       " ('Pascal', {'entities': [(0, 5, 'Vorname')]}),\n",
       " ('Pascal', {'entities': [(0, 5, 'Vorname')]}),\n",
       " ('Donald', {'entities': [(0, 5, 'Vorname')]}),\n",
       " ('Marie-Therese', {'entities': [(0, 12, 'Vorname')]}),\n",
       " ('Adrian', {'entities': [(0, 5, 'Vorname')]}),\n",
       " ('André', {'entities': [(0, 4, 'Vorname')]}),\n",
       " ('Robert', {'entities': [(0, 5, 'Vorname')]}),\n",
       " ('Daniel', {'entities': [(0, 5, 'Vorname')]}),\n",
       " ('Monica', {'entities': [(0, 5, 'Vorname')]}),\n",
       " ('Benno', {'entities': [(0, 4, 'Vorname')]}),\n",
       " ('Ivan', {'entities': [(0, 3, 'Vorname')]}),\n",
       " ('Benedikt', {'entities': [(0, 7, 'Vorname')]}),\n",
       " ('Joël', {'entities': [(0, 3, 'Vorname')]}),\n",
       " ('Francoise', {'entities': [(0, 8, 'Vorname')]}),\n",
       " ('Michael', {'entities': [(0, 6, 'Vorname')]}),\n",
       " ('Patrick', {'entities': [(0, 6, 'Vorname')]}),\n",
       " ('Lukas', {'entities': [(0, 4, 'Vorname')]}),\n",
       " ('Stephan', {'entities': [(0, 6, 'Vorname')]}),\n",
       " ('Ulrike', {'entities': [(0, 5, 'Vorname')]}),\n",
       " ('Alex', {'entities': [(0, 3, 'Vorname')]}),\n",
       " ('Gaetano', {'entities': [(0, 6, 'Vorname')]}),\n",
       " ('Robert', {'entities': [(0, 5, 'Vorname')]}),\n",
       " ('Kilian', {'entities': [(0, 5, 'Vorname')]}),\n",
       " ('Claude', {'entities': [(0, 5, 'Vorname')]}),\n",
       " ('Jens', {'entities': [(0, 3, 'Vorname')]}),\n",
       " ('Christoph', {'entities': [(0, 8, 'Vorname')]}),\n",
       " ('Judith', {'entities': [(0, 5, 'Vorname')]}),\n",
       " ('Reno', {'entities': [(0, 3, 'Vorname')]}),\n",
       " ('Stefan', {'entities': [(0, 5, 'Vorname')]}),\n",
       " ('Alex', {'entities': [(0, 3, 'Vorname')]}),\n",
       " ('Elisabeth', {'entities': [(0, 8, 'Vorname')]}),\n",
       " ('Fabienne', {'entities': [(0, 7, 'Vorname')]}),\n",
       " ('Fabienne', {'entities': [(0, 7, 'Vorname')]}),\n",
       " ('René', {'entities': [(0, 3, 'Vorname')]}),\n",
       " ('Christoph', {'entities': [(0, 8, 'Vorname')]}),\n",
       " ('Kaspar', {'entities': [(0, 5, 'Vorname')]}),\n",
       " ('Marco', {'entities': [(0, 4, 'Vorname')]}),\n",
       " ('Marco', {'entities': [(0, 4, 'Vorname')]}),\n",
       " ('Martin', {'entities': [(0, 5, 'Vorname')]}),\n",
       " ('Clemente', {'entities': [(0, 7, 'Vorname')]}),\n",
       " ('Alessandro', {'entities': [(0, 9, 'Vorname')]}),\n",
       " ('Muamer', {'entities': [(0, 5, 'Vorname')]}),\n",
       " ('Jacques', {'entities': [(0, 6, 'Vorname')]}),\n",
       " ('Patrick', {'entities': [(0, 6, 'Vorname')]}),\n",
       " ('Patrick', {'entities': [(0, 6, 'Vorname')]}),\n",
       " ('Patrick', {'entities': [(0, 6, 'Vorname')]}),\n",
       " ('Philipp', {'entities': [(0, 6, 'Vorname')]}),\n",
       " ('Tobias', {'entities': [(0, 5, 'Vorname')]}),\n",
       " ('Luka', {'entities': [(0, 3, 'Vorname')]}),\n",
       " ('Simone', {'entities': [(0, 5, 'Vorname')]}),\n",
       " ('Emmanuel', {'entities': [(0, 7, 'Vorname')]}),\n",
       " ('Martin', {'entities': [(0, 5, 'Vorname')]}),\n",
       " ('Hansruedi', {'entities': [(0, 8, 'Vorname')]}),\n",
       " ('Martin', {'entities': [(0, 5, 'Vorname')]}),\n",
       " ('Lorenz', {'entities': [(0, 5, 'Vorname')]}),\n",
       " ('Bernhard', {'entities': [(0, 7, 'Vorname')]}),\n",
       " ('Erika', {'entities': [(0, 4, 'Vorname')]}),\n",
       " ('Eugenie', {'entities': [(0, 6, 'Vorname')]}),\n",
       " ('Fabrice', {'entities': [(0, 6, 'Vorname')]}),\n",
       " ('Remo', {'entities': [(0, 3, 'Vorname')]}),\n",
       " ('Jean-Luc', {'entities': [(0, 7, 'Vorname')]}),\n",
       " ('Heinz', {'entities': [(0, 4, 'Vorname')]}),\n",
       " ('Philipp', {'entities': [(0, 6, 'Vorname')]}),\n",
       " ('Peter', {'entities': [(0, 4, 'Vorname')]}),\n",
       " ('Stefan', {'entities': [(0, 5, 'Vorname')]}),\n",
       " ('Claudio', {'entities': [(0, 6, 'Vorname')]}),\n",
       " ('Stefan', {'entities': [(0, 5, 'Vorname')]}),\n",
       " ('Vito', {'entities': [(0, 3, 'Vorname')]}),\n",
       " ('Martin', {'entities': [(0, 5, 'Vorname')]}),\n",
       " ('Marcel', {'entities': [(0, 5, 'Vorname')]}),\n",
       " ('Thomas', {'entities': [(0, 5, 'Vorname')]}),\n",
       " ('Urs', {'entities': [(0, 2, 'Vorname')]}),\n",
       " ('Anne-Katrin', {'entities': [(0, 10, 'Vorname')]}),\n",
       " ('Martin', {'entities': [(0, 5, 'Vorname')]}),\n",
       " ('Thomas', {'entities': [(0, 5, 'Vorname')]}),\n",
       " ('Casimir', {'entities': [(0, 6, 'Vorname')]}),\n",
       " ('Florian', {'entities': [(0, 6, 'Vorname')]}),\n",
       " ('André', {'entities': [(0, 4, 'Vorname')]}),\n",
       " ('Brigitte', {'entities': [(0, 7, 'Vorname')]}),\n",
       " ('Alois', {'entities': [(0, 4, 'Vorname')]}),\n",
       " ('Raphael', {'entities': [(0, 6, 'Vorname')]}),\n",
       " ('Elzbieta', {'entities': [(0, 7, 'Vorname')]}),\n",
       " ('Hans', {'entities': [(0, 3, 'Vorname')]}),\n",
       " ('Thomas', {'entities': [(0, 5, 'Vorname')]}),\n",
       " ('Christof', {'entities': [(0, 7, 'Vorname')]}),\n",
       " ('Ruedi', {'entities': [(0, 4, 'Vorname')]}),\n",
       " ('Olaf', {'entities': [(0, 3, 'Vorname')]}),\n",
       " ('Max', {'entities': [(0, 2, 'Vorname')]}),\n",
       " ('Peter', {'entities': [(0, 4, 'Vorname')]}),\n",
       " ('Andi', {'entities': [(0, 3, 'Vorname')]}),\n",
       " ('Colette', {'entities': [(0, 6, 'Vorname')]}),\n",
       " ('Florian', {'entities': [(0, 6, 'Vorname')]}),\n",
       " ('Flurin', {'entities': [(0, 5, 'Vorname')]}),\n",
       " ('Christoph', {'entities': [(0, 8, 'Vorname')]}),\n",
       " ('Thomas', {'entities': [(0, 5, 'Vorname')]}),\n",
       " ('Alain', {'entities': [(0, 4, 'Vorname')]}),\n",
       " ('Rainer', {'entities': [(0, 5, 'Vorname')]}),\n",
       " ('Simon', {'entities': [(0, 4, 'Vorname')]}),\n",
       " ('Andreas', {'entities': [(0, 6, 'Vorname')]}),\n",
       " ('Peter', {'entities': [(0, 4, 'Vorname')]}),\n",
       " ('Jonas', {'entities': [(0, 4, 'Vorname')]}),\n",
       " ('Christoph', {'entities': [(0, 8, 'Vorname')]}),\n",
       " ('Daniel', {'entities': [(0, 5, 'Vorname')]}),\n",
       " ('Sarah', {'entities': [(0, 4, 'Vorname')]}),\n",
       " ('Bea', {'entities': [(0, 2, 'Vorname')]}),\n",
       " ('Daniel', {'entities': [(0, 5, 'Vorname')]}),\n",
       " ('Christian', {'entities': [(0, 8, 'Vorname')]}),\n",
       " ('David B.', {'entities': [(0, 7, 'Vorname')]}),\n",
       " ('Eveline', {'entities': [(0, 6, 'Vorname')]}),\n",
       " ('Reto', {'entities': [(0, 3, 'Vorname')]}),\n",
       " ('Ivo', {'entities': [(0, 2, 'Vorname')]}),\n",
       " ('Peter', {'entities': [(0, 4, 'Vorname')]}),\n",
       " ('Patrik', {'entities': [(0, 5, 'Vorname')]}),\n",
       " ('Pascal', {'entities': [(0, 5, 'Vorname')]}),\n",
       " ('Raymund', {'entities': [(0, 6, 'Vorname')]}),\n",
       " ('Nadine', {'entities': [(0, 5, 'Vorname')]}),\n",
       " ('Andreas', {'entities': [(0, 6, 'Vorname')]}),\n",
       " ('Hansruedi', {'entities': [(0, 8, 'Vorname')]}),\n",
       " ('Patrick', {'entities': [(0, 6, 'Vorname')]}),\n",
       " ('Bettina', {'entities': [(0, 6, 'Vorname')]}),\n",
       " ('Martin', {'entities': [(0, 5, 'Vorname')]}),\n",
       " ('Markus', {'entities': [(0, 5, 'Vorname')]}),\n",
       " ('Peter', {'entities': [(0, 4, 'Vorname')]}),\n",
       " ('Bruno', {'entities': [(0, 4, 'Vorname')]}),\n",
       " ('Heini', {'entities': [(0, 4, 'Vorname')]}),\n",
       " ('Jürg', {'entities': [(0, 3, 'Vorname')]}),\n",
       " ('Marco', {'entities': [(0, 4, 'Vorname')]}),\n",
       " ('Markus', {'entities': [(0, 5, 'Vorname')]}),\n",
       " ('Thomas', {'entities': [(0, 5, 'Vorname')]}),\n",
       " ('Bruno', {'entities': [(0, 4, 'Vorname')]}),\n",
       " ('Achim', {'entities': [(0, 4, 'Vorname')]}),\n",
       " ('Andrea', {'entities': [(0, 5, 'Vorname')]}),\n",
       " ('Andreas', {'entities': [(0, 6, 'Vorname')]}),\n",
       " ('Moritz', {'entities': [(0, 5, 'Vorname')]}),\n",
       " ('Regula', {'entities': [(0, 5, 'Vorname')]}),\n",
       " ('Sandro', {'entities': [(0, 5, 'Vorname')]}),\n",
       " ('Daniel', {'entities': [(0, 5, 'Vorname')]}),\n",
       " ('Doris', {'entities': [(0, 4, 'Vorname')]}),\n",
       " ('Christian', {'entities': [(0, 8, 'Vorname')]}),\n",
       " ('Adrian', {'entities': [(0, 5, 'Vorname')]}),\n",
       " ('Guido', {'entities': [(0, 4, 'Vorname')]}),\n",
       " ('Hans-Rudolf', {'entities': [(0, 10, 'Vorname')]}),\n",
       " ('Matthias', {'entities': [(0, 7, 'Vorname')]}),\n",
       " ('Pirmin', {'entities': [(0, 5, 'Vorname')]}),\n",
       " ('Albert', {'entities': [(0, 5, 'Vorname')]}),\n",
       " ('Caroline', {'entities': [(0, 7, 'Vorname')]}),\n",
       " ('Marcel', {'entities': [(0, 5, 'Vorname')]}),\n",
       " ('Gerda', {'entities': [(0, 4, 'Vorname')]}),\n",
       " ('Renate', {'entities': [(0, 5, 'Vorname')]}),\n",
       " ('Markus', {'entities': [(0, 5, 'Vorname')]}),\n",
       " ('André', {'entities': [(0, 4, 'Vorname')]}),\n",
       " ('Erwin', {'entities': [(0, 4, 'Vorname')]}),\n",
       " ('Dominik', {'entities': [(0, 6, 'Vorname')]}),\n",
       " ('Ernst', {'entities': [(0, 4, 'Vorname')]}),\n",
       " ('Paolo', {'entities': [(0, 4, 'Vorname')]}),\n",
       " ('Roger', {'entities': [(0, 4, 'Vorname')]}),\n",
       " ('Yvonne', {'entities': [(0, 5, 'Vorname')]}),\n",
       " ('Norbert', {'entities': [(0, 6, 'Vorname')]}),\n",
       " ('Helene', {'entities': [(0, 5, 'Vorname')]}),\n",
       " ('Remo', {'entities': [(0, 3, 'Vorname')]}),\n",
       " ('Jürg', {'entities': [(0, 3, 'Vorname')]}),\n",
       " ('Thomas', {'entities': [(0, 5, 'Vorname')]}),\n",
       " ('Marcel', {'entities': [(0, 5, 'Vorname')]}),\n",
       " ('Daniel', {'entities': [(0, 5, 'Vorname')]}),\n",
       " ('Martin', {'entities': [(0, 5, 'Vorname')]}),\n",
       " ('Beat', {'entities': [(0, 3, 'Vorname')]}),\n",
       " ('Anna', {'entities': [(0, 3, 'Vorname')]}),\n",
       " ('Dieter', {'entities': [(0, 5, 'Vorname')]}),\n",
       " ('Gertrud', {'entities': [(0, 6, 'Vorname')]}),\n",
       " ('Carsten', {'entities': [(0, 6, 'Vorname')]}),\n",
       " ('Deborah', {'entities': [(0, 6, 'Vorname')]}),\n",
       " ('Marc', {'entities': [(0, 3, 'Vorname')]}),\n",
       " ('Reto', {'entities': [(0, 3, 'Vorname')]}),\n",
       " ('Florian', {'entities': [(0, 6, 'Vorname')]}),\n",
       " ('Raoul', {'entities': [(0, 4, 'Vorname')]}),\n",
       " ('Marco', {'entities': [(0, 4, 'Vorname')]}),\n",
       " ('Dominic', {'entities': [(0, 6, 'Vorname')]}),\n",
       " ('Martin', {'entities': [(0, 5, 'Vorname')]}),\n",
       " ('Jerome', {'entities': [(0, 5, 'Vorname')]}),\n",
       " ('Rainer', {'entities': [(0, 5, 'Vorname')]}),\n",
       " ('Ludovit', {'entities': [(0, 6, 'Vorname')]}),\n",
       " ('Sylvie', {'entities': [(0, 5, 'Vorname')]}),\n",
       " ('Istvan', {'entities': [(0, 5, 'Vorname')]}),\n",
       " ('Zoltan', {'entities': [(0, 5, 'Vorname')]}),\n",
       " ('Gökan', {'entities': [(0, 4, 'Vorname')]}),\n",
       " ('Jürgen', {'entities': [(0, 5, 'Vorname')]}),\n",
       " ('Dario', {'entities': [(0, 4, 'Vorname')]}),\n",
       " ('Johann', {'entities': [(0, 5, 'Vorname')]}),\n",
       " ('Tobias', {'entities': [(0, 5, 'Vorname')]}),\n",
       " ('Bruno', {'entities': [(0, 4, 'Vorname')]}),\n",
       " ('Susanne', {'entities': [(0, 6, 'Vorname')]}),\n",
       " ('Heinz', {'entities': [(0, 4, 'Vorname')]}),\n",
       " ('Christoph', {'entities': [(0, 8, 'Vorname')]}),\n",
       " ...]"
      ]
     },
     "execution_count": 39,
     "metadata": {},
     "output_type": "execute_result"
    }
   ],
   "source": [
    "train_data"
   ]
  },
  {
   "cell_type": "markdown",
   "metadata": {},
   "source": [
    "## Set up model for training"
   ]
  },
  {
   "cell_type": "markdown",
   "metadata": {},
   "source": [
    "First, we need to split into train and test data"
   ]
  },
  {
   "cell_type": "code",
   "execution_count": 9,
   "metadata": {},
   "outputs": [
    {
     "name": "stdout",
     "output_type": "stream",
     "text": [
      "210\n"
     ]
    }
   ],
   "source": [
    "import random\n",
    "\n",
    "random.shuffle(train_data)\n",
    "cutoff = int(len(train_data)/10)\n",
    "print(cutoff)\n",
    "\n",
    "Val_DATA = train_data[:cutoff]\n",
    "TRAIN_DATA = train_data[cutoff:]"
   ]
  },
  {
   "cell_type": "code",
   "execution_count": 10,
   "metadata": {},
   "outputs": [
    {
     "data": {
      "text/plain": [
       "1890"
      ]
     },
     "execution_count": 10,
     "metadata": {},
     "output_type": "execute_result"
    }
   ],
   "source": [
    "len(TRAIN_DATA)"
   ]
  },
  {
   "cell_type": "code",
   "execution_count": 71,
   "metadata": {},
   "outputs": [
    {
     "name": "stderr",
     "output_type": "stream",
     "text": [
      " 34%|███▍      | 652/1890 [00:00<00:00, 3291.75it/s]"
     ]
    },
    {
     "name": "stdout",
     "output_type": "stream",
     "text": [
      "Skipping entity\n",
      "Skipping entity\n",
      "Skipping entity\n",
      "Skipping entity\n",
      "Skipping entity\n",
      "Skipping entity\n",
      "Skipping entity\n",
      "Skipping entity\n",
      "Skipping entity\n",
      "Skipping entity\n",
      "Skipping entity\n",
      "Skipping entity\n",
      "Skipping entity\n",
      "Skipping entity\n",
      "Skipping entity\n",
      "Skipping entity\n",
      "Skipping entity\n",
      "Skipping entity\n",
      "Skipping entity\n",
      "Skipping entity\n",
      "Skipping entity\n",
      "Skipping entity\n",
      "Skipping entity\n",
      "Skipping entity\n",
      "Skipping entity\n",
      "Skipping entity\n",
      "Skipping entity\n",
      "Skipping entity\n",
      "Skipping entity\n",
      "Skipping entity\n",
      "Skipping entity\n",
      "Skipping entity\n",
      "Skipping entity\n",
      "Skipping entity\n",
      "Skipping entity\n",
      "Skipping entity\n",
      "Skipping entity\n",
      "Skipping entity\n",
      "Skipping entity\n",
      "Skipping entity\n",
      "Skipping entity\n",
      "Skipping entity\n",
      "Skipping entity\n",
      "Skipping entity\n",
      "Skipping entity\n",
      "Skipping entity\n",
      "Skipping entity\n",
      "Skipping entity\n",
      "Skipping entity\n",
      "Skipping entity\n",
      "Skipping entity\n",
      "Skipping entity\n",
      "Skipping entity\n",
      "Skipping entity\n",
      "Skipping entity\n",
      "Skipping entity\n",
      "Skipping entity\n",
      "Skipping entity\n",
      "Skipping entity\n",
      "Skipping entity\n",
      "Skipping entity\n",
      "Skipping entity\n",
      "Skipping entity\n",
      "Skipping entity\n",
      "Skipping entity\n",
      "Skipping entity\n",
      "Skipping entity\n",
      "Skipping entity\n",
      "Skipping entity\n",
      "Skipping entity\n",
      "Skipping entity\n",
      "Skipping entity\n",
      "Skipping entity\n",
      "Skipping entity\n",
      "Skipping entity\n",
      "Skipping entity\n",
      "Skipping entity\n",
      "Skipping entity\n",
      "Skipping entity\n",
      "Skipping entity\n",
      "Skipping entity\n",
      "Skipping entity\n",
      "Skipping entity\n",
      "Skipping entity\n",
      "Skipping entity\n",
      "Skipping entity\n",
      "Skipping entity\n",
      "Skipping entity\n",
      "Skipping entity\n",
      "Skipping entity\n",
      "Skipping entity\n",
      "Skipping entity\n",
      "Skipping entity\n",
      "Skipping entity\n",
      "Skipping entity\n",
      "Skipping entity\n",
      "Skipping entity\n",
      "Skipping entity\n",
      "Skipping entity\n",
      "Skipping entity\n",
      "Skipping entity\n",
      "Skipping entity\n",
      "Skipping entity\n",
      "Skipping entity\n",
      "Skipping entity\n",
      "Skipping entity\n",
      "Skipping entity\n",
      "Skipping entity\n",
      "Skipping entity\n",
      "Skipping entity\n",
      "Skipping entity\n",
      "Skipping entity\n",
      "Skipping entity\n",
      "Skipping entity\n",
      "Skipping entity\n",
      "Skipping entity\n",
      "Skipping entity\n",
      "Skipping entity\n",
      "Skipping entity\n",
      "Skipping entity\n",
      "Skipping entity\n",
      "Skipping entity\n",
      "Skipping entity\n",
      "Skipping entity\n",
      "Skipping entity\n",
      "Skipping entity\n",
      "Skipping entity\n",
      "Skipping entity\n",
      "Skipping entity\n",
      "Skipping entity\n",
      "Skipping entity\n",
      "Skipping entity\n",
      "Skipping entity\n",
      "Skipping entity\n",
      "Skipping entity\n",
      "Skipping entity\n",
      "Skipping entity\n",
      "Skipping entity\n",
      "Skipping entity\n",
      "Skipping entity\n",
      "Skipping entity\n",
      "Skipping entity\n",
      "Skipping entity\n",
      "Skipping entity\n",
      "Skipping entity\n",
      "Skipping entity\n",
      "Skipping entity\n",
      "Skipping entity\n",
      "Skipping entity\n",
      "Skipping entity\n",
      "Skipping entity\n",
      "Skipping entity\n",
      "Skipping entity\n",
      "Skipping entity\n",
      "Skipping entity\n",
      "Skipping entity\n",
      "Skipping entity\n",
      "Skipping entity\n",
      "Skipping entity\n",
      "Skipping entity\n",
      "Skipping entity\n",
      "Skipping entity\n",
      "Skipping entity\n",
      "Skipping entity\n",
      "Skipping entity\n",
      "Skipping entity\n",
      "Skipping entity\n",
      "Skipping entity\n",
      "Skipping entity\n",
      "Skipping entity\n",
      "Skipping entity\n",
      "Skipping entity\n",
      "Skipping entity\n",
      "Skipping entity\n",
      "Skipping entity\n",
      "Skipping entity\n",
      "Skipping entity\n",
      "Skipping entity\n",
      "Skipping entity\n",
      "Skipping entity\n",
      "Skipping entity\n",
      "Skipping entity\n",
      "Skipping entity\n",
      "Skipping entity\n",
      "Skipping entity\n",
      "Skipping entity\n",
      "Skipping entity\n",
      "Skipping entity\n",
      "Skipping entity\n",
      "Skipping entity\n",
      "Skipping entity\n",
      "Skipping entity\n",
      "Skipping entity\n",
      "Skipping entity\n",
      "Skipping entity\n",
      "Skipping entity\n",
      "Skipping entity\n",
      "Skipping entity\n",
      "Skipping entity\n",
      "Skipping entity\n",
      "Skipping entity\n",
      "Skipping entity\n",
      "Skipping entity\n",
      "Skipping entity\n",
      "Skipping entity\n",
      "Skipping entity\n",
      "Skipping entity\n",
      "Skipping entity\n",
      "Skipping entity\n",
      "Skipping entity\n",
      "Skipping entity\n",
      "Skipping entity\n",
      "Skipping entity\n",
      "Skipping entity\n",
      "Skipping entity\n",
      "Skipping entity\n",
      "Skipping entity\n",
      "Skipping entity\n",
      "Skipping entity\n",
      "Skipping entity\n",
      "Skipping entity\n",
      "Skipping entity\n",
      "Skipping entity\n",
      "Skipping entity\n",
      "Skipping entity\n",
      "Skipping entity\n",
      "Skipping entity\n",
      "Skipping entity\n",
      "Skipping entity\n",
      "Skipping entity\n",
      "Skipping entity\n",
      "Skipping entity\n",
      "Skipping entity\n",
      "Skipping entity\n",
      "Skipping entity\n",
      "Skipping entity\n",
      "Skipping entity\n",
      "Skipping entity\n",
      "Skipping entity\n",
      "Skipping entity\n",
      "Skipping entity\n",
      "Skipping entity\n",
      "Skipping entity\n",
      "Skipping entity\n",
      "Skipping entity\n",
      "Skipping entity\n",
      "Skipping entity\n",
      "Skipping entity\n",
      "Skipping entity\n",
      "Skipping entity\n",
      "Skipping entity\n",
      "Skipping entity\n",
      "Skipping entity\n",
      "Skipping entity\n",
      "Skipping entity\n",
      "Skipping entity\n",
      "Skipping entity\n",
      "Skipping entity\n",
      "Skipping entity\n",
      "Skipping entity\n",
      "Skipping entity\n",
      "Skipping entity\n",
      "Skipping entity\n",
      "Skipping entity\n",
      "Skipping entity\n",
      "Skipping entity\n",
      "Skipping entity\n",
      "Skipping entity\n",
      "Skipping entity\n",
      "Skipping entity\n",
      "Skipping entity\n",
      "Skipping entity\n",
      "Skipping entity\n",
      "Skipping entity\n",
      "Skipping entity\n",
      "Skipping entity\n",
      "Skipping entity\n",
      "Skipping entity\n",
      "Skipping entity\n",
      "Skipping entity\n",
      "Skipping entity\n",
      "Skipping entity\n",
      "Skipping entity\n",
      "Skipping entity\n",
      "Skipping entity\n",
      "Skipping entity\n",
      "Skipping entity\n",
      "Skipping entity\n",
      "Skipping entity\n",
      "Skipping entity\n",
      "Skipping entity\n",
      "Skipping entity\n",
      "Skipping entity\n",
      "Skipping entity\n",
      "Skipping entity\n",
      "Skipping entity\n",
      "Skipping entity\n",
      "Skipping entity\n",
      "Skipping entity\n",
      "Skipping entity\n",
      "Skipping entity\n",
      "Skipping entity\n",
      "Skipping entity\n",
      "Skipping entity\n",
      "Skipping entity\n",
      "Skipping entity\n",
      "Skipping entity\n",
      "Skipping entity\n",
      "Skipping entity\n",
      "Skipping entity\n",
      "Skipping entity\n",
      "Skipping entity\n",
      "Skipping entity\n",
      "Skipping entity\n",
      "Skipping entity\n",
      "Skipping entity\n",
      "Skipping entity\n",
      "Skipping entity\n",
      "Skipping entity\n",
      "Skipping entity\n",
      "Skipping entity\n",
      "Skipping entity\n",
      "Skipping entity\n",
      "Skipping entity\n",
      "Skipping entity\n",
      "Skipping entity\n",
      "Skipping entity\n",
      "Skipping entity\n",
      "Skipping entity\n",
      "Skipping entity\n",
      "Skipping entity\n",
      "Skipping entity\n",
      "Skipping entity\n",
      "Skipping entity\n",
      "Skipping entity\n",
      "Skipping entity\n",
      "Skipping entity\n",
      "Skipping entity\n",
      "Skipping entity\n",
      "Skipping entity\n",
      "Skipping entity\n",
      "Skipping entity\n",
      "Skipping entity\n",
      "Skipping entity\n",
      "Skipping entity\n",
      "Skipping entity\n",
      "Skipping entity\n",
      "Skipping entity\n",
      "Skipping entity\n",
      "Skipping entity\n",
      "Skipping entity\n",
      "Skipping entity\n",
      "Skipping entity\n",
      "Skipping entity\n",
      "Skipping entity\n",
      "Skipping entity\n",
      "Skipping entity\n",
      "Skipping entity\n",
      "Skipping entity\n",
      "Skipping entity\n",
      "Skipping entity\n",
      "Skipping entity\n",
      "Skipping entity\n",
      "Skipping entity\n",
      "Skipping entity\n",
      "Skipping entity\n",
      "Skipping entity\n",
      "Skipping entity\n",
      "Skipping entity\n",
      "Skipping entity\n",
      "Skipping entity\n",
      "Skipping entity\n",
      "Skipping entity\n",
      "Skipping entity\n",
      "Skipping entity\n",
      "Skipping entity\n",
      "Skipping entity\n",
      "Skipping entity\n",
      "Skipping entity\n",
      "Skipping entity\n",
      "Skipping entity\n",
      "Skipping entity\n",
      "Skipping entity\n",
      "Skipping entity\n",
      "Skipping entity\n",
      "Skipping entity\n",
      "Skipping entity\n",
      "Skipping entity\n",
      "Skipping entity\n",
      "Skipping entity\n",
      "Skipping entity\n",
      "Skipping entity\n",
      "Skipping entity\n",
      "Skipping entity\n",
      "Skipping entity\n",
      "Skipping entity\n",
      "Skipping entity\n",
      "Skipping entity\n",
      "Skipping entity\n",
      "Skipping entity\n",
      "Skipping entity\n",
      "Skipping entity\n",
      "Skipping entity\n",
      "Skipping entity\n",
      "Skipping entity\n",
      "Skipping entity\n",
      "Skipping entity\n",
      "Skipping entity\n",
      "Skipping entity\n",
      "Skipping entity\n",
      "Skipping entity\n",
      "Skipping entity\n",
      "Skipping entity\n",
      "Skipping entity\n",
      "Skipping entity\n",
      "Skipping entity\n",
      "Skipping entity\n",
      "Skipping entity\n",
      "Skipping entity\n",
      "Skipping entity\n",
      "Skipping entity\n",
      "Skipping entity\n",
      "Skipping entity\n",
      "Skipping entity\n",
      "Skipping entity\n",
      "Skipping entity\n",
      "Skipping entity\n",
      "Skipping entity\n",
      "Skipping entity\n",
      "Skipping entity\n",
      "Skipping entity\n",
      "Skipping entity\n",
      "Skipping entity\n",
      "Skipping entity\n",
      "Skipping entity\n",
      "Skipping entity\n",
      "Skipping entity\n",
      "Skipping entity\n",
      "Skipping entity\n",
      "Skipping entity\n",
      "Skipping entity\n",
      "Skipping entity\n",
      "Skipping entity\n",
      "Skipping entity\n",
      "Skipping entity\n",
      "Skipping entity\n",
      "Skipping entity\n",
      "Skipping entity\n",
      "Skipping entity\n",
      "Skipping entity\n",
      "Skipping entity\n",
      "Skipping entity\n",
      "Skipping entity\n",
      "Skipping entity\n",
      "Skipping entity\n",
      "Skipping entity\n",
      "Skipping entity\n",
      "Skipping entity\n",
      "Skipping entity\n",
      "Skipping entity\n",
      "Skipping entity\n",
      "Skipping entity\n",
      "Skipping entity\n",
      "Skipping entity\n",
      "Skipping entity\n",
      "Skipping entity\n",
      "Skipping entity\n",
      "Skipping entity\n",
      "Skipping entity\n",
      "Skipping entity\n",
      "Skipping entity\n",
      "Skipping entity\n",
      "Skipping entity\n",
      "Skipping entity\n",
      "Skipping entity\n",
      "Skipping entity\n",
      "Skipping entity\n",
      "Skipping entity\n",
      "Skipping entity\n",
      "Skipping entity\n",
      "Skipping entity\n",
      "Skipping entity\n",
      "Skipping entity\n",
      "Skipping entity\n",
      "Skipping entity\n",
      "Skipping entity\n",
      "Skipping entity\n",
      "Skipping entity\n",
      "Skipping entity\n",
      "Skipping entity\n",
      "Skipping entity\n",
      "Skipping entity\n",
      "Skipping entity\n",
      "Skipping entity\n",
      "Skipping entity\n",
      "Skipping entity\n",
      "Skipping entity\n",
      "Skipping entity\n",
      "Skipping entity\n",
      "Skipping entity\n",
      "Skipping entity\n",
      "Skipping entity\n",
      "Skipping entity\n",
      "Skipping entity\n",
      "Skipping entity\n",
      "Skipping entity\n",
      "Skipping entity\n",
      "Skipping entity\n",
      "Skipping entity\n",
      "Skipping entity\n",
      "Skipping entity\n",
      "Skipping entity\n",
      "Skipping entity\n",
      "Skipping entity\n",
      "Skipping entity\n",
      "Skipping entity"
     ]
    },
    {
     "name": "stderr",
     "output_type": "stream",
     "text": [
      "\r",
      " 53%|█████▎    | 1002/1890 [00:00<00:00, 3371.47it/s]"
     ]
    },
    {
     "name": "stdout",
     "output_type": "stream",
     "text": [
      "\n",
      "Skipping entity\n",
      "Skipping entity\n",
      "Skipping entity\n",
      "Skipping entity\n",
      "Skipping entity\n",
      "Skipping entity\n",
      "Skipping entity\n",
      "Skipping entity\n",
      "Skipping entity\n",
      "Skipping entity\n",
      "Skipping entity\n",
      "Skipping entity\n",
      "Skipping entity\n",
      "Skipping entity\n",
      "Skipping entity\n",
      "Skipping entity\n",
      "Skipping entity\n",
      "Skipping entity\n",
      "Skipping entity\n",
      "Skipping entity\n",
      "Skipping entity\n",
      "Skipping entity\n",
      "Skipping entity\n",
      "Skipping entity\n",
      "Skipping entity\n",
      "Skipping entity\n",
      "Skipping entity\n",
      "Skipping entity\n",
      "Skipping entity\n",
      "Skipping entity\n",
      "Skipping entity\n",
      "Skipping entity\n",
      "Skipping entity\n",
      "Skipping entity\n",
      "Skipping entity\n",
      "Skipping entity\n",
      "Skipping entity\n",
      "Skipping entity\n",
      "Skipping entity\n",
      "Skipping entity\n",
      "Skipping entity\n",
      "Skipping entity\n",
      "Skipping entity\n",
      "Skipping entity\n",
      "Skipping entity\n",
      "Skipping entity\n",
      "Skipping entity\n",
      "Skipping entity\n",
      "Skipping entity\n",
      "Skipping entity\n",
      "Skipping entity\n",
      "Skipping entity\n",
      "Skipping entity\n",
      "Skipping entity\n",
      "Skipping entity\n",
      "Skipping entity\n",
      "Skipping entity\n",
      "Skipping entity\n",
      "Skipping entity\n",
      "Skipping entity\n",
      "Skipping entity\n",
      "Skipping entity\n",
      "Skipping entity\n",
      "Skipping entity\n",
      "Skipping entity\n",
      "Skipping entity\n",
      "Skipping entity\n",
      "Skipping entity\n",
      "Skipping entity\n",
      "Skipping entity\n",
      "Skipping entity\n",
      "Skipping entity\n",
      "Skipping entity\n",
      "Skipping entity\n",
      "Skipping entity\n",
      "Skipping entity\n",
      "Skipping entity\n",
      "Skipping entity\n",
      "Skipping entity\n",
      "Skipping entity\n",
      "Skipping entity\n",
      "Skipping entity\n",
      "Skipping entity\n",
      "Skipping entity\n",
      "Skipping entity\n",
      "Skipping entity\n",
      "Skipping entity\n",
      "Skipping entity\n",
      "Skipping entity\n",
      "Skipping entity\n",
      "Skipping entity\n",
      "Skipping entity\n",
      "Skipping entity\n",
      "Skipping entity\n",
      "Skipping entity\n",
      "Skipping entity\n",
      "Skipping entity\n",
      "Skipping entity\n",
      "Skipping entity\n",
      "Skipping entity\n",
      "Skipping entity\n",
      "Skipping entity\n",
      "Skipping entity\n",
      "Skipping entity\n",
      "Skipping entity\n",
      "Skipping entity\n",
      "Skipping entity\n",
      "Skipping entity\n",
      "Skipping entity\n",
      "Skipping entity\n",
      "Skipping entity\n",
      "Skipping entity\n",
      "Skipping entity\n",
      "Skipping entity\n",
      "Skipping entity\n",
      "Skipping entity\n",
      "Skipping entity\n",
      "Skipping entity\n",
      "Skipping entity\n",
      "Skipping entity\n",
      "Skipping entity\n",
      "Skipping entity\n",
      "Skipping entity\n",
      "Skipping entity\n",
      "Skipping entity\n",
      "Skipping entity\n",
      "Skipping entity\n",
      "Skipping entity\n",
      "Skipping entity\n",
      "Skipping entity\n",
      "Skipping entity\n",
      "Skipping entity\n",
      "Skipping entity\n",
      "Skipping entity\n",
      "Skipping entity\n",
      "Skipping entity\n",
      "Skipping entity\n",
      "Skipping entity\n",
      "Skipping entity\n",
      "Skipping entity\n",
      "Skipping entity\n",
      "Skipping entity\n",
      "Skipping entity\n",
      "Skipping entity\n",
      "Skipping entity\n",
      "Skipping entity\n",
      "Skipping entity\n",
      "Skipping entity\n",
      "Skipping entity\n",
      "Skipping entity\n",
      "Skipping entity\n",
      "Skipping entity\n",
      "Skipping entity\n",
      "Skipping entity\n",
      "Skipping entity\n",
      "Skipping entity\n",
      "Skipping entity\n",
      "Skipping entity\n",
      "Skipping entity\n",
      "Skipping entity\n",
      "Skipping entity\n",
      "Skipping entity\n",
      "Skipping entity\n",
      "Skipping entity\n",
      "Skipping entity\n",
      "Skipping entity\n",
      "Skipping entity\n",
      "Skipping entity\n",
      "Skipping entity\n",
      "Skipping entity\n",
      "Skipping entity\n",
      "Skipping entity\n",
      "Skipping entity\n",
      "Skipping entity\n",
      "Skipping entity\n",
      "Skipping entity\n",
      "Skipping entity\n",
      "Skipping entity\n",
      "Skipping entity\n",
      "Skipping entity\n",
      "Skipping entity\n",
      "Skipping entity\n",
      "Skipping entity\n",
      "Skipping entity\n",
      "Skipping entity\n",
      "Skipping entity\n",
      "Skipping entity\n",
      "Skipping entity\n",
      "Skipping entity\n",
      "Skipping entity\n",
      "Skipping entity\n",
      "Skipping entity\n",
      "Skipping entity\n",
      "Skipping entity\n",
      "Skipping entity\n",
      "Skipping entity\n",
      "Skipping entity\n",
      "Skipping entity\n",
      "Skipping entity\n",
      "Skipping entity\n",
      "Skipping entity\n",
      "Skipping entity\n",
      "Skipping entity\n",
      "Skipping entity\n",
      "Skipping entity\n",
      "Skipping entity\n",
      "Skipping entity\n",
      "Skipping entity\n",
      "Skipping entity\n",
      "Skipping entity\n",
      "Skipping entity\n",
      "Skipping entity\n",
      "Skipping entity\n",
      "Skipping entity\n",
      "Skipping entity\n",
      "Skipping entity\n",
      "Skipping entity\n",
      "Skipping entity\n",
      "Skipping entity\n",
      "Skipping entity\n",
      "Skipping entity\n",
      "Skipping entity\n",
      "Skipping entity\n",
      "Skipping entity\n",
      "Skipping entity\n",
      "Skipping entity\n",
      "Skipping entity\n",
      "Skipping entity\n",
      "Skipping entity\n",
      "Skipping entity\n",
      "Skipping entity\n",
      "Skipping entity\n",
      "Skipping entity\n",
      "Skipping entity\n",
      "Skipping entity\n",
      "Skipping entity\n",
      "Skipping entity\n",
      "Skipping entity\n",
      "Skipping entity\n",
      "Skipping entity\n",
      "Skipping entity\n",
      "Skipping entity\n",
      "Skipping entity\n",
      "Skipping entity\n",
      "Skipping entity\n",
      "Skipping entity\n",
      "Skipping entity\n",
      "Skipping entity\n",
      "Skipping entity\n",
      "Skipping entity\n",
      "Skipping entity\n",
      "Skipping entity\n",
      "Skipping entity\n",
      "Skipping entity\n",
      "Skipping entity\n",
      "Skipping entity\n",
      "Skipping entity\n",
      "Skipping entity\n",
      "Skipping entity\n",
      "Skipping entity\n",
      "Skipping entity\n",
      "Skipping entity\n",
      "Skipping entity\n",
      "Skipping entity\n",
      "Skipping entity\n",
      "Skipping entity\n",
      "Skipping entity\n",
      "Skipping entity\n",
      "Skipping entity\n",
      "Skipping entity\n",
      "Skipping entity\n",
      "Skipping entity\n",
      "Skipping entity\n",
      "Skipping entity\n",
      "Skipping entity\n",
      "Skipping entity\n",
      "Skipping entity\n",
      "Skipping entity\n",
      "Skipping entity\n",
      "Skipping entity\n",
      "Skipping entity\n",
      "Skipping entity\n",
      "Skipping entity\n",
      "Skipping entity\n",
      "Skipping entity\n",
      "Skipping entity\n",
      "Skipping entity\n",
      "Skipping entity\n",
      "Skipping entity\n",
      "Skipping entity\n",
      "Skipping entity\n",
      "Skipping entity\n",
      "Skipping entity\n",
      "Skipping entity\n",
      "Skipping entity\n",
      "Skipping entity\n",
      "Skipping entity\n",
      "Skipping entity\n",
      "Skipping entity\n",
      "Skipping entity\n",
      "Skipping entity\n",
      "Skipping entity\n",
      "Skipping entity\n",
      "Skipping entity\n",
      "Skipping entity\n",
      "Skipping entity\n",
      "Skipping entity\n",
      "Skipping entity\n",
      "Skipping entity\n",
      "Skipping entity\n",
      "Skipping entity\n",
      "Skipping entity\n",
      "Skipping entity\n",
      "Skipping entity\n",
      "Skipping entity\n",
      "Skipping entity\n",
      "Skipping entity\n",
      "Skipping entity\n",
      "Skipping entity\n",
      "Skipping entity\n",
      "Skipping entity\n",
      "Skipping entity\n",
      "Skipping entity\n",
      "Skipping entity\n",
      "Skipping entity\n",
      "Skipping entity\n",
      "Skipping entity\n",
      "Skipping entity\n",
      "Skipping entity\n",
      "Skipping entity\n",
      "Skipping entity\n",
      "Skipping entity\n",
      "Skipping entity\n",
      "Skipping entity\n",
      "Skipping entity\n",
      "Skipping entity\n",
      "Skipping entity\n",
      "Skipping entity\n",
      "Skipping entity\n",
      "Skipping entity\n",
      "Skipping entity\n",
      "Skipping entity\n",
      "Skipping entity\n",
      "Skipping entity\n",
      "Skipping entity\n",
      "Skipping entity\n",
      "Skipping entity\n",
      "Skipping entity\n",
      "Skipping entity\n",
      "Skipping entity\n",
      "Skipping entity\n",
      "Skipping entity\n",
      "Skipping entity\n",
      "Skipping entity\n",
      "Skipping entity\n",
      "Skipping entity\n",
      "Skipping entity\n",
      "Skipping entity\n",
      "Skipping entity\n",
      "Skipping entity\n",
      "Skipping entity\n",
      "Skipping entity\n",
      "Skipping entity\n",
      "Skipping entity\n",
      "Skipping entity\n",
      "Skipping entity\n",
      "Skipping entity\n",
      "Skipping entity\n",
      "Skipping entity\n",
      "Skipping entity\n",
      "Skipping entity\n",
      "Skipping entity\n",
      "Skipping entity\n",
      "Skipping entity\n",
      "Skipping entity\n",
      "Skipping entity\n",
      "Skipping entity\n",
      "Skipping entity\n",
      "Skipping entity\n",
      "Skipping entity\n",
      "Skipping entity\n",
      "Skipping entity\n",
      "Skipping entity\n",
      "Skipping entity\n",
      "Skipping entity\n",
      "Skipping entity\n",
      "Skipping entity\n",
      "Skipping entity\n",
      "Skipping entity\n",
      "Skipping entity\n",
      "Skipping entity\n",
      "Skipping entity\n",
      "Skipping entity\n",
      "Skipping entity\n",
      "Skipping entity\n",
      "Skipping entity\n",
      "Skipping entity\n",
      "Skipping entity\n",
      "Skipping entity\n",
      "Skipping entity\n",
      "Skipping entity\n",
      "Skipping entity\n",
      "Skipping entity\n",
      "Skipping entity\n",
      "Skipping entity\n",
      "Skipping entity\n",
      "Skipping entity\n",
      "Skipping entity\n",
      "Skipping entity\n",
      "Skipping entity\n",
      "Skipping entity\n",
      "Skipping entity\n",
      "Skipping entity\n",
      "Skipping entity\n",
      "Skipping entity\n",
      "Skipping entity\n",
      "Skipping entity\n",
      "Skipping entity\n",
      "Skipping entity\n",
      "Skipping entity\n",
      "Skipping entity\n",
      "Skipping entity\n",
      "Skipping entity\n",
      "Skipping entity\n",
      "Skipping entity\n",
      "Skipping entity\n",
      "Skipping entity\n",
      "Skipping entity\n",
      "Skipping entity\n",
      "Skipping entity\n",
      "Skipping entity\n",
      "Skipping entity\n",
      "Skipping entity\n",
      "Skipping entity\n",
      "Skipping entity\n",
      "Skipping entity\n",
      "Skipping entity\n",
      "Skipping entity\n",
      "Skipping entity\n",
      "Skipping entity\n",
      "Skipping entity\n",
      "Skipping entity\n",
      "Skipping entity\n",
      "Skipping entity\n",
      "Skipping entity\n",
      "Skipping entity\n",
      "Skipping entity\n",
      "Skipping entity\n",
      "Skipping entity\n",
      "Skipping entity\n",
      "Skipping entity\n",
      "Skipping entity\n",
      "Skipping entity\n",
      "Skipping entity\n",
      "Skipping entity\n",
      "Skipping entity\n",
      "Skipping entity\n",
      "Skipping entity\n",
      "Skipping entity\n",
      "Skipping entity\n",
      "Skipping entity\n",
      "Skipping entity\n",
      "Skipping entity\n",
      "Skipping entity\n",
      "Skipping entity\n",
      "Skipping entity\n",
      "Skipping entity\n",
      "Skipping entity\n",
      "Skipping entity\n",
      "Skipping entity\n",
      "Skipping entity\n",
      "Skipping entity\n",
      "Skipping entity\n",
      "Skipping entity\n",
      "Skipping entity\n",
      "Skipping entity\n",
      "Skipping entity\n",
      "Skipping entity\n",
      "Skipping entity\n",
      "Skipping entity\n",
      "Skipping entity\n",
      "Skipping entity\n",
      "Skipping entity\n",
      "Skipping entity\n",
      "Skipping entity\n",
      "Skipping entity\n",
      "Skipping entity\n",
      "Skipping entity\n",
      "Skipping entity\n",
      "Skipping entity\n",
      "Skipping entity\n",
      "Skipping entity\n",
      "Skipping entity\n",
      "Skipping entity\n",
      "Skipping entity\n",
      "Skipping entity\n",
      "Skipping entity\n",
      "Skipping entity\n",
      "Skipping entity\n",
      "Skipping entity\n",
      "Skipping entity\n",
      "Skipping entity\n",
      "Skipping entity\n",
      "Skipping entity\n",
      "Skipping entity"
     ]
    },
    {
     "name": "stderr",
     "output_type": "stream",
     "text": [
      " 90%|████████▉ | 1692/1890 [00:00<00:00, 2722.99it/s]"
     ]
    },
    {
     "name": "stdout",
     "output_type": "stream",
     "text": [
      "\n",
      "Skipping entity\n",
      "Skipping entity\n",
      "Skipping entity\n",
      "Skipping entity\n",
      "Skipping entity\n",
      "Skipping entity\n",
      "Skipping entity\n",
      "Skipping entity\n",
      "Skipping entity\n",
      "Skipping entity\n",
      "Skipping entity\n",
      "Skipping entity\n",
      "Skipping entity\n",
      "Skipping entity\n",
      "Skipping entity\n",
      "Skipping entity\n",
      "Skipping entity\n",
      "Skipping entity\n",
      "Skipping entity\n",
      "Skipping entity\n",
      "Skipping entity\n",
      "Skipping entity\n",
      "Skipping entity\n",
      "Skipping entity\n",
      "Skipping entity\n",
      "Skipping entity\n",
      "Skipping entity\n",
      "Skipping entity\n",
      "Skipping entity\n",
      "Skipping entity\n",
      "Skipping entity\n",
      "Skipping entity\n",
      "Skipping entity\n",
      "Skipping entity\n",
      "Skipping entity\n",
      "Skipping entity\n",
      "Skipping entity\n",
      "Skipping entity\n",
      "Skipping entity\n",
      "Skipping entity\n",
      "Skipping entity\n",
      "Skipping entity\n",
      "Skipping entity\n",
      "Skipping entity\n",
      "Skipping entity\n",
      "Skipping entity\n",
      "Skipping entity\n",
      "Skipping entity\n",
      "Skipping entity\n",
      "Skipping entity\n",
      "Skipping entity\n",
      "Skipping entity\n",
      "Skipping entity\n",
      "Skipping entity\n",
      "Skipping entity\n",
      "Skipping entity\n",
      "Skipping entity\n",
      "Skipping entity\n",
      "Skipping entity\n",
      "Skipping entity\n",
      "Skipping entity\n",
      "Skipping entity\n",
      "Skipping entity\n",
      "Skipping entity\n",
      "Skipping entity\n",
      "Skipping entity\n",
      "Skipping entity\n",
      "Skipping entity\n",
      "Skipping entity\n",
      "Skipping entity\n",
      "Skipping entity\n",
      "Skipping entity\n",
      "Skipping entity\n",
      "Skipping entity\n",
      "Skipping entity\n",
      "Skipping entity\n",
      "Skipping entity\n",
      "Skipping entity\n",
      "Skipping entity\n",
      "Skipping entity\n",
      "Skipping entity\n",
      "Skipping entity\n",
      "Skipping entity\n",
      "Skipping entity\n",
      "Skipping entity\n",
      "Skipping entity\n",
      "Skipping entity\n",
      "Skipping entity\n",
      "Skipping entity\n",
      "Skipping entity\n",
      "Skipping entity\n",
      "Skipping entity\n",
      "Skipping entity\n",
      "Skipping entity\n",
      "Skipping entity\n",
      "Skipping entity\n",
      "Skipping entity\n",
      "Skipping entity\n",
      "Skipping entity\n",
      "Skipping entity\n",
      "Skipping entity\n",
      "Skipping entity\n",
      "Skipping entity\n",
      "Skipping entity\n",
      "Skipping entity\n",
      "Skipping entity\n",
      "Skipping entity\n",
      "Skipping entity\n",
      "Skipping entity\n",
      "Skipping entity\n",
      "Skipping entity\n",
      "Skipping entity\n",
      "Skipping entity\n",
      "Skipping entity\n",
      "Skipping entity\n",
      "Skipping entity\n",
      "Skipping entity\n",
      "Skipping entity\n",
      "Skipping entity\n",
      "Skipping entity\n",
      "Skipping entity\n",
      "Skipping entity\n",
      "Skipping entity\n",
      "Skipping entity\n",
      "Skipping entity\n",
      "Skipping entity\n",
      "Skipping entity\n",
      "Skipping entity\n",
      "Skipping entity\n",
      "Skipping entity\n",
      "Skipping entity\n",
      "Skipping entity\n",
      "Skipping entity\n",
      "Skipping entity\n",
      "Skipping entity\n",
      "Skipping entity\n",
      "Skipping entity\n",
      "Skipping entity\n",
      "Skipping entity\n",
      "Skipping entity\n",
      "Skipping entity\n",
      "Skipping entity\n",
      "Skipping entity\n",
      "Skipping entity\n",
      "Skipping entity\n",
      "Skipping entity\n",
      "Skipping entity\n",
      "Skipping entity\n",
      "Skipping entity\n",
      "Skipping entity\n",
      "Skipping entity\n",
      "Skipping entity\n",
      "Skipping entity\n",
      "Skipping entity\n",
      "Skipping entity\n",
      "Skipping entity\n",
      "Skipping entity\n",
      "Skipping entity\n",
      "Skipping entity\n",
      "Skipping entity\n",
      "Skipping entity\n",
      "Skipping entity\n",
      "Skipping entity\n",
      "Skipping entity\n",
      "Skipping entity\n",
      "Skipping entity\n",
      "Skipping entity\n",
      "Skipping entity\n",
      "Skipping entity\n",
      "Skipping entity\n",
      "Skipping entity\n",
      "Skipping entity\n",
      "Skipping entity\n",
      "Skipping entity\n",
      "Skipping entity\n",
      "Skipping entity\n",
      "Skipping entity\n",
      "Skipping entity\n",
      "Skipping entity\n",
      "Skipping entity\n",
      "Skipping entity\n",
      "Skipping entity\n",
      "Skipping entity\n",
      "Skipping entity\n",
      "Skipping entity\n",
      "Skipping entity\n",
      "Skipping entity\n",
      "Skipping entity\n",
      "Skipping entity\n",
      "Skipping entity\n",
      "Skipping entity\n",
      "Skipping entity\n",
      "Skipping entity\n",
      "Skipping entity\n",
      "Skipping entity\n",
      "Skipping entity\n",
      "Skipping entity\n",
      "Skipping entity\n",
      "Skipping entity\n",
      "Skipping entity\n",
      "Skipping entity\n",
      "Skipping entity\n",
      "Skipping entity\n",
      "Skipping entity\n",
      "Skipping entity\n",
      "Skipping entity\n",
      "Skipping entity\n",
      "Skipping entity\n",
      "Skipping entity\n",
      "Skipping entity\n",
      "Skipping entity\n",
      "Skipping entity\n",
      "Skipping entity\n",
      "Skipping entity\n",
      "Skipping entity\n",
      "Skipping entity\n",
      "Skipping entity\n",
      "Skipping entity\n",
      "Skipping entity\n",
      "Skipping entity\n",
      "Skipping entity\n",
      "Skipping entity\n",
      "Skipping entity\n",
      "Skipping entity\n",
      "Skipping entity\n",
      "Skipping entity\n",
      "Skipping entity\n",
      "Skipping entity\n",
      "Skipping entity\n",
      "Skipping entity\n",
      "Skipping entity\n",
      "Skipping entity\n",
      "Skipping entity\n",
      "Skipping entity\n",
      "Skipping entity\n",
      "Skipping entity\n",
      "Skipping entity\n",
      "Skipping entity\n",
      "Skipping entity\n",
      "Skipping entity\n",
      "Skipping entity\n",
      "Skipping entity\n",
      "Skipping entity\n",
      "Skipping entity\n",
      "Skipping entity\n",
      "Skipping entity\n",
      "Skipping entity\n",
      "Skipping entity\n",
      "Skipping entity\n",
      "Skipping entity\n",
      "Skipping entity\n",
      "Skipping entity\n",
      "Skipping entity\n",
      "Skipping entity\n",
      "Skipping entity\n",
      "Skipping entity\n",
      "Skipping entity\n",
      "Skipping entity\n",
      "Skipping entity\n",
      "Skipping entity\n",
      "Skipping entity\n",
      "Skipping entity\n",
      "Skipping entity\n",
      "Skipping entity\n",
      "Skipping entity\n",
      "Skipping entity\n",
      "Skipping entity\n",
      "Skipping entity\n",
      "Skipping entity\n",
      "Skipping entity\n",
      "Skipping entity\n",
      "Skipping entity\n",
      "Skipping entity\n",
      "Skipping entity\n",
      "Skipping entity\n",
      "Skipping entity\n",
      "Skipping entity\n",
      "Skipping entity\n",
      "Skipping entity\n",
      "Skipping entity\n",
      "Skipping entity\n",
      "Skipping entity\n",
      "Skipping entity\n",
      "Skipping entity\n",
      "Skipping entity\n",
      "Skipping entity\n",
      "Skipping entity\n",
      "Skipping entity"
     ]
    },
    {
     "name": "stderr",
     "output_type": "stream",
     "text": [
      "100%|██████████| 1890/1890 [00:00<00:00, 2678.10it/s]\n"
     ]
    },
    {
     "name": "stdout",
     "output_type": "stream",
     "text": [
      "\n",
      "Skipping entity\n",
      "Skipping entity\n",
      "Skipping entity\n",
      "Skipping entity\n",
      "Skipping entity\n",
      "Skipping entity\n",
      "Skipping entity\n",
      "Skipping entity\n",
      "Skipping entity\n",
      "Skipping entity\n",
      "Skipping entity\n",
      "Skipping entity\n",
      "Skipping entity\n",
      "Skipping entity\n",
      "Skipping entity\n",
      "Skipping entity\n",
      "Skipping entity\n",
      "Skipping entity\n",
      "Skipping entity\n",
      "Skipping entity\n",
      "Skipping entity\n",
      "Skipping entity\n",
      "Skipping entity\n",
      "Skipping entity\n",
      "Skipping entity\n",
      "Skipping entity\n",
      "Skipping entity\n",
      "Skipping entity\n",
      "Skipping entity\n",
      "Skipping entity\n",
      "Skipping entity\n",
      "Skipping entity\n",
      "Skipping entity\n",
      "Skipping entity\n",
      "Skipping entity\n",
      "Skipping entity\n",
      "Skipping entity\n",
      "Skipping entity\n",
      "Skipping entity\n",
      "Skipping entity\n",
      "Skipping entity\n",
      "Skipping entity\n",
      "Skipping entity\n",
      "Skipping entity\n",
      "Skipping entity\n",
      "Skipping entity\n",
      "Skipping entity\n",
      "Skipping entity\n",
      "Skipping entity\n",
      "Skipping entity\n",
      "Skipping entity\n",
      "Skipping entity\n",
      "Skipping entity\n",
      "Skipping entity\n",
      "Skipping entity\n",
      "Skipping entity\n",
      "Skipping entity\n",
      "Skipping entity\n",
      "Skipping entity\n",
      "Skipping entity\n",
      "Skipping entity\n",
      "Skipping entity\n",
      "Skipping entity\n",
      "Skipping entity\n",
      "Skipping entity\n",
      "Skipping entity\n",
      "Skipping entity\n",
      "Skipping entity\n",
      "Skipping entity\n",
      "Skipping entity\n",
      "Skipping entity\n",
      "Skipping entity\n",
      "Skipping entity\n",
      "Skipping entity\n",
      "Skipping entity\n",
      "Skipping entity\n",
      "Skipping entity\n",
      "Skipping entity\n",
      "Skipping entity\n",
      "Skipping entity\n",
      "Skipping entity\n",
      "Skipping entity\n",
      "Skipping entity\n",
      "Skipping entity\n",
      "Skipping entity\n",
      "Skipping entity\n",
      "Skipping entity\n",
      "Skipping entity\n",
      "Skipping entity\n",
      "Skipping entity\n",
      "Skipping entity\n",
      "Skipping entity\n",
      "Skipping entity\n",
      "Skipping entity\n",
      "Skipping entity\n",
      "Skipping entity\n",
      "Skipping entity\n",
      "Skipping entity\n",
      "Skipping entity\n",
      "Skipping entity\n",
      "Skipping entity\n",
      "Skipping entity\n",
      "Skipping entity\n",
      "Skipping entity\n",
      "Skipping entity\n",
      "Skipping entity\n",
      "Skipping entity\n",
      "Skipping entity\n",
      "Skipping entity\n",
      "Skipping entity\n",
      "Skipping entity\n",
      "Skipping entity\n",
      "Skipping entity\n",
      "Skipping entity\n",
      "Skipping entity\n",
      "Skipping entity\n",
      "Skipping entity\n",
      "Skipping entity\n",
      "Skipping entity\n",
      "Skipping entity\n",
      "Skipping entity\n",
      "Skipping entity\n",
      "Skipping entity\n",
      "Skipping entity\n",
      "Skipping entity\n",
      "Skipping entity\n",
      "Skipping entity\n",
      "Skipping entity\n",
      "Skipping entity\n",
      "Skipping entity\n",
      "Skipping entity\n",
      "Skipping entity\n",
      "Skipping entity\n",
      "Skipping entity\n",
      "Skipping entity\n",
      "Skipping entity\n",
      "Skipping entity\n",
      "Skipping entity\n",
      "Skipping entity\n",
      "Skipping entity\n",
      "Skipping entity\n",
      "Skipping entity\n",
      "Skipping entity\n"
     ]
    },
    {
     "name": "stderr",
     "output_type": "stream",
     "text": [
      "\r",
      "  0%|          | 0/210 [00:00<?, ?it/s]"
     ]
    },
    {
     "name": "stdout",
     "output_type": "stream",
     "text": [
      "Skipping entity\n",
      "Skipping entity\n",
      "Skipping entity\n",
      "Skipping entity\n",
      "Skipping entity\n",
      "Skipping entity\n",
      "Skipping entity\n",
      "Skipping entity\n",
      "Skipping entity\n",
      "Skipping entity\n",
      "Skipping entity\n",
      "Skipping entity\n",
      "Skipping entity\n",
      "Skipping entity\n",
      "Skipping entity\n",
      "Skipping entity\n",
      "Skipping entity\n",
      "Skipping entity\n",
      "Skipping entity\n",
      "Skipping entity\n",
      "Skipping entity\n",
      "Skipping entity"
     ]
    },
    {
     "name": "stderr",
     "output_type": "stream",
     "text": [
      "\r",
      "100%|██████████| 210/210 [00:00<00:00, 2375.79it/s]"
     ]
    },
    {
     "name": "stdout",
     "output_type": "stream",
     "text": [
      "\n",
      "Skipping entity\n",
      "Skipping entity\n",
      "Skipping entity\n",
      "Skipping entity\n",
      "Skipping entity\n",
      "Skipping entity\n",
      "Skipping entity\n",
      "Skipping entity\n",
      "Skipping entity\n",
      "Skipping entity\n",
      "Skipping entity\n",
      "Skipping entity\n",
      "Skipping entity\n",
      "Skipping entity\n",
      "Skipping entity\n",
      "Skipping entity\n",
      "Skipping entity\n",
      "Skipping entity\n",
      "Skipping entity\n",
      "Skipping entity\n",
      "Skipping entity\n",
      "Skipping entity\n",
      "Skipping entity\n",
      "Skipping entity\n",
      "Skipping entity\n",
      "Skipping entity\n",
      "Skipping entity\n",
      "Skipping entity\n",
      "Skipping entity\n",
      "Skipping entity\n",
      "Skipping entity\n",
      "Skipping entity\n",
      "Skipping entity\n",
      "Skipping entity\n",
      "Skipping entity\n",
      "Skipping entity\n",
      "Skipping entity\n",
      "Skipping entity\n",
      "Skipping entity\n",
      "Skipping entity\n",
      "Skipping entity\n",
      "Skipping entity\n",
      "Skipping entity\n",
      "Skipping entity\n",
      "Skipping entity\n",
      "Skipping entity\n",
      "Skipping entity\n",
      "Skipping entity\n",
      "Skipping entity\n",
      "Skipping entity\n",
      "Skipping entity\n",
      "Skipping entity\n",
      "Skipping entity\n",
      "Skipping entity\n",
      "Skipping entity\n",
      "Skipping entity\n",
      "Skipping entity\n",
      "Skipping entity\n",
      "Skipping entity\n",
      "Skipping entity\n",
      "Skipping entity\n",
      "Skipping entity\n",
      "Skipping entity\n",
      "Skipping entity\n",
      "Skipping entity\n",
      "Skipping entity\n",
      "Skipping entity\n",
      "Skipping entity\n",
      "Skipping entity\n",
      "Skipping entity\n",
      "Skipping entity\n",
      "Skipping entity\n",
      "Skipping entity\n",
      "Skipping entity\n",
      "Skipping entity\n",
      "Skipping entity\n",
      "Skipping entity\n",
      "Skipping entity\n",
      "Skipping entity\n",
      "Skipping entity\n",
      "Skipping entity\n",
      "Skipping entity\n",
      "Skipping entity\n",
      "Skipping entity\n",
      "Skipping entity\n",
      "Skipping entity\n",
      "Skipping entity\n",
      "Skipping entity\n",
      "Skipping entity\n",
      "Skipping entity\n",
      "Skipping entity\n",
      "Skipping entity\n",
      "Skipping entity\n",
      "Skipping entity\n",
      "Skipping entity\n",
      "Skipping entity\n",
      "Skipping entity\n",
      "Skipping entity\n",
      "Skipping entity\n",
      "Skipping entity\n",
      "Skipping entity\n",
      "Skipping entity\n",
      "Skipping entity\n",
      "Skipping entity\n",
      "Skipping entity\n",
      "Skipping entity\n",
      "Skipping entity\n",
      "Skipping entity\n",
      "Skipping entity\n",
      "Skipping entity\n",
      "Skipping entity\n",
      "Skipping entity\n",
      "Skipping entity\n",
      "Skipping entity\n",
      "Skipping entity\n",
      "Skipping entity\n",
      "Skipping entity\n",
      "Skipping entity\n",
      "Skipping entity\n",
      "Skipping entity\n",
      "Skipping entity\n",
      "Skipping entity\n",
      "Skipping entity\n",
      "Skipping entity\n",
      "Skipping entity\n",
      "Skipping entity\n",
      "Skipping entity\n"
     ]
    },
    {
     "name": "stderr",
     "output_type": "stream",
     "text": [
      "\n"
     ]
    }
   ],
   "source": [
    "import pandas as pd\n",
    "import os\n",
    "from tqdm import tqdm\n",
    "import spacy\n",
    "from spacy.tokens import DocBin\n",
    "\n",
    "#nlp = spacy.blank(\"en\") # load a new spacy model\n",
    "nlp = spacy.load(\"en_core_web_sm\") # load other spacy model\n",
    "\n",
    "db = DocBin() # create a DocBin object\n",
    "\n",
    "for text, annot in tqdm(TRAIN_DATA): # data in previous format\n",
    "    doc = nlp.make_doc(text) # create doc object from text\n",
    "    ents = []\n",
    "    for start, end, label in annot[\"entities\"]: # add character indexes\n",
    "        span = doc.char_span(start, end, label=label, alignment_mode=\"contract\")\n",
    "        if span is None:\n",
    "            print(\"Skipping entity\")\n",
    "        else:\n",
    "            ents.append(span)\n",
    "    doc.ents = ents # label the text with the ents\n",
    "    db.add(doc)\n",
    "    \n",
    "db.to_disk(\"./Model/train.spacy\")\n",
    "\n",
    "for text, annot in tqdm(Val_DATA): # data in previous format\n",
    "    doc = nlp.make_doc(text) # create doc object from text\n",
    "    ents = []\n",
    "    for start, end, label in annot[\"entities\"]: # add character indexes\n",
    "        span = doc.char_span(start, end, label=label, alignment_mode=\"contract\")\n",
    "        if span is None:\n",
    "            print(\"Skipping entity\")\n",
    "        else:\n",
    "            ents.append(span)\n",
    "    doc.ents = ents # label the text with the ents\n",
    "    db.add(doc)\n",
    "    \n",
    "db.to_disk(\"./Model/dev.spacy\")"
   ]
  },
  {
   "cell_type": "code",
   "execution_count": null,
   "metadata": {},
   "outputs": [],
   "source": []
  },
  {
   "cell_type": "code",
   "execution_count": 72,
   "metadata": {},
   "outputs": [],
   "source": [
    "ner_model = spacy.load(r\"./Model/output/model-last\")\n",
    "doc = ner_model(\"My name is Thomas Oliver and I work at Parashift. My email is thomas@parashift.ch\")"
   ]
  },
  {
   "cell_type": "code",
   "execution_count": 74,
   "metadata": {},
   "outputs": [
    {
     "data": {
      "text/html": [
       "<span class=\"tex2jax_ignore\"><div class=\"entities\" style=\"line-height: 2.5; direction: ltr\">\n",
       "<mark class=\"entity\" style=\"background: #ddd; padding: 0.45em 0.6em; margin: 0 0.25em; line-height: 1; border-radius: 0.35em;\">\n",
       "    My name is Thomas Oliver and I work at Parashift. My email is\n",
       "    <span style=\"font-size: 0.8em; font-weight: bold; line-height: 1; border-radius: 0.35em; vertical-align: middle; margin-left: 0.5rem\">Firma</span>\n",
       "</mark>\n",
       " thomas@parashift.ch</div></span>"
      ],
      "text/plain": [
       "<IPython.core.display.HTML object>"
      ]
     },
     "metadata": {},
     "output_type": "display_data"
    }
   ],
   "source": [
    "spacy.displacy.render(doc, style=\"ent\", jupyter=True)"
   ]
  },
  {
   "cell_type": "markdown",
   "metadata": {},
   "source": [
    "This model did not work, evidently more noise needs to be added to the training data so it can learn what to ignore."
   ]
  },
  {
   "cell_type": "markdown",
   "metadata": {},
   "source": [
    "## Model with noise in Training Data"
   ]
  },
  {
   "cell_type": "markdown",
   "metadata": {},
   "source": [
    "I will generate random noise to be added to each tuple."
   ]
  },
  {
   "cell_type": "code",
   "execution_count": 75,
   "metadata": {},
   "outputs": [],
   "source": [
    "random_vorname = ['Hello, my name is {}',\n",
    "                 'You can call me {}',\n",
    "                 '{} is my name',\n",
    "                 'Yes, {} is how you pronounce it',\n",
    "                 'No, my name is {}']\n",
    "random_name = ['{} is my family name',\n",
    "              'Yes, {} is my surname',\n",
    "              \"My surname is of course {}\",\n",
    "              \"No it's {}\",\n",
    "              \"Indeed, it is {}\"]\n",
    "random_firma = ['My company is called {}',\n",
    "               \"{} is where I work\",\n",
    "               \"I am currently working at {}\",\n",
    "               \"Yes, i work at {}, what do you want to know about it?\",\n",
    "               \"I've changed jobs, i'm now working at {}\"]\n",
    "random_email = ['Yes, my email is {}',\n",
    "                \"You can reach me at {}\",\n",
    "                \"The email is {}, did you get that?\",\n",
    "                \"No, that is the wrong email, it should be {}\",\n",
    "                \"{} is my email, please get in touch\"\n",
    "               ]"
   ]
  },
  {
   "cell_type": "code",
   "execution_count": 85,
   "metadata": {},
   "outputs": [],
   "source": [
    "import random\n",
    "import re"
   ]
  },
  {
   "cell_type": "code",
   "execution_count": 94,
   "metadata": {},
   "outputs": [],
   "source": [
    "def table_to_tuple_v2(df):\n",
    "    finished = list()\n",
    "    term_dict = {'Name': random_name,\n",
    "                \"Vorname\": random_vorname,\n",
    "                \"Firma\": random_firma,\n",
    "                \"Email\": random_email}\n",
    "    for col in df.columns:\n",
    "        for item in df[col].tolist():\n",
    "            random_sentence = random.choice(term_dict[col])\n",
    "            random_sentence = random_sentence.replace(\"{}\", item)\n",
    "            start_index = random_sentence.find(item)\n",
    "            end_index = start_index + len(item)\n",
    "            new_tuple = (random_sentence, {'entities': [(start_index, end_index, col)]})\n",
    "            finished.append(new_tuple)\n",
    "    return finished"
   ]
  },
  {
   "cell_type": "code",
   "execution_count": 95,
   "metadata": {},
   "outputs": [
    {
     "data": {
      "text/plain": [
       "[('Indeed, it is Ademoglu', {'entities': [(14, 22, 'Name')]}),\n",
       " ('Indeed, it is Aebischer', {'entities': [(14, 23, 'Name')]}),\n",
       " ('My surname is of course Aeschbach', {'entities': [(24, 33, 'Name')]}),\n",
       " ('Indeed, it is Agotai', {'entities': [(14, 20, 'Name')]}),\n",
       " ('Albert is my family name', {'entities': [(0, 6, 'Name')]})]"
      ]
     },
     "execution_count": 95,
     "metadata": {},
     "output_type": "execute_result"
    }
   ],
   "source": [
    "tuples = table_to_tuple_v2(table_data)\n",
    "tuples[:5]"
   ]
  },
  {
   "cell_type": "code",
   "execution_count": 98,
   "metadata": {},
   "outputs": [
    {
     "name": "stdout",
     "output_type": "stream",
     "text": [
      "210\n",
      "1890\n"
     ]
    }
   ],
   "source": [
    "random.shuffle(tuples)\n",
    "cutoff = int(len(tuples)/10)\n",
    "\n",
    "VAL_DATA = tuples[:cutoff]\n",
    "TRAIN_DATA = tuples[cutoff:]"
   ]
  },
  {
   "cell_type": "code",
   "execution_count": 99,
   "metadata": {},
   "outputs": [
    {
     "name": "stderr",
     "output_type": "stream",
     "text": [
      "100%|██████████| 1890/1890 [00:00<00:00, 2921.09it/s]\n",
      "100%|██████████| 210/210 [00:00<00:00, 3333.41it/s]"
     ]
    },
    {
     "name": "stdout",
     "output_type": "stream",
     "text": [
      "Skipping entity\n",
      "Skipping entity\n",
      "Skipping entity\n",
      "Skipping entity\n",
      "Skipping entity\n",
      "Skipping entity\n",
      "Skipping entity\n",
      "Skipping entity\n",
      "Skipping entity\n",
      "Skipping entity\n",
      "Skipping entity\n",
      "Skipping entity\n",
      "Skipping entity\n",
      "Skipping entity\n",
      "Skipping entity\n",
      "Skipping entity\n",
      "Skipping entity\n",
      "Skipping entity\n",
      "Skipping entity\n",
      "Skipping entity\n",
      "Skipping entity\n",
      "Skipping entity\n",
      "Skipping entity\n",
      "Skipping entity\n",
      "Skipping entity\n",
      "Skipping entity\n",
      "Skipping entity\n",
      "Skipping entity\n",
      "Skipping entity\n",
      "Skipping entity\n",
      "Skipping entity\n",
      "Skipping entity\n",
      "Skipping entity\n",
      "Skipping entity\n",
      "Skipping entity\n",
      "Skipping entity\n",
      "Skipping entity\n",
      "Skipping entity\n",
      "Skipping entity\n",
      "Skipping entity\n",
      "Skipping entity\n",
      "Skipping entity\n",
      "Skipping entity\n",
      "Skipping entity\n",
      "Skipping entity\n",
      "Skipping entity\n",
      "Skipping entity\n",
      "Skipping entity\n",
      "Skipping entity\n",
      "Skipping entity\n",
      "Skipping entity\n",
      "Skipping entity\n",
      "Skipping entity\n",
      "Skipping entity\n",
      "Skipping entity\n",
      "Skipping entity\n",
      "Skipping entity\n",
      "Skipping entity\n",
      "Skipping entity\n",
      "Skipping entity\n",
      "Skipping entity\n",
      "Skipping entity\n",
      "Skipping entity\n",
      "Skipping entity\n",
      "Skipping entity\n",
      "Skipping entity\n",
      "Skipping entity\n",
      "Skipping entity\n",
      "Skipping entity\n",
      "Skipping entity\n",
      "Skipping entity\n",
      "Skipping entity\n",
      "Skipping entity\n",
      "Skipping entity\n",
      "Skipping entity\n",
      "Skipping entity\n",
      "Skipping entity\n",
      "Skipping entity\n",
      "Skipping entity\n",
      "Skipping entity\n",
      "Skipping entity\n",
      "Skipping entity\n",
      "Skipping entity\n",
      "Skipping entity\n",
      "Skipping entity\n",
      "Skipping entity\n",
      "Skipping entity\n",
      "Skipping entity\n",
      "Skipping entity\n",
      "Skipping entity\n",
      "Skipping entity\n",
      "Skipping entity\n",
      "Skipping entity\n",
      "Skipping entity\n",
      "Skipping entity\n",
      "Skipping entity\n",
      "Skipping entity\n",
      "Skipping entity\n",
      "Skipping entity\n",
      "Skipping entity\n",
      "Skipping entity\n",
      "Skipping entity\n",
      "Skipping entity\n",
      "Skipping entity\n",
      "Skipping entity\n",
      "Skipping entity\n",
      "Skipping entity\n",
      "Skipping entity\n",
      "Skipping entity\n",
      "Skipping entity\n",
      "Skipping entity\n",
      "Skipping entity\n",
      "Skipping entity\n",
      "Skipping entity\n",
      "Skipping entity\n",
      "Skipping entity\n",
      "Skipping entity\n",
      "Skipping entity\n",
      "Skipping entity\n",
      "Skipping entity\n",
      "Skipping entity\n",
      "Skipping entity\n",
      "Skipping entity\n",
      "Skipping entity\n",
      "Skipping entity\n",
      "Skipping entity\n",
      "Skipping entity\n",
      "Skipping entity\n",
      "Skipping entity\n",
      "Skipping entity\n",
      "Skipping entity\n",
      "Skipping entity\n",
      "Skipping entity\n",
      "Skipping entity\n",
      "Skipping entity\n",
      "Skipping entity\n",
      "Skipping entity\n",
      "Skipping entity\n",
      "Skipping entity\n",
      "Skipping entity\n",
      "Skipping entity\n",
      "Skipping entity\n",
      "Skipping entity\n",
      "Skipping entity\n",
      "Skipping entity\n",
      "Skipping entity\n",
      "Skipping entity\n",
      "Skipping entity\n",
      "Skipping entity\n"
     ]
    },
    {
     "name": "stderr",
     "output_type": "stream",
     "text": [
      "\n"
     ]
    }
   ],
   "source": [
    "#nlp = spacy.blank(\"en\") # load a new spacy model\n",
    "nlp = spacy.load(\"en_core_web_sm\") # load other spacy model\n",
    "\n",
    "db = DocBin() # create a DocBin object\n",
    "\n",
    "for text, annot in tqdm(TRAIN_DATA): # data in previous format\n",
    "    doc = nlp.make_doc(text) # create doc object from text\n",
    "    ents = []\n",
    "    for start, end, label in annot[\"entities\"]: # add character indexes\n",
    "        span = doc.char_span(start, end, label=label, alignment_mode=\"contract\")\n",
    "        if span is None:\n",
    "            print(\"Skipping entity\")\n",
    "        else:\n",
    "            ents.append(span)\n",
    "    doc.ents = ents # label the text with the ents\n",
    "    db.add(doc)\n",
    "    \n",
    "db.to_disk(\"./Model/train.spacy\")\n",
    "\n",
    "for text, annot in tqdm(Val_DATA): # data in previous format\n",
    "    doc = nlp.make_doc(text) # create doc object from text\n",
    "    ents = []\n",
    "    for start, end, label in annot[\"entities\"]: # add character indexes\n",
    "        span = doc.char_span(start, end, label=label, alignment_mode=\"contract\")\n",
    "        if span is None:\n",
    "            print(\"Skipping entity\")\n",
    "        else:\n",
    "            ents.append(span)\n",
    "    doc.ents = ents # label the text with the ents\n",
    "    db.add(doc)\n",
    "    \n",
    "db.to_disk(\"./Model/dev.spacy\")"
   ]
  },
  {
   "cell_type": "code",
   "execution_count": 113,
   "metadata": {},
   "outputs": [],
   "source": [
    "ner_model = spacy.load(r\"./Model/output/model-last\")\n",
    "doc = ner_model(\"My name is Thomas Baumgartner and I work at Parashift. My email is thomas@parashift.ch\")"
   ]
  },
  {
   "cell_type": "code",
   "execution_count": 114,
   "metadata": {},
   "outputs": [
    {
     "data": {
      "text/html": [
       "<span class=\"tex2jax_ignore\"><div class=\"entities\" style=\"line-height: 2.5; direction: ltr\">My name is \n",
       "<mark class=\"entity\" style=\"background: #ddd; padding: 0.45em 0.6em; margin: 0 0.25em; line-height: 1; border-radius: 0.35em;\">\n",
       "    Thomas Baumgartner\n",
       "    <span style=\"font-size: 0.8em; font-weight: bold; line-height: 1; border-radius: 0.35em; vertical-align: middle; margin-left: 0.5rem\">Vorname</span>\n",
       "</mark>\n",
       " and I work at \n",
       "<mark class=\"entity\" style=\"background: #ddd; padding: 0.45em 0.6em; margin: 0 0.25em; line-height: 1; border-radius: 0.35em;\">\n",
       "    Parashift\n",
       "    <span style=\"font-size: 0.8em; font-weight: bold; line-height: 1; border-radius: 0.35em; vertical-align: middle; margin-left: 0.5rem\">Firma</span>\n",
       "</mark>\n",
       ". My email is \n",
       "<mark class=\"entity\" style=\"background: #ddd; padding: 0.45em 0.6em; margin: 0 0.25em; line-height: 1; border-radius: 0.35em;\">\n",
       "    thomas@parashift.ch\n",
       "    <span style=\"font-size: 0.8em; font-weight: bold; line-height: 1; border-radius: 0.35em; vertical-align: middle; margin-left: 0.5rem\">Email</span>\n",
       "</mark>\n",
       "</div></span>"
      ],
      "text/plain": [
       "<IPython.core.display.HTML object>"
      ]
     },
     "metadata": {},
     "output_type": "display_data"
    }
   ],
   "source": [
    "spacy.displacy.render(doc, style=\"ent\", jupyter=True)"
   ]
  },
  {
   "cell_type": "markdown",
   "metadata": {},
   "source": [
    "This model is performing much better, with only a slight issue with names. However, it can successfuly pick out \"Firma\" and \"Email\" quite well. This should be sufficient for purposes."
   ]
  },
  {
   "cell_type": "markdown",
   "metadata": {},
   "source": [
    "## Attempt 3"
   ]
  },
  {
   "cell_type": "code",
   "execution_count": 57,
   "metadata": {},
   "outputs": [],
   "source": [
    "from essential_generators import DocumentGenerator\n",
    "from tqdm import tqdm\n",
    "gen = DocumentGenerator()\n"
   ]
  },
  {
   "cell_type": "code",
   "execution_count": 110,
   "metadata": {},
   "outputs": [],
   "source": [
    "def table_to_tuple_v3(df):\n",
    "    finished = list()\n",
    "    for i in tqdm.notebook.tqdm(range(50)):\n",
    "        for col in tqdm.notebook.tqdm(df.columns):\n",
    "            for item in tqdm.notebook.tqdm(df[col].tolist()):\n",
    "                random_sentence = gen.sentence()\n",
    "                range_sentence = len(random_sentence)\n",
    "                insert_index = random.randrange(range_sentence)\n",
    "                res = random_sentence[ : insert_index] + ' ' + item + ' ' + random_sentence[insert_index : ]\n",
    "                start_index = insert_index + 1\n",
    "                end_index = start_index + len(item)\n",
    "                new_tuple = (res, {'entities': [(start_index, end_index, col)]})\n",
    "                finished.append(new_tuple)\n",
    "    return finished"
   ]
  },
  {
   "cell_type": "code",
   "execution_count": 111,
   "metadata": {},
   "outputs": [
    {
     "data": {
      "application/vnd.jupyter.widget-view+json": {
       "model_id": "a345db9959eb411ab300ddf449496e4b",
       "version_major": 2,
       "version_minor": 0
      },
      "text/plain": [
       "  0%|          | 0/50 [00:00<?, ?it/s]"
      ]
     },
     "metadata": {},
     "output_type": "display_data"
    },
    {
     "data": {
      "application/vnd.jupyter.widget-view+json": {
       "model_id": "4be011edeb3742bd9d2f021f4ca6278e",
       "version_major": 2,
       "version_minor": 0
      },
      "text/plain": [
       "  0%|          | 0/4 [00:00<?, ?it/s]"
      ]
     },
     "metadata": {},
     "output_type": "display_data"
    },
    {
     "data": {
      "application/vnd.jupyter.widget-view+json": {
       "model_id": "2d3cc0a32b904335981386ef2f12bc1a",
       "version_major": 2,
       "version_minor": 0
      },
      "text/plain": [
       "  0%|          | 0/525 [00:00<?, ?it/s]"
      ]
     },
     "metadata": {},
     "output_type": "display_data"
    },
    {
     "data": {
      "application/vnd.jupyter.widget-view+json": {
       "model_id": "0e79820bee7749b4a4320eeb5df4f981",
       "version_major": 2,
       "version_minor": 0
      },
      "text/plain": [
       "  0%|          | 0/525 [00:00<?, ?it/s]"
      ]
     },
     "metadata": {},
     "output_type": "display_data"
    },
    {
     "data": {
      "application/vnd.jupyter.widget-view+json": {
       "model_id": "87a9056109a34823aaeaa561b94f6500",
       "version_major": 2,
       "version_minor": 0
      },
      "text/plain": [
       "  0%|          | 0/525 [00:00<?, ?it/s]"
      ]
     },
     "metadata": {},
     "output_type": "display_data"
    },
    {
     "data": {
      "application/vnd.jupyter.widget-view+json": {
       "model_id": "170a5d59e5c945fa80506993ce5d150f",
       "version_major": 2,
       "version_minor": 0
      },
      "text/plain": [
       "  0%|          | 0/525 [00:00<?, ?it/s]"
      ]
     },
     "metadata": {},
     "output_type": "display_data"
    },
    {
     "data": {
      "application/vnd.jupyter.widget-view+json": {
       "model_id": "5377bb1edaed467f83becae673129be9",
       "version_major": 2,
       "version_minor": 0
      },
      "text/plain": [
       "  0%|          | 0/4 [00:00<?, ?it/s]"
      ]
     },
     "metadata": {},
     "output_type": "display_data"
    },
    {
     "data": {
      "application/vnd.jupyter.widget-view+json": {
       "model_id": "eb0e5cfbd11b424f96b1d9b94ac2e851",
       "version_major": 2,
       "version_minor": 0
      },
      "text/plain": [
       "  0%|          | 0/525 [00:00<?, ?it/s]"
      ]
     },
     "metadata": {},
     "output_type": "display_data"
    },
    {
     "data": {
      "application/vnd.jupyter.widget-view+json": {
       "model_id": "56df4ef978d94f1ebc44154214f9cd93",
       "version_major": 2,
       "version_minor": 0
      },
      "text/plain": [
       "  0%|          | 0/525 [00:00<?, ?it/s]"
      ]
     },
     "metadata": {},
     "output_type": "display_data"
    },
    {
     "data": {
      "application/vnd.jupyter.widget-view+json": {
       "model_id": "b576648d88e54965820fab95ed66d915",
       "version_major": 2,
       "version_minor": 0
      },
      "text/plain": [
       "  0%|          | 0/525 [00:00<?, ?it/s]"
      ]
     },
     "metadata": {},
     "output_type": "display_data"
    },
    {
     "data": {
      "application/vnd.jupyter.widget-view+json": {
       "model_id": "eead878c5c5c4e69861bc126744ab298",
       "version_major": 2,
       "version_minor": 0
      },
      "text/plain": [
       "  0%|          | 0/525 [00:00<?, ?it/s]"
      ]
     },
     "metadata": {},
     "output_type": "display_data"
    },
    {
     "data": {
      "application/vnd.jupyter.widget-view+json": {
       "model_id": "9727db69c9f740c2a218390597f4fcac",
       "version_major": 2,
       "version_minor": 0
      },
      "text/plain": [
       "  0%|          | 0/4 [00:00<?, ?it/s]"
      ]
     },
     "metadata": {},
     "output_type": "display_data"
    },
    {
     "data": {
      "application/vnd.jupyter.widget-view+json": {
       "model_id": "77612f01af44465ca4252017476740cd",
       "version_major": 2,
       "version_minor": 0
      },
      "text/plain": [
       "  0%|          | 0/525 [00:00<?, ?it/s]"
      ]
     },
     "metadata": {},
     "output_type": "display_data"
    },
    {
     "data": {
      "application/vnd.jupyter.widget-view+json": {
       "model_id": "3fe0cde6ac424efea465e90f8a1f3b69",
       "version_major": 2,
       "version_minor": 0
      },
      "text/plain": [
       "  0%|          | 0/525 [00:00<?, ?it/s]"
      ]
     },
     "metadata": {},
     "output_type": "display_data"
    },
    {
     "data": {
      "application/vnd.jupyter.widget-view+json": {
       "model_id": "64b95f234b2045efa0fd2a5bdaee1175",
       "version_major": 2,
       "version_minor": 0
      },
      "text/plain": [
       "  0%|          | 0/525 [00:00<?, ?it/s]"
      ]
     },
     "metadata": {},
     "output_type": "display_data"
    },
    {
     "data": {
      "application/vnd.jupyter.widget-view+json": {
       "model_id": "881740dc88a34328a9741d7b007ecad2",
       "version_major": 2,
       "version_minor": 0
      },
      "text/plain": [
       "  0%|          | 0/525 [00:00<?, ?it/s]"
      ]
     },
     "metadata": {},
     "output_type": "display_data"
    },
    {
     "data": {
      "application/vnd.jupyter.widget-view+json": {
       "model_id": "2f563bf490fe4ccc89a36f6a18eb2c40",
       "version_major": 2,
       "version_minor": 0
      },
      "text/plain": [
       "  0%|          | 0/4 [00:00<?, ?it/s]"
      ]
     },
     "metadata": {},
     "output_type": "display_data"
    },
    {
     "data": {
      "application/vnd.jupyter.widget-view+json": {
       "model_id": "db20141faf02476bbe695a7d3de8a369",
       "version_major": 2,
       "version_minor": 0
      },
      "text/plain": [
       "  0%|          | 0/525 [00:00<?, ?it/s]"
      ]
     },
     "metadata": {},
     "output_type": "display_data"
    },
    {
     "data": {
      "application/vnd.jupyter.widget-view+json": {
       "model_id": "f9db6e0f72af4fb98cd0acd54163afdb",
       "version_major": 2,
       "version_minor": 0
      },
      "text/plain": [
       "  0%|          | 0/525 [00:00<?, ?it/s]"
      ]
     },
     "metadata": {},
     "output_type": "display_data"
    },
    {
     "data": {
      "application/vnd.jupyter.widget-view+json": {
       "model_id": "d71ae05ed9a746058ca4d836bead1e67",
       "version_major": 2,
       "version_minor": 0
      },
      "text/plain": [
       "  0%|          | 0/525 [00:00<?, ?it/s]"
      ]
     },
     "metadata": {},
     "output_type": "display_data"
    },
    {
     "data": {
      "application/vnd.jupyter.widget-view+json": {
       "model_id": "46e0c133223a4c269cc057b59d760a57",
       "version_major": 2,
       "version_minor": 0
      },
      "text/plain": [
       "  0%|          | 0/525 [00:00<?, ?it/s]"
      ]
     },
     "metadata": {},
     "output_type": "display_data"
    },
    {
     "data": {
      "application/vnd.jupyter.widget-view+json": {
       "model_id": "5d85b4fd4bf24d5cac684a1f40df238a",
       "version_major": 2,
       "version_minor": 0
      },
      "text/plain": [
       "  0%|          | 0/4 [00:00<?, ?it/s]"
      ]
     },
     "metadata": {},
     "output_type": "display_data"
    },
    {
     "data": {
      "application/vnd.jupyter.widget-view+json": {
       "model_id": "46482c16316548259f851c8ab3f60a8e",
       "version_major": 2,
       "version_minor": 0
      },
      "text/plain": [
       "  0%|          | 0/525 [00:00<?, ?it/s]"
      ]
     },
     "metadata": {},
     "output_type": "display_data"
    },
    {
     "data": {
      "application/vnd.jupyter.widget-view+json": {
       "model_id": "da709b8a05bd4f97a36472ee5a2b0777",
       "version_major": 2,
       "version_minor": 0
      },
      "text/plain": [
       "  0%|          | 0/525 [00:00<?, ?it/s]"
      ]
     },
     "metadata": {},
     "output_type": "display_data"
    },
    {
     "data": {
      "application/vnd.jupyter.widget-view+json": {
       "model_id": "ceb33cd4e5994836a23190776a2fd483",
       "version_major": 2,
       "version_minor": 0
      },
      "text/plain": [
       "  0%|          | 0/525 [00:00<?, ?it/s]"
      ]
     },
     "metadata": {},
     "output_type": "display_data"
    },
    {
     "data": {
      "application/vnd.jupyter.widget-view+json": {
       "model_id": "3ac7905d82b54d58a3de5a9b2f9481dd",
       "version_major": 2,
       "version_minor": 0
      },
      "text/plain": [
       "  0%|          | 0/525 [00:00<?, ?it/s]"
      ]
     },
     "metadata": {},
     "output_type": "display_data"
    },
    {
     "data": {
      "application/vnd.jupyter.widget-view+json": {
       "model_id": "6c6c2a06b1e1429380b5b241162d57ff",
       "version_major": 2,
       "version_minor": 0
      },
      "text/plain": [
       "  0%|          | 0/4 [00:00<?, ?it/s]"
      ]
     },
     "metadata": {},
     "output_type": "display_data"
    },
    {
     "data": {
      "application/vnd.jupyter.widget-view+json": {
       "model_id": "741c28df8a65451ebe1c3467b51e28ea",
       "version_major": 2,
       "version_minor": 0
      },
      "text/plain": [
       "  0%|          | 0/525 [00:00<?, ?it/s]"
      ]
     },
     "metadata": {},
     "output_type": "display_data"
    },
    {
     "data": {
      "application/vnd.jupyter.widget-view+json": {
       "model_id": "5dbf1a0f6ff04010a245f1db694d7e11",
       "version_major": 2,
       "version_minor": 0
      },
      "text/plain": [
       "  0%|          | 0/525 [00:00<?, ?it/s]"
      ]
     },
     "metadata": {},
     "output_type": "display_data"
    },
    {
     "data": {
      "application/vnd.jupyter.widget-view+json": {
       "model_id": "4cb227956e8d43108d2b9f692a58a6e1",
       "version_major": 2,
       "version_minor": 0
      },
      "text/plain": [
       "  0%|          | 0/525 [00:00<?, ?it/s]"
      ]
     },
     "metadata": {},
     "output_type": "display_data"
    },
    {
     "data": {
      "application/vnd.jupyter.widget-view+json": {
       "model_id": "029bc0d6b7a04ccb9ea3c25eb192cea0",
       "version_major": 2,
       "version_minor": 0
      },
      "text/plain": [
       "  0%|          | 0/525 [00:00<?, ?it/s]"
      ]
     },
     "metadata": {},
     "output_type": "display_data"
    },
    {
     "data": {
      "application/vnd.jupyter.widget-view+json": {
       "model_id": "aee17e57acf548e5a75a6893e3676fe6",
       "version_major": 2,
       "version_minor": 0
      },
      "text/plain": [
       "  0%|          | 0/4 [00:00<?, ?it/s]"
      ]
     },
     "metadata": {},
     "output_type": "display_data"
    },
    {
     "data": {
      "application/vnd.jupyter.widget-view+json": {
       "model_id": "e484ed0d294e4bc2ae18f15773cd1c91",
       "version_major": 2,
       "version_minor": 0
      },
      "text/plain": [
       "  0%|          | 0/525 [00:00<?, ?it/s]"
      ]
     },
     "metadata": {},
     "output_type": "display_data"
    },
    {
     "data": {
      "application/vnd.jupyter.widget-view+json": {
       "model_id": "55be404f20d246b8b6398c8e02fbcd21",
       "version_major": 2,
       "version_minor": 0
      },
      "text/plain": [
       "  0%|          | 0/525 [00:00<?, ?it/s]"
      ]
     },
     "metadata": {},
     "output_type": "display_data"
    },
    {
     "data": {
      "application/vnd.jupyter.widget-view+json": {
       "model_id": "253752db71b3446992f460cd01afe467",
       "version_major": 2,
       "version_minor": 0
      },
      "text/plain": [
       "  0%|          | 0/525 [00:00<?, ?it/s]"
      ]
     },
     "metadata": {},
     "output_type": "display_data"
    },
    {
     "data": {
      "application/vnd.jupyter.widget-view+json": {
       "model_id": "50520c3de4904de6933367f9c83fbab4",
       "version_major": 2,
       "version_minor": 0
      },
      "text/plain": [
       "  0%|          | 0/525 [00:00<?, ?it/s]"
      ]
     },
     "metadata": {},
     "output_type": "display_data"
    },
    {
     "data": {
      "application/vnd.jupyter.widget-view+json": {
       "model_id": "ca94775cc3054f799ee9f5373cfe865e",
       "version_major": 2,
       "version_minor": 0
      },
      "text/plain": [
       "  0%|          | 0/4 [00:00<?, ?it/s]"
      ]
     },
     "metadata": {},
     "output_type": "display_data"
    },
    {
     "data": {
      "application/vnd.jupyter.widget-view+json": {
       "model_id": "3ac401d00cad4c0ca87e7530c089ee3f",
       "version_major": 2,
       "version_minor": 0
      },
      "text/plain": [
       "  0%|          | 0/525 [00:00<?, ?it/s]"
      ]
     },
     "metadata": {},
     "output_type": "display_data"
    },
    {
     "data": {
      "application/vnd.jupyter.widget-view+json": {
       "model_id": "7678b35e57954179889cb02c9fa7ac69",
       "version_major": 2,
       "version_minor": 0
      },
      "text/plain": [
       "  0%|          | 0/525 [00:00<?, ?it/s]"
      ]
     },
     "metadata": {},
     "output_type": "display_data"
    },
    {
     "data": {
      "application/vnd.jupyter.widget-view+json": {
       "model_id": "2b28eec5624b4812b93a7af06a88e634",
       "version_major": 2,
       "version_minor": 0
      },
      "text/plain": [
       "  0%|          | 0/525 [00:00<?, ?it/s]"
      ]
     },
     "metadata": {},
     "output_type": "display_data"
    },
    {
     "data": {
      "application/vnd.jupyter.widget-view+json": {
       "model_id": "e69e514ce6394c69a297f6a1e8871112",
       "version_major": 2,
       "version_minor": 0
      },
      "text/plain": [
       "  0%|          | 0/525 [00:00<?, ?it/s]"
      ]
     },
     "metadata": {},
     "output_type": "display_data"
    },
    {
     "data": {
      "application/vnd.jupyter.widget-view+json": {
       "model_id": "438ebcfd26d04bdf81153cd47d969468",
       "version_major": 2,
       "version_minor": 0
      },
      "text/plain": [
       "  0%|          | 0/4 [00:00<?, ?it/s]"
      ]
     },
     "metadata": {},
     "output_type": "display_data"
    },
    {
     "data": {
      "application/vnd.jupyter.widget-view+json": {
       "model_id": "c90ba3ee73884986a0e37a4e3c1be862",
       "version_major": 2,
       "version_minor": 0
      },
      "text/plain": [
       "  0%|          | 0/525 [00:00<?, ?it/s]"
      ]
     },
     "metadata": {},
     "output_type": "display_data"
    },
    {
     "data": {
      "application/vnd.jupyter.widget-view+json": {
       "model_id": "8604c75d77a24575860989cb386ee5f5",
       "version_major": 2,
       "version_minor": 0
      },
      "text/plain": [
       "  0%|          | 0/525 [00:00<?, ?it/s]"
      ]
     },
     "metadata": {},
     "output_type": "display_data"
    },
    {
     "data": {
      "application/vnd.jupyter.widget-view+json": {
       "model_id": "7c067467e87d411095a5485cf159c7c5",
       "version_major": 2,
       "version_minor": 0
      },
      "text/plain": [
       "  0%|          | 0/525 [00:00<?, ?it/s]"
      ]
     },
     "metadata": {},
     "output_type": "display_data"
    },
    {
     "data": {
      "application/vnd.jupyter.widget-view+json": {
       "model_id": "f3098ce3e4f64dc3af75b34ebb0142d0",
       "version_major": 2,
       "version_minor": 0
      },
      "text/plain": [
       "  0%|          | 0/525 [00:00<?, ?it/s]"
      ]
     },
     "metadata": {},
     "output_type": "display_data"
    },
    {
     "data": {
      "application/vnd.jupyter.widget-view+json": {
       "model_id": "ca6d727d71434d4fb4a81578597300d8",
       "version_major": 2,
       "version_minor": 0
      },
      "text/plain": [
       "  0%|          | 0/4 [00:00<?, ?it/s]"
      ]
     },
     "metadata": {},
     "output_type": "display_data"
    },
    {
     "data": {
      "application/vnd.jupyter.widget-view+json": {
       "model_id": "8e19195f432b41a38086104dada6fcc7",
       "version_major": 2,
       "version_minor": 0
      },
      "text/plain": [
       "  0%|          | 0/525 [00:00<?, ?it/s]"
      ]
     },
     "metadata": {},
     "output_type": "display_data"
    },
    {
     "data": {
      "application/vnd.jupyter.widget-view+json": {
       "model_id": "9b7cb6bc515f4559a974f2e2cd849b3c",
       "version_major": 2,
       "version_minor": 0
      },
      "text/plain": [
       "  0%|          | 0/525 [00:00<?, ?it/s]"
      ]
     },
     "metadata": {},
     "output_type": "display_data"
    },
    {
     "data": {
      "application/vnd.jupyter.widget-view+json": {
       "model_id": "6600ff1d375d4195a3f5aa4898a1ea0d",
       "version_major": 2,
       "version_minor": 0
      },
      "text/plain": [
       "  0%|          | 0/525 [00:00<?, ?it/s]"
      ]
     },
     "metadata": {},
     "output_type": "display_data"
    },
    {
     "data": {
      "application/vnd.jupyter.widget-view+json": {
       "model_id": "846dcc207d744d5e8ebd87c266bbc462",
       "version_major": 2,
       "version_minor": 0
      },
      "text/plain": [
       "  0%|          | 0/525 [00:00<?, ?it/s]"
      ]
     },
     "metadata": {},
     "output_type": "display_data"
    },
    {
     "data": {
      "application/vnd.jupyter.widget-view+json": {
       "model_id": "adb90f531bf246e4b3fe38f3b6214048",
       "version_major": 2,
       "version_minor": 0
      },
      "text/plain": [
       "  0%|          | 0/4 [00:00<?, ?it/s]"
      ]
     },
     "metadata": {},
     "output_type": "display_data"
    },
    {
     "data": {
      "application/vnd.jupyter.widget-view+json": {
       "model_id": "6569abec472f403a96c70dade9116c2c",
       "version_major": 2,
       "version_minor": 0
      },
      "text/plain": [
       "  0%|          | 0/525 [00:00<?, ?it/s]"
      ]
     },
     "metadata": {},
     "output_type": "display_data"
    },
    {
     "data": {
      "application/vnd.jupyter.widget-view+json": {
       "model_id": "8c4a9fd19ddc4b848d73c90caf5dcf88",
       "version_major": 2,
       "version_minor": 0
      },
      "text/plain": [
       "  0%|          | 0/525 [00:00<?, ?it/s]"
      ]
     },
     "metadata": {},
     "output_type": "display_data"
    },
    {
     "data": {
      "application/vnd.jupyter.widget-view+json": {
       "model_id": "e8be2154439b4acf83a248467d87667b",
       "version_major": 2,
       "version_minor": 0
      },
      "text/plain": [
       "  0%|          | 0/525 [00:00<?, ?it/s]"
      ]
     },
     "metadata": {},
     "output_type": "display_data"
    },
    {
     "data": {
      "application/vnd.jupyter.widget-view+json": {
       "model_id": "97d72b1a7c9a479abf26f77d5d33bfa0",
       "version_major": 2,
       "version_minor": 0
      },
      "text/plain": [
       "  0%|          | 0/525 [00:00<?, ?it/s]"
      ]
     },
     "metadata": {},
     "output_type": "display_data"
    },
    {
     "data": {
      "application/vnd.jupyter.widget-view+json": {
       "model_id": "a5ff3e44f0bd43cab938762cb1eea145",
       "version_major": 2,
       "version_minor": 0
      },
      "text/plain": [
       "  0%|          | 0/4 [00:00<?, ?it/s]"
      ]
     },
     "metadata": {},
     "output_type": "display_data"
    },
    {
     "data": {
      "application/vnd.jupyter.widget-view+json": {
       "model_id": "a66a789bcf2942c0b4b585fe18881b7f",
       "version_major": 2,
       "version_minor": 0
      },
      "text/plain": [
       "  0%|          | 0/525 [00:00<?, ?it/s]"
      ]
     },
     "metadata": {},
     "output_type": "display_data"
    },
    {
     "data": {
      "application/vnd.jupyter.widget-view+json": {
       "model_id": "802218af29e84cbc80cec817f267a653",
       "version_major": 2,
       "version_minor": 0
      },
      "text/plain": [
       "  0%|          | 0/525 [00:00<?, ?it/s]"
      ]
     },
     "metadata": {},
     "output_type": "display_data"
    },
    {
     "data": {
      "application/vnd.jupyter.widget-view+json": {
       "model_id": "39ec4c2f905f43699f1d52f3b69134fd",
       "version_major": 2,
       "version_minor": 0
      },
      "text/plain": [
       "  0%|          | 0/525 [00:00<?, ?it/s]"
      ]
     },
     "metadata": {},
     "output_type": "display_data"
    },
    {
     "data": {
      "application/vnd.jupyter.widget-view+json": {
       "model_id": "e18e7d0bf7e94d41aab7c82e4179be3f",
       "version_major": 2,
       "version_minor": 0
      },
      "text/plain": [
       "  0%|          | 0/525 [00:00<?, ?it/s]"
      ]
     },
     "metadata": {},
     "output_type": "display_data"
    },
    {
     "data": {
      "application/vnd.jupyter.widget-view+json": {
       "model_id": "b9d5c9f956504bca8ede74626c0aa7fa",
       "version_major": 2,
       "version_minor": 0
      },
      "text/plain": [
       "  0%|          | 0/4 [00:00<?, ?it/s]"
      ]
     },
     "metadata": {},
     "output_type": "display_data"
    },
    {
     "data": {
      "application/vnd.jupyter.widget-view+json": {
       "model_id": "10c31c62dd1b4672ba1e5780efdf65bd",
       "version_major": 2,
       "version_minor": 0
      },
      "text/plain": [
       "  0%|          | 0/525 [00:00<?, ?it/s]"
      ]
     },
     "metadata": {},
     "output_type": "display_data"
    },
    {
     "data": {
      "application/vnd.jupyter.widget-view+json": {
       "model_id": "bbd27ec5e60e42659c6fd7fd304b36a4",
       "version_major": 2,
       "version_minor": 0
      },
      "text/plain": [
       "  0%|          | 0/525 [00:00<?, ?it/s]"
      ]
     },
     "metadata": {},
     "output_type": "display_data"
    },
    {
     "data": {
      "application/vnd.jupyter.widget-view+json": {
       "model_id": "969a8bf1d7a142859a809d2ce64649d4",
       "version_major": 2,
       "version_minor": 0
      },
      "text/plain": [
       "  0%|          | 0/525 [00:00<?, ?it/s]"
      ]
     },
     "metadata": {},
     "output_type": "display_data"
    },
    {
     "data": {
      "application/vnd.jupyter.widget-view+json": {
       "model_id": "02857a50c0784d2db1d03189d3b3ba98",
       "version_major": 2,
       "version_minor": 0
      },
      "text/plain": [
       "  0%|          | 0/525 [00:00<?, ?it/s]"
      ]
     },
     "metadata": {},
     "output_type": "display_data"
    },
    {
     "data": {
      "application/vnd.jupyter.widget-view+json": {
       "model_id": "72c910d9c6c74cbdb17b8db7c20c9ac8",
       "version_major": 2,
       "version_minor": 0
      },
      "text/plain": [
       "  0%|          | 0/4 [00:00<?, ?it/s]"
      ]
     },
     "metadata": {},
     "output_type": "display_data"
    },
    {
     "data": {
      "application/vnd.jupyter.widget-view+json": {
       "model_id": "6bed2ab7987d4337ab5201c8116e8b20",
       "version_major": 2,
       "version_minor": 0
      },
      "text/plain": [
       "  0%|          | 0/525 [00:00<?, ?it/s]"
      ]
     },
     "metadata": {},
     "output_type": "display_data"
    },
    {
     "data": {
      "application/vnd.jupyter.widget-view+json": {
       "model_id": "bf0d55e8332f42b9b0cf2ec05591112a",
       "version_major": 2,
       "version_minor": 0
      },
      "text/plain": [
       "  0%|          | 0/525 [00:00<?, ?it/s]"
      ]
     },
     "metadata": {},
     "output_type": "display_data"
    },
    {
     "data": {
      "application/vnd.jupyter.widget-view+json": {
       "model_id": "8f83c74922304cc58b1d98719cb88dfc",
       "version_major": 2,
       "version_minor": 0
      },
      "text/plain": [
       "  0%|          | 0/525 [00:00<?, ?it/s]"
      ]
     },
     "metadata": {},
     "output_type": "display_data"
    },
    {
     "data": {
      "application/vnd.jupyter.widget-view+json": {
       "model_id": "b50da2d90b3c4c8eb38c671e17915378",
       "version_major": 2,
       "version_minor": 0
      },
      "text/plain": [
       "  0%|          | 0/525 [00:00<?, ?it/s]"
      ]
     },
     "metadata": {},
     "output_type": "display_data"
    },
    {
     "data": {
      "application/vnd.jupyter.widget-view+json": {
       "model_id": "c68026cded0c4a6294e2fe2187e23199",
       "version_major": 2,
       "version_minor": 0
      },
      "text/plain": [
       "  0%|          | 0/4 [00:00<?, ?it/s]"
      ]
     },
     "metadata": {},
     "output_type": "display_data"
    },
    {
     "data": {
      "application/vnd.jupyter.widget-view+json": {
       "model_id": "e03cddaca6644bc38edbe777062f0244",
       "version_major": 2,
       "version_minor": 0
      },
      "text/plain": [
       "  0%|          | 0/525 [00:00<?, ?it/s]"
      ]
     },
     "metadata": {},
     "output_type": "display_data"
    },
    {
     "data": {
      "application/vnd.jupyter.widget-view+json": {
       "model_id": "75ade497537746cc8abee6089f3af0e2",
       "version_major": 2,
       "version_minor": 0
      },
      "text/plain": [
       "  0%|          | 0/525 [00:00<?, ?it/s]"
      ]
     },
     "metadata": {},
     "output_type": "display_data"
    },
    {
     "data": {
      "application/vnd.jupyter.widget-view+json": {
       "model_id": "bcd1db5ab2914812bc1322bade4594c9",
       "version_major": 2,
       "version_minor": 0
      },
      "text/plain": [
       "  0%|          | 0/525 [00:00<?, ?it/s]"
      ]
     },
     "metadata": {},
     "output_type": "display_data"
    },
    {
     "data": {
      "application/vnd.jupyter.widget-view+json": {
       "model_id": "72f8bb9da37342bf81a371cbddaea508",
       "version_major": 2,
       "version_minor": 0
      },
      "text/plain": [
       "  0%|          | 0/525 [00:00<?, ?it/s]"
      ]
     },
     "metadata": {},
     "output_type": "display_data"
    },
    {
     "data": {
      "application/vnd.jupyter.widget-view+json": {
       "model_id": "ede025fd9fc546fba0797a89e4127a32",
       "version_major": 2,
       "version_minor": 0
      },
      "text/plain": [
       "  0%|          | 0/4 [00:00<?, ?it/s]"
      ]
     },
     "metadata": {},
     "output_type": "display_data"
    },
    {
     "data": {
      "application/vnd.jupyter.widget-view+json": {
       "model_id": "2024f8f293bb4ee392dd403f67440f21",
       "version_major": 2,
       "version_minor": 0
      },
      "text/plain": [
       "  0%|          | 0/525 [00:00<?, ?it/s]"
      ]
     },
     "metadata": {},
     "output_type": "display_data"
    },
    {
     "data": {
      "application/vnd.jupyter.widget-view+json": {
       "model_id": "8dba123f4bb943ff9cc39de29a8a05bd",
       "version_major": 2,
       "version_minor": 0
      },
      "text/plain": [
       "  0%|          | 0/525 [00:00<?, ?it/s]"
      ]
     },
     "metadata": {},
     "output_type": "display_data"
    },
    {
     "data": {
      "application/vnd.jupyter.widget-view+json": {
       "model_id": "0fd410666b2745ca85b8cecba7922d8f",
       "version_major": 2,
       "version_minor": 0
      },
      "text/plain": [
       "  0%|          | 0/525 [00:00<?, ?it/s]"
      ]
     },
     "metadata": {},
     "output_type": "display_data"
    },
    {
     "data": {
      "application/vnd.jupyter.widget-view+json": {
       "model_id": "0fd6c5825aa44d508f22f6b4324086a5",
       "version_major": 2,
       "version_minor": 0
      },
      "text/plain": [
       "  0%|          | 0/525 [00:00<?, ?it/s]"
      ]
     },
     "metadata": {},
     "output_type": "display_data"
    },
    {
     "data": {
      "application/vnd.jupyter.widget-view+json": {
       "model_id": "a781b6d3e8a144d698c9b5425ed7eb31",
       "version_major": 2,
       "version_minor": 0
      },
      "text/plain": [
       "  0%|          | 0/4 [00:00<?, ?it/s]"
      ]
     },
     "metadata": {},
     "output_type": "display_data"
    },
    {
     "data": {
      "application/vnd.jupyter.widget-view+json": {
       "model_id": "20cbcf99775d41a08fad283be7227d99",
       "version_major": 2,
       "version_minor": 0
      },
      "text/plain": [
       "  0%|          | 0/525 [00:00<?, ?it/s]"
      ]
     },
     "metadata": {},
     "output_type": "display_data"
    },
    {
     "data": {
      "application/vnd.jupyter.widget-view+json": {
       "model_id": "7e55844afd6140c988cfccbc092fec86",
       "version_major": 2,
       "version_minor": 0
      },
      "text/plain": [
       "  0%|          | 0/525 [00:00<?, ?it/s]"
      ]
     },
     "metadata": {},
     "output_type": "display_data"
    },
    {
     "data": {
      "application/vnd.jupyter.widget-view+json": {
       "model_id": "dd19c517275a4219a53410c43d733cd8",
       "version_major": 2,
       "version_minor": 0
      },
      "text/plain": [
       "  0%|          | 0/525 [00:00<?, ?it/s]"
      ]
     },
     "metadata": {},
     "output_type": "display_data"
    },
    {
     "data": {
      "application/vnd.jupyter.widget-view+json": {
       "model_id": "6801e4b41aef4d41a381a32e243a49f2",
       "version_major": 2,
       "version_minor": 0
      },
      "text/plain": [
       "  0%|          | 0/525 [00:00<?, ?it/s]"
      ]
     },
     "metadata": {},
     "output_type": "display_data"
    },
    {
     "data": {
      "application/vnd.jupyter.widget-view+json": {
       "model_id": "df9c8d9e8e6940da85d41d3079327509",
       "version_major": 2,
       "version_minor": 0
      },
      "text/plain": [
       "  0%|          | 0/4 [00:00<?, ?it/s]"
      ]
     },
     "metadata": {},
     "output_type": "display_data"
    },
    {
     "data": {
      "application/vnd.jupyter.widget-view+json": {
       "model_id": "74204364d2104d518a8f3866e3d43a94",
       "version_major": 2,
       "version_minor": 0
      },
      "text/plain": [
       "  0%|          | 0/525 [00:00<?, ?it/s]"
      ]
     },
     "metadata": {},
     "output_type": "display_data"
    },
    {
     "data": {
      "application/vnd.jupyter.widget-view+json": {
       "model_id": "cf6a2b4223584ac59a99ceada28d9bb7",
       "version_major": 2,
       "version_minor": 0
      },
      "text/plain": [
       "  0%|          | 0/525 [00:00<?, ?it/s]"
      ]
     },
     "metadata": {},
     "output_type": "display_data"
    },
    {
     "data": {
      "application/vnd.jupyter.widget-view+json": {
       "model_id": "f6a64a8bab3c4d62a883b56e1ced9de5",
       "version_major": 2,
       "version_minor": 0
      },
      "text/plain": [
       "  0%|          | 0/525 [00:00<?, ?it/s]"
      ]
     },
     "metadata": {},
     "output_type": "display_data"
    },
    {
     "data": {
      "application/vnd.jupyter.widget-view+json": {
       "model_id": "c9c3a7db6f614d71ae1795b371b2604c",
       "version_major": 2,
       "version_minor": 0
      },
      "text/plain": [
       "  0%|          | 0/525 [00:00<?, ?it/s]"
      ]
     },
     "metadata": {},
     "output_type": "display_data"
    },
    {
     "data": {
      "application/vnd.jupyter.widget-view+json": {
       "model_id": "2c63d5e97b7241acb385e07e1863c2de",
       "version_major": 2,
       "version_minor": 0
      },
      "text/plain": [
       "  0%|          | 0/4 [00:00<?, ?it/s]"
      ]
     },
     "metadata": {},
     "output_type": "display_data"
    },
    {
     "data": {
      "application/vnd.jupyter.widget-view+json": {
       "model_id": "236ad7926f684b06898f63f58f36d6ef",
       "version_major": 2,
       "version_minor": 0
      },
      "text/plain": [
       "  0%|          | 0/525 [00:00<?, ?it/s]"
      ]
     },
     "metadata": {},
     "output_type": "display_data"
    },
    {
     "data": {
      "application/vnd.jupyter.widget-view+json": {
       "model_id": "3b3154f2c25a4362ac1b0d6f24dd8672",
       "version_major": 2,
       "version_minor": 0
      },
      "text/plain": [
       "  0%|          | 0/525 [00:00<?, ?it/s]"
      ]
     },
     "metadata": {},
     "output_type": "display_data"
    },
    {
     "data": {
      "application/vnd.jupyter.widget-view+json": {
       "model_id": "7b9405cfdc1346feb807372d57a5cb84",
       "version_major": 2,
       "version_minor": 0
      },
      "text/plain": [
       "  0%|          | 0/525 [00:00<?, ?it/s]"
      ]
     },
     "metadata": {},
     "output_type": "display_data"
    },
    {
     "data": {
      "application/vnd.jupyter.widget-view+json": {
       "model_id": "b3989d2186994724b22813a7aac1428f",
       "version_major": 2,
       "version_minor": 0
      },
      "text/plain": [
       "  0%|          | 0/525 [00:00<?, ?it/s]"
      ]
     },
     "metadata": {},
     "output_type": "display_data"
    },
    {
     "data": {
      "application/vnd.jupyter.widget-view+json": {
       "model_id": "bf49bdb0e593402f836dcc27ab1a42e5",
       "version_major": 2,
       "version_minor": 0
      },
      "text/plain": [
       "  0%|          | 0/4 [00:00<?, ?it/s]"
      ]
     },
     "metadata": {},
     "output_type": "display_data"
    },
    {
     "data": {
      "application/vnd.jupyter.widget-view+json": {
       "model_id": "668a9b834d6e4503b9aa36d740b81f69",
       "version_major": 2,
       "version_minor": 0
      },
      "text/plain": [
       "  0%|          | 0/525 [00:00<?, ?it/s]"
      ]
     },
     "metadata": {},
     "output_type": "display_data"
    },
    {
     "data": {
      "application/vnd.jupyter.widget-view+json": {
       "model_id": "822940d7cce0480087be4fc04406f6ec",
       "version_major": 2,
       "version_minor": 0
      },
      "text/plain": [
       "  0%|          | 0/525 [00:00<?, ?it/s]"
      ]
     },
     "metadata": {},
     "output_type": "display_data"
    },
    {
     "data": {
      "application/vnd.jupyter.widget-view+json": {
       "model_id": "98f68e931c5e4a21b463b20cbc2b7520",
       "version_major": 2,
       "version_minor": 0
      },
      "text/plain": [
       "  0%|          | 0/525 [00:00<?, ?it/s]"
      ]
     },
     "metadata": {},
     "output_type": "display_data"
    },
    {
     "data": {
      "application/vnd.jupyter.widget-view+json": {
       "model_id": "55cf15e66008491ca7585ef4f7f7dafd",
       "version_major": 2,
       "version_minor": 0
      },
      "text/plain": [
       "  0%|          | 0/525 [00:00<?, ?it/s]"
      ]
     },
     "metadata": {},
     "output_type": "display_data"
    },
    {
     "data": {
      "application/vnd.jupyter.widget-view+json": {
       "model_id": "ea3bf163f25142cd930f1e286d9f42e3",
       "version_major": 2,
       "version_minor": 0
      },
      "text/plain": [
       "  0%|          | 0/4 [00:00<?, ?it/s]"
      ]
     },
     "metadata": {},
     "output_type": "display_data"
    },
    {
     "data": {
      "application/vnd.jupyter.widget-view+json": {
       "model_id": "23b63bf954ea4bada561e9d6617c25fb",
       "version_major": 2,
       "version_minor": 0
      },
      "text/plain": [
       "  0%|          | 0/525 [00:00<?, ?it/s]"
      ]
     },
     "metadata": {},
     "output_type": "display_data"
    },
    {
     "data": {
      "application/vnd.jupyter.widget-view+json": {
       "model_id": "d8852baaf9e74a70b96f32766cb2ecc8",
       "version_major": 2,
       "version_minor": 0
      },
      "text/plain": [
       "  0%|          | 0/525 [00:00<?, ?it/s]"
      ]
     },
     "metadata": {},
     "output_type": "display_data"
    },
    {
     "data": {
      "application/vnd.jupyter.widget-view+json": {
       "model_id": "3b11d15e7224425d866066ba7cdb861e",
       "version_major": 2,
       "version_minor": 0
      },
      "text/plain": [
       "  0%|          | 0/525 [00:00<?, ?it/s]"
      ]
     },
     "metadata": {},
     "output_type": "display_data"
    },
    {
     "data": {
      "application/vnd.jupyter.widget-view+json": {
       "model_id": "2b4a72d11c4c4202994c659e357e216b",
       "version_major": 2,
       "version_minor": 0
      },
      "text/plain": [
       "  0%|          | 0/525 [00:00<?, ?it/s]"
      ]
     },
     "metadata": {},
     "output_type": "display_data"
    },
    {
     "data": {
      "application/vnd.jupyter.widget-view+json": {
       "model_id": "707c840bbfe74a9f830b21b441673c0b",
       "version_major": 2,
       "version_minor": 0
      },
      "text/plain": [
       "  0%|          | 0/4 [00:00<?, ?it/s]"
      ]
     },
     "metadata": {},
     "output_type": "display_data"
    },
    {
     "data": {
      "application/vnd.jupyter.widget-view+json": {
       "model_id": "a16c2f1afaf54f2fb7790b8bfe48643a",
       "version_major": 2,
       "version_minor": 0
      },
      "text/plain": [
       "  0%|          | 0/525 [00:00<?, ?it/s]"
      ]
     },
     "metadata": {},
     "output_type": "display_data"
    },
    {
     "data": {
      "application/vnd.jupyter.widget-view+json": {
       "model_id": "fe35980efa624439b53218ec8320dd65",
       "version_major": 2,
       "version_minor": 0
      },
      "text/plain": [
       "  0%|          | 0/525 [00:00<?, ?it/s]"
      ]
     },
     "metadata": {},
     "output_type": "display_data"
    },
    {
     "data": {
      "application/vnd.jupyter.widget-view+json": {
       "model_id": "4126916d34594286bab15dd56f650ea7",
       "version_major": 2,
       "version_minor": 0
      },
      "text/plain": [
       "  0%|          | 0/525 [00:00<?, ?it/s]"
      ]
     },
     "metadata": {},
     "output_type": "display_data"
    },
    {
     "data": {
      "application/vnd.jupyter.widget-view+json": {
       "model_id": "7a24fe47dd714c4dbed4f73890470955",
       "version_major": 2,
       "version_minor": 0
      },
      "text/plain": [
       "  0%|          | 0/525 [00:00<?, ?it/s]"
      ]
     },
     "metadata": {},
     "output_type": "display_data"
    },
    {
     "data": {
      "application/vnd.jupyter.widget-view+json": {
       "model_id": "543ed17504d246ebbc00eab0afaedc6f",
       "version_major": 2,
       "version_minor": 0
      },
      "text/plain": [
       "  0%|          | 0/4 [00:00<?, ?it/s]"
      ]
     },
     "metadata": {},
     "output_type": "display_data"
    },
    {
     "data": {
      "application/vnd.jupyter.widget-view+json": {
       "model_id": "7b612ac9f18445689cc84a94e3373b95",
       "version_major": 2,
       "version_minor": 0
      },
      "text/plain": [
       "  0%|          | 0/525 [00:00<?, ?it/s]"
      ]
     },
     "metadata": {},
     "output_type": "display_data"
    },
    {
     "data": {
      "application/vnd.jupyter.widget-view+json": {
       "model_id": "e41d6de74d124ec381771fb5742fb836",
       "version_major": 2,
       "version_minor": 0
      },
      "text/plain": [
       "  0%|          | 0/525 [00:00<?, ?it/s]"
      ]
     },
     "metadata": {},
     "output_type": "display_data"
    },
    {
     "data": {
      "application/vnd.jupyter.widget-view+json": {
       "model_id": "a50729f781da44d5bfea240906c69956",
       "version_major": 2,
       "version_minor": 0
      },
      "text/plain": [
       "  0%|          | 0/525 [00:00<?, ?it/s]"
      ]
     },
     "metadata": {},
     "output_type": "display_data"
    },
    {
     "data": {
      "application/vnd.jupyter.widget-view+json": {
       "model_id": "47c25461907e4f4fa8afeb73780a1458",
       "version_major": 2,
       "version_minor": 0
      },
      "text/plain": [
       "  0%|          | 0/525 [00:00<?, ?it/s]"
      ]
     },
     "metadata": {},
     "output_type": "display_data"
    },
    {
     "data": {
      "application/vnd.jupyter.widget-view+json": {
       "model_id": "ff17b36d030e49208bd615d31f9decd0",
       "version_major": 2,
       "version_minor": 0
      },
      "text/plain": [
       "  0%|          | 0/4 [00:00<?, ?it/s]"
      ]
     },
     "metadata": {},
     "output_type": "display_data"
    },
    {
     "data": {
      "application/vnd.jupyter.widget-view+json": {
       "model_id": "c249ed8db41f4318ad9a62215f2fc21e",
       "version_major": 2,
       "version_minor": 0
      },
      "text/plain": [
       "  0%|          | 0/525 [00:00<?, ?it/s]"
      ]
     },
     "metadata": {},
     "output_type": "display_data"
    },
    {
     "data": {
      "application/vnd.jupyter.widget-view+json": {
       "model_id": "2de520c27c424362872a54df62696b6f",
       "version_major": 2,
       "version_minor": 0
      },
      "text/plain": [
       "  0%|          | 0/525 [00:00<?, ?it/s]"
      ]
     },
     "metadata": {},
     "output_type": "display_data"
    },
    {
     "data": {
      "application/vnd.jupyter.widget-view+json": {
       "model_id": "5fa66caba9e74a258f74ef87e27bee42",
       "version_major": 2,
       "version_minor": 0
      },
      "text/plain": [
       "  0%|          | 0/525 [00:00<?, ?it/s]"
      ]
     },
     "metadata": {},
     "output_type": "display_data"
    },
    {
     "data": {
      "application/vnd.jupyter.widget-view+json": {
       "model_id": "27ac72ffdb93456cadf143acfa1c288b",
       "version_major": 2,
       "version_minor": 0
      },
      "text/plain": [
       "  0%|          | 0/525 [00:00<?, ?it/s]"
      ]
     },
     "metadata": {},
     "output_type": "display_data"
    },
    {
     "data": {
      "application/vnd.jupyter.widget-view+json": {
       "model_id": "6c842e03bf7243968e6870034d498301",
       "version_major": 2,
       "version_minor": 0
      },
      "text/plain": [
       "  0%|          | 0/4 [00:00<?, ?it/s]"
      ]
     },
     "metadata": {},
     "output_type": "display_data"
    },
    {
     "data": {
      "application/vnd.jupyter.widget-view+json": {
       "model_id": "38c02fe9cf0644b69f282409c303731a",
       "version_major": 2,
       "version_minor": 0
      },
      "text/plain": [
       "  0%|          | 0/525 [00:00<?, ?it/s]"
      ]
     },
     "metadata": {},
     "output_type": "display_data"
    },
    {
     "data": {
      "application/vnd.jupyter.widget-view+json": {
       "model_id": "d5c58ad2884f497c835d475dc3bfaa01",
       "version_major": 2,
       "version_minor": 0
      },
      "text/plain": [
       "  0%|          | 0/525 [00:00<?, ?it/s]"
      ]
     },
     "metadata": {},
     "output_type": "display_data"
    },
    {
     "data": {
      "application/vnd.jupyter.widget-view+json": {
       "model_id": "2d1da88b25dd4a9f987aa00e8e0e3695",
       "version_major": 2,
       "version_minor": 0
      },
      "text/plain": [
       "  0%|          | 0/525 [00:00<?, ?it/s]"
      ]
     },
     "metadata": {},
     "output_type": "display_data"
    },
    {
     "data": {
      "application/vnd.jupyter.widget-view+json": {
       "model_id": "cfe68acc4d8b4b06b5f3d4a6c89aceb6",
       "version_major": 2,
       "version_minor": 0
      },
      "text/plain": [
       "  0%|          | 0/525 [00:00<?, ?it/s]"
      ]
     },
     "metadata": {},
     "output_type": "display_data"
    },
    {
     "data": {
      "application/vnd.jupyter.widget-view+json": {
       "model_id": "f06f976cf0b54f3eabb77c05df5da77c",
       "version_major": 2,
       "version_minor": 0
      },
      "text/plain": [
       "  0%|          | 0/4 [00:00<?, ?it/s]"
      ]
     },
     "metadata": {},
     "output_type": "display_data"
    },
    {
     "data": {
      "application/vnd.jupyter.widget-view+json": {
       "model_id": "19f3251c76ee4a2da3c88dd5300ac4d9",
       "version_major": 2,
       "version_minor": 0
      },
      "text/plain": [
       "  0%|          | 0/525 [00:00<?, ?it/s]"
      ]
     },
     "metadata": {},
     "output_type": "display_data"
    },
    {
     "data": {
      "application/vnd.jupyter.widget-view+json": {
       "model_id": "b44f86ea7947413ba52a8d6777670f25",
       "version_major": 2,
       "version_minor": 0
      },
      "text/plain": [
       "  0%|          | 0/525 [00:00<?, ?it/s]"
      ]
     },
     "metadata": {},
     "output_type": "display_data"
    },
    {
     "data": {
      "application/vnd.jupyter.widget-view+json": {
       "model_id": "d2f774d0d841479a8ee59708bbe2f959",
       "version_major": 2,
       "version_minor": 0
      },
      "text/plain": [
       "  0%|          | 0/525 [00:00<?, ?it/s]"
      ]
     },
     "metadata": {},
     "output_type": "display_data"
    },
    {
     "data": {
      "application/vnd.jupyter.widget-view+json": {
       "model_id": "8a8c7f6947a940e7a1767312c6baf02c",
       "version_major": 2,
       "version_minor": 0
      },
      "text/plain": [
       "  0%|          | 0/525 [00:00<?, ?it/s]"
      ]
     },
     "metadata": {},
     "output_type": "display_data"
    },
    {
     "data": {
      "application/vnd.jupyter.widget-view+json": {
       "model_id": "dbda3a1edba04330a29f02dfa922f896",
       "version_major": 2,
       "version_minor": 0
      },
      "text/plain": [
       "  0%|          | 0/4 [00:00<?, ?it/s]"
      ]
     },
     "metadata": {},
     "output_type": "display_data"
    },
    {
     "data": {
      "application/vnd.jupyter.widget-view+json": {
       "model_id": "457fe788ca5c4dd5841823178ed287d9",
       "version_major": 2,
       "version_minor": 0
      },
      "text/plain": [
       "  0%|          | 0/525 [00:00<?, ?it/s]"
      ]
     },
     "metadata": {},
     "output_type": "display_data"
    },
    {
     "data": {
      "application/vnd.jupyter.widget-view+json": {
       "model_id": "bfd266d17f794a9cae38c94ca15c047a",
       "version_major": 2,
       "version_minor": 0
      },
      "text/plain": [
       "  0%|          | 0/525 [00:00<?, ?it/s]"
      ]
     },
     "metadata": {},
     "output_type": "display_data"
    },
    {
     "data": {
      "application/vnd.jupyter.widget-view+json": {
       "model_id": "446f773058e24620b825fd17884b0d2e",
       "version_major": 2,
       "version_minor": 0
      },
      "text/plain": [
       "  0%|          | 0/525 [00:00<?, ?it/s]"
      ]
     },
     "metadata": {},
     "output_type": "display_data"
    },
    {
     "data": {
      "application/vnd.jupyter.widget-view+json": {
       "model_id": "0e5a734e3c3c49e492be523f3df255a8",
       "version_major": 2,
       "version_minor": 0
      },
      "text/plain": [
       "  0%|          | 0/525 [00:00<?, ?it/s]"
      ]
     },
     "metadata": {},
     "output_type": "display_data"
    },
    {
     "data": {
      "application/vnd.jupyter.widget-view+json": {
       "model_id": "4b7271a508e64907b8e185b5d7399dcf",
       "version_major": 2,
       "version_minor": 0
      },
      "text/plain": [
       "  0%|          | 0/4 [00:00<?, ?it/s]"
      ]
     },
     "metadata": {},
     "output_type": "display_data"
    },
    {
     "data": {
      "application/vnd.jupyter.widget-view+json": {
       "model_id": "3d352a2b3af84d1ebf57f160f30c1182",
       "version_major": 2,
       "version_minor": 0
      },
      "text/plain": [
       "  0%|          | 0/525 [00:00<?, ?it/s]"
      ]
     },
     "metadata": {},
     "output_type": "display_data"
    },
    {
     "data": {
      "application/vnd.jupyter.widget-view+json": {
       "model_id": "a889d1aaa10e41ba8971fa9fb3e46e29",
       "version_major": 2,
       "version_minor": 0
      },
      "text/plain": [
       "  0%|          | 0/525 [00:00<?, ?it/s]"
      ]
     },
     "metadata": {},
     "output_type": "display_data"
    },
    {
     "data": {
      "application/vnd.jupyter.widget-view+json": {
       "model_id": "e46b7cc67bd1441aa51cef8e95cf5691",
       "version_major": 2,
       "version_minor": 0
      },
      "text/plain": [
       "  0%|          | 0/525 [00:00<?, ?it/s]"
      ]
     },
     "metadata": {},
     "output_type": "display_data"
    },
    {
     "data": {
      "application/vnd.jupyter.widget-view+json": {
       "model_id": "4e9832e9cd50462db97cdef88e6a859b",
       "version_major": 2,
       "version_minor": 0
      },
      "text/plain": [
       "  0%|          | 0/525 [00:00<?, ?it/s]"
      ]
     },
     "metadata": {},
     "output_type": "display_data"
    },
    {
     "data": {
      "application/vnd.jupyter.widget-view+json": {
       "model_id": "badd143278be44e298b85ec1f2ad7afa",
       "version_major": 2,
       "version_minor": 0
      },
      "text/plain": [
       "  0%|          | 0/4 [00:00<?, ?it/s]"
      ]
     },
     "metadata": {},
     "output_type": "display_data"
    },
    {
     "data": {
      "application/vnd.jupyter.widget-view+json": {
       "model_id": "018453605228405c985c685933351dfa",
       "version_major": 2,
       "version_minor": 0
      },
      "text/plain": [
       "  0%|          | 0/525 [00:00<?, ?it/s]"
      ]
     },
     "metadata": {},
     "output_type": "display_data"
    },
    {
     "data": {
      "application/vnd.jupyter.widget-view+json": {
       "model_id": "a3279ebcb0344f34b63ce36c8cdda9bb",
       "version_major": 2,
       "version_minor": 0
      },
      "text/plain": [
       "  0%|          | 0/525 [00:00<?, ?it/s]"
      ]
     },
     "metadata": {},
     "output_type": "display_data"
    },
    {
     "data": {
      "application/vnd.jupyter.widget-view+json": {
       "model_id": "ce1a7cda6e29408387da7b3ee604ac8c",
       "version_major": 2,
       "version_minor": 0
      },
      "text/plain": [
       "  0%|          | 0/525 [00:00<?, ?it/s]"
      ]
     },
     "metadata": {},
     "output_type": "display_data"
    },
    {
     "data": {
      "application/vnd.jupyter.widget-view+json": {
       "model_id": "849161a65c3a4f4dad759ab57994977d",
       "version_major": 2,
       "version_minor": 0
      },
      "text/plain": [
       "  0%|          | 0/525 [00:00<?, ?it/s]"
      ]
     },
     "metadata": {},
     "output_type": "display_data"
    },
    {
     "data": {
      "application/vnd.jupyter.widget-view+json": {
       "model_id": "3f86b3d216824c6891509c7abf8a20f5",
       "version_major": 2,
       "version_minor": 0
      },
      "text/plain": [
       "  0%|          | 0/4 [00:00<?, ?it/s]"
      ]
     },
     "metadata": {},
     "output_type": "display_data"
    },
    {
     "data": {
      "application/vnd.jupyter.widget-view+json": {
       "model_id": "cf850a4bc8704aa6aa742db9ea53c590",
       "version_major": 2,
       "version_minor": 0
      },
      "text/plain": [
       "  0%|          | 0/525 [00:00<?, ?it/s]"
      ]
     },
     "metadata": {},
     "output_type": "display_data"
    },
    {
     "data": {
      "application/vnd.jupyter.widget-view+json": {
       "model_id": "c25434b490f34b01ae84b9d70a2565cf",
       "version_major": 2,
       "version_minor": 0
      },
      "text/plain": [
       "  0%|          | 0/525 [00:00<?, ?it/s]"
      ]
     },
     "metadata": {},
     "output_type": "display_data"
    },
    {
     "data": {
      "application/vnd.jupyter.widget-view+json": {
       "model_id": "0ff24d12125e41348b50fadeb1b0c6fe",
       "version_major": 2,
       "version_minor": 0
      },
      "text/plain": [
       "  0%|          | 0/525 [00:00<?, ?it/s]"
      ]
     },
     "metadata": {},
     "output_type": "display_data"
    },
    {
     "data": {
      "application/vnd.jupyter.widget-view+json": {
       "model_id": "cc5b94f70d8b466783dd05144bcdd8f0",
       "version_major": 2,
       "version_minor": 0
      },
      "text/plain": [
       "  0%|          | 0/525 [00:00<?, ?it/s]"
      ]
     },
     "metadata": {},
     "output_type": "display_data"
    },
    {
     "data": {
      "application/vnd.jupyter.widget-view+json": {
       "model_id": "11bd59b70c2d406b87366ccf2debbe60",
       "version_major": 2,
       "version_minor": 0
      },
      "text/plain": [
       "  0%|          | 0/4 [00:00<?, ?it/s]"
      ]
     },
     "metadata": {},
     "output_type": "display_data"
    },
    {
     "data": {
      "application/vnd.jupyter.widget-view+json": {
       "model_id": "993ee8da08444dd2827c5e3da029570d",
       "version_major": 2,
       "version_minor": 0
      },
      "text/plain": [
       "  0%|          | 0/525 [00:00<?, ?it/s]"
      ]
     },
     "metadata": {},
     "output_type": "display_data"
    },
    {
     "data": {
      "application/vnd.jupyter.widget-view+json": {
       "model_id": "a0001d051f014a5dabbdb66ab18e7743",
       "version_major": 2,
       "version_minor": 0
      },
      "text/plain": [
       "  0%|          | 0/525 [00:00<?, ?it/s]"
      ]
     },
     "metadata": {},
     "output_type": "display_data"
    },
    {
     "data": {
      "application/vnd.jupyter.widget-view+json": {
       "model_id": "901a30cd4df74726ae395e0eb3c1928d",
       "version_major": 2,
       "version_minor": 0
      },
      "text/plain": [
       "  0%|          | 0/525 [00:00<?, ?it/s]"
      ]
     },
     "metadata": {},
     "output_type": "display_data"
    },
    {
     "data": {
      "application/vnd.jupyter.widget-view+json": {
       "model_id": "76de87254d9b44d59a3292174004fd0d",
       "version_major": 2,
       "version_minor": 0
      },
      "text/plain": [
       "  0%|          | 0/525 [00:00<?, ?it/s]"
      ]
     },
     "metadata": {},
     "output_type": "display_data"
    },
    {
     "data": {
      "application/vnd.jupyter.widget-view+json": {
       "model_id": "221bddfa33de4e31b2b108fc0a293296",
       "version_major": 2,
       "version_minor": 0
      },
      "text/plain": [
       "  0%|          | 0/4 [00:00<?, ?it/s]"
      ]
     },
     "metadata": {},
     "output_type": "display_data"
    },
    {
     "data": {
      "application/vnd.jupyter.widget-view+json": {
       "model_id": "b309554df21c4e748be480eca5ebb2bb",
       "version_major": 2,
       "version_minor": 0
      },
      "text/plain": [
       "  0%|          | 0/525 [00:00<?, ?it/s]"
      ]
     },
     "metadata": {},
     "output_type": "display_data"
    },
    {
     "data": {
      "application/vnd.jupyter.widget-view+json": {
       "model_id": "dbd219bb2f214c2dae9035a3f5c1fb1e",
       "version_major": 2,
       "version_minor": 0
      },
      "text/plain": [
       "  0%|          | 0/525 [00:00<?, ?it/s]"
      ]
     },
     "metadata": {},
     "output_type": "display_data"
    },
    {
     "data": {
      "application/vnd.jupyter.widget-view+json": {
       "model_id": "9f40f49daa8b4ce88ab7892efcc56f2c",
       "version_major": 2,
       "version_minor": 0
      },
      "text/plain": [
       "  0%|          | 0/525 [00:00<?, ?it/s]"
      ]
     },
     "metadata": {},
     "output_type": "display_data"
    },
    {
     "data": {
      "application/vnd.jupyter.widget-view+json": {
       "model_id": "cd0a285b97c24a5086adb3fbc9186764",
       "version_major": 2,
       "version_minor": 0
      },
      "text/plain": [
       "  0%|          | 0/525 [00:00<?, ?it/s]"
      ]
     },
     "metadata": {},
     "output_type": "display_data"
    },
    {
     "data": {
      "application/vnd.jupyter.widget-view+json": {
       "model_id": "4332027f94924ecbadff2b0d4dbbe5e5",
       "version_major": 2,
       "version_minor": 0
      },
      "text/plain": [
       "  0%|          | 0/4 [00:00<?, ?it/s]"
      ]
     },
     "metadata": {},
     "output_type": "display_data"
    },
    {
     "data": {
      "application/vnd.jupyter.widget-view+json": {
       "model_id": "fbf5f79f7dad46529d8141381e43f4f0",
       "version_major": 2,
       "version_minor": 0
      },
      "text/plain": [
       "  0%|          | 0/525 [00:00<?, ?it/s]"
      ]
     },
     "metadata": {},
     "output_type": "display_data"
    },
    {
     "data": {
      "application/vnd.jupyter.widget-view+json": {
       "model_id": "39f8c0ffd95b469bb0af94a598dc5235",
       "version_major": 2,
       "version_minor": 0
      },
      "text/plain": [
       "  0%|          | 0/525 [00:00<?, ?it/s]"
      ]
     },
     "metadata": {},
     "output_type": "display_data"
    },
    {
     "data": {
      "application/vnd.jupyter.widget-view+json": {
       "model_id": "5b8318ce67624cc4a98239533a0ef378",
       "version_major": 2,
       "version_minor": 0
      },
      "text/plain": [
       "  0%|          | 0/525 [00:00<?, ?it/s]"
      ]
     },
     "metadata": {},
     "output_type": "display_data"
    },
    {
     "data": {
      "application/vnd.jupyter.widget-view+json": {
       "model_id": "4495b030b6b7457ebdea867fd16f2c1c",
       "version_major": 2,
       "version_minor": 0
      },
      "text/plain": [
       "  0%|          | 0/525 [00:00<?, ?it/s]"
      ]
     },
     "metadata": {},
     "output_type": "display_data"
    },
    {
     "data": {
      "application/vnd.jupyter.widget-view+json": {
       "model_id": "6c0fd906801e4f02a8ca0e4fe7d5e8d8",
       "version_major": 2,
       "version_minor": 0
      },
      "text/plain": [
       "  0%|          | 0/4 [00:00<?, ?it/s]"
      ]
     },
     "metadata": {},
     "output_type": "display_data"
    },
    {
     "data": {
      "application/vnd.jupyter.widget-view+json": {
       "model_id": "6db4010b7e53447b8a5b643222860ed9",
       "version_major": 2,
       "version_minor": 0
      },
      "text/plain": [
       "  0%|          | 0/525 [00:00<?, ?it/s]"
      ]
     },
     "metadata": {},
     "output_type": "display_data"
    },
    {
     "data": {
      "application/vnd.jupyter.widget-view+json": {
       "model_id": "876b45de08a749378e8988354c707698",
       "version_major": 2,
       "version_minor": 0
      },
      "text/plain": [
       "  0%|          | 0/525 [00:00<?, ?it/s]"
      ]
     },
     "metadata": {},
     "output_type": "display_data"
    },
    {
     "data": {
      "application/vnd.jupyter.widget-view+json": {
       "model_id": "9c1a33427edd4c0a9b5b47a595dc9f09",
       "version_major": 2,
       "version_minor": 0
      },
      "text/plain": [
       "  0%|          | 0/525 [00:00<?, ?it/s]"
      ]
     },
     "metadata": {},
     "output_type": "display_data"
    },
    {
     "data": {
      "application/vnd.jupyter.widget-view+json": {
       "model_id": "f3aa7c1477ee4a5f8ba4998d10e4ee90",
       "version_major": 2,
       "version_minor": 0
      },
      "text/plain": [
       "  0%|          | 0/525 [00:00<?, ?it/s]"
      ]
     },
     "metadata": {},
     "output_type": "display_data"
    },
    {
     "data": {
      "application/vnd.jupyter.widget-view+json": {
       "model_id": "11ab19d839ee49039a8b83841ec120eb",
       "version_major": 2,
       "version_minor": 0
      },
      "text/plain": [
       "  0%|          | 0/4 [00:00<?, ?it/s]"
      ]
     },
     "metadata": {},
     "output_type": "display_data"
    },
    {
     "data": {
      "application/vnd.jupyter.widget-view+json": {
       "model_id": "9481220f90bd467dace8abdf6494b03e",
       "version_major": 2,
       "version_minor": 0
      },
      "text/plain": [
       "  0%|          | 0/525 [00:00<?, ?it/s]"
      ]
     },
     "metadata": {},
     "output_type": "display_data"
    },
    {
     "data": {
      "application/vnd.jupyter.widget-view+json": {
       "model_id": "b0bfc44614a249848d2098e220c44f16",
       "version_major": 2,
       "version_minor": 0
      },
      "text/plain": [
       "  0%|          | 0/525 [00:00<?, ?it/s]"
      ]
     },
     "metadata": {},
     "output_type": "display_data"
    },
    {
     "data": {
      "application/vnd.jupyter.widget-view+json": {
       "model_id": "26db5993b114470b819bbae457fae4b9",
       "version_major": 2,
       "version_minor": 0
      },
      "text/plain": [
       "  0%|          | 0/525 [00:00<?, ?it/s]"
      ]
     },
     "metadata": {},
     "output_type": "display_data"
    },
    {
     "data": {
      "application/vnd.jupyter.widget-view+json": {
       "model_id": "d01153e1a37d49d0b82c4197397a8726",
       "version_major": 2,
       "version_minor": 0
      },
      "text/plain": [
       "  0%|          | 0/525 [00:00<?, ?it/s]"
      ]
     },
     "metadata": {},
     "output_type": "display_data"
    },
    {
     "data": {
      "application/vnd.jupyter.widget-view+json": {
       "model_id": "6f8cdb42bf0648df891211177a7b3ad5",
       "version_major": 2,
       "version_minor": 0
      },
      "text/plain": [
       "  0%|          | 0/4 [00:00<?, ?it/s]"
      ]
     },
     "metadata": {},
     "output_type": "display_data"
    },
    {
     "data": {
      "application/vnd.jupyter.widget-view+json": {
       "model_id": "39244d7cc4104faf9e04c80753d0ce0a",
       "version_major": 2,
       "version_minor": 0
      },
      "text/plain": [
       "  0%|          | 0/525 [00:00<?, ?it/s]"
      ]
     },
     "metadata": {},
     "output_type": "display_data"
    },
    {
     "data": {
      "application/vnd.jupyter.widget-view+json": {
       "model_id": "b370c7dd33c54323a03f23add58da0b1",
       "version_major": 2,
       "version_minor": 0
      },
      "text/plain": [
       "  0%|          | 0/525 [00:00<?, ?it/s]"
      ]
     },
     "metadata": {},
     "output_type": "display_data"
    },
    {
     "data": {
      "application/vnd.jupyter.widget-view+json": {
       "model_id": "9e573f7449ae4b8a8ff3aa4d73824d03",
       "version_major": 2,
       "version_minor": 0
      },
      "text/plain": [
       "  0%|          | 0/525 [00:00<?, ?it/s]"
      ]
     },
     "metadata": {},
     "output_type": "display_data"
    },
    {
     "data": {
      "application/vnd.jupyter.widget-view+json": {
       "model_id": "89a2df2e716849639fa77441979122f3",
       "version_major": 2,
       "version_minor": 0
      },
      "text/plain": [
       "  0%|          | 0/525 [00:00<?, ?it/s]"
      ]
     },
     "metadata": {},
     "output_type": "display_data"
    },
    {
     "data": {
      "application/vnd.jupyter.widget-view+json": {
       "model_id": "f865f5d4d1ee4da9adddc2d69be7acc8",
       "version_major": 2,
       "version_minor": 0
      },
      "text/plain": [
       "  0%|          | 0/4 [00:00<?, ?it/s]"
      ]
     },
     "metadata": {},
     "output_type": "display_data"
    },
    {
     "data": {
      "application/vnd.jupyter.widget-view+json": {
       "model_id": "5cd689485da047c88d865da9ec07e145",
       "version_major": 2,
       "version_minor": 0
      },
      "text/plain": [
       "  0%|          | 0/525 [00:00<?, ?it/s]"
      ]
     },
     "metadata": {},
     "output_type": "display_data"
    },
    {
     "data": {
      "application/vnd.jupyter.widget-view+json": {
       "model_id": "d9739be5e69b4525aee7e147c4cc25c0",
       "version_major": 2,
       "version_minor": 0
      },
      "text/plain": [
       "  0%|          | 0/525 [00:00<?, ?it/s]"
      ]
     },
     "metadata": {},
     "output_type": "display_data"
    },
    {
     "data": {
      "application/vnd.jupyter.widget-view+json": {
       "model_id": "d1438ade0cca43788155e01833800f70",
       "version_major": 2,
       "version_minor": 0
      },
      "text/plain": [
       "  0%|          | 0/525 [00:00<?, ?it/s]"
      ]
     },
     "metadata": {},
     "output_type": "display_data"
    },
    {
     "data": {
      "application/vnd.jupyter.widget-view+json": {
       "model_id": "664342e640d849a1a7ea0d2c3b72ef7e",
       "version_major": 2,
       "version_minor": 0
      },
      "text/plain": [
       "  0%|          | 0/525 [00:00<?, ?it/s]"
      ]
     },
     "metadata": {},
     "output_type": "display_data"
    },
    {
     "data": {
      "application/vnd.jupyter.widget-view+json": {
       "model_id": "329f49d395c44dd2b1f553c8df708a6c",
       "version_major": 2,
       "version_minor": 0
      },
      "text/plain": [
       "  0%|          | 0/4 [00:00<?, ?it/s]"
      ]
     },
     "metadata": {},
     "output_type": "display_data"
    },
    {
     "data": {
      "application/vnd.jupyter.widget-view+json": {
       "model_id": "8e71a49288ff44b185dbd44512756149",
       "version_major": 2,
       "version_minor": 0
      },
      "text/plain": [
       "  0%|          | 0/525 [00:00<?, ?it/s]"
      ]
     },
     "metadata": {},
     "output_type": "display_data"
    },
    {
     "data": {
      "application/vnd.jupyter.widget-view+json": {
       "model_id": "6e837c78ab1945a3baf58903bbe7d8d7",
       "version_major": 2,
       "version_minor": 0
      },
      "text/plain": [
       "  0%|          | 0/525 [00:00<?, ?it/s]"
      ]
     },
     "metadata": {},
     "output_type": "display_data"
    },
    {
     "data": {
      "application/vnd.jupyter.widget-view+json": {
       "model_id": "b97f621b2be54671b16c70719ca8fd33",
       "version_major": 2,
       "version_minor": 0
      },
      "text/plain": [
       "  0%|          | 0/525 [00:00<?, ?it/s]"
      ]
     },
     "metadata": {},
     "output_type": "display_data"
    },
    {
     "data": {
      "application/vnd.jupyter.widget-view+json": {
       "model_id": "5ae246f5331b42e48e68e1efe48251ad",
       "version_major": 2,
       "version_minor": 0
      },
      "text/plain": [
       "  0%|          | 0/525 [00:00<?, ?it/s]"
      ]
     },
     "metadata": {},
     "output_type": "display_data"
    },
    {
     "data": {
      "application/vnd.jupyter.widget-view+json": {
       "model_id": "458dd257aef347c7932abc7d801c66a3",
       "version_major": 2,
       "version_minor": 0
      },
      "text/plain": [
       "  0%|          | 0/4 [00:00<?, ?it/s]"
      ]
     },
     "metadata": {},
     "output_type": "display_data"
    },
    {
     "data": {
      "application/vnd.jupyter.widget-view+json": {
       "model_id": "85bbba6c3509402cad26d1e742e24559",
       "version_major": 2,
       "version_minor": 0
      },
      "text/plain": [
       "  0%|          | 0/525 [00:00<?, ?it/s]"
      ]
     },
     "metadata": {},
     "output_type": "display_data"
    },
    {
     "data": {
      "application/vnd.jupyter.widget-view+json": {
       "model_id": "3646e41ed13d49b89c70df7025169392",
       "version_major": 2,
       "version_minor": 0
      },
      "text/plain": [
       "  0%|          | 0/525 [00:00<?, ?it/s]"
      ]
     },
     "metadata": {},
     "output_type": "display_data"
    },
    {
     "data": {
      "application/vnd.jupyter.widget-view+json": {
       "model_id": "ac942e5dc085402f993eab93bb22237a",
       "version_major": 2,
       "version_minor": 0
      },
      "text/plain": [
       "  0%|          | 0/525 [00:00<?, ?it/s]"
      ]
     },
     "metadata": {},
     "output_type": "display_data"
    },
    {
     "data": {
      "application/vnd.jupyter.widget-view+json": {
       "model_id": "5ad15906d8034adba19b4ef7d970db52",
       "version_major": 2,
       "version_minor": 0
      },
      "text/plain": [
       "  0%|          | 0/525 [00:00<?, ?it/s]"
      ]
     },
     "metadata": {},
     "output_type": "display_data"
    },
    {
     "data": {
      "application/vnd.jupyter.widget-view+json": {
       "model_id": "5990458d4de04df8b2573c35a7a3c141",
       "version_major": 2,
       "version_minor": 0
      },
      "text/plain": [
       "  0%|          | 0/4 [00:00<?, ?it/s]"
      ]
     },
     "metadata": {},
     "output_type": "display_data"
    },
    {
     "data": {
      "application/vnd.jupyter.widget-view+json": {
       "model_id": "e55e161dbac1431db40c8d059004c805",
       "version_major": 2,
       "version_minor": 0
      },
      "text/plain": [
       "  0%|          | 0/525 [00:00<?, ?it/s]"
      ]
     },
     "metadata": {},
     "output_type": "display_data"
    },
    {
     "data": {
      "application/vnd.jupyter.widget-view+json": {
       "model_id": "b1e08d00662c40a989fe11f15e626cfb",
       "version_major": 2,
       "version_minor": 0
      },
      "text/plain": [
       "  0%|          | 0/525 [00:00<?, ?it/s]"
      ]
     },
     "metadata": {},
     "output_type": "display_data"
    },
    {
     "data": {
      "application/vnd.jupyter.widget-view+json": {
       "model_id": "d6b535680e6945ee809e30b5a32fdcd7",
       "version_major": 2,
       "version_minor": 0
      },
      "text/plain": [
       "  0%|          | 0/525 [00:00<?, ?it/s]"
      ]
     },
     "metadata": {},
     "output_type": "display_data"
    },
    {
     "data": {
      "application/vnd.jupyter.widget-view+json": {
       "model_id": "2bd33031cf374892b14fa188fb21bd0f",
       "version_major": 2,
       "version_minor": 0
      },
      "text/plain": [
       "  0%|          | 0/525 [00:00<?, ?it/s]"
      ]
     },
     "metadata": {},
     "output_type": "display_data"
    },
    {
     "data": {
      "application/vnd.jupyter.widget-view+json": {
       "model_id": "8f79fe338dba481f90f93deb30646fe3",
       "version_major": 2,
       "version_minor": 0
      },
      "text/plain": [
       "  0%|          | 0/4 [00:00<?, ?it/s]"
      ]
     },
     "metadata": {},
     "output_type": "display_data"
    },
    {
     "data": {
      "application/vnd.jupyter.widget-view+json": {
       "model_id": "f5055de922a84b699aaff9e9978fe0fb",
       "version_major": 2,
       "version_minor": 0
      },
      "text/plain": [
       "  0%|          | 0/525 [00:00<?, ?it/s]"
      ]
     },
     "metadata": {},
     "output_type": "display_data"
    },
    {
     "data": {
      "application/vnd.jupyter.widget-view+json": {
       "model_id": "7e0911d92c5849218bf52a6ac07a0d53",
       "version_major": 2,
       "version_minor": 0
      },
      "text/plain": [
       "  0%|          | 0/525 [00:00<?, ?it/s]"
      ]
     },
     "metadata": {},
     "output_type": "display_data"
    },
    {
     "data": {
      "application/vnd.jupyter.widget-view+json": {
       "model_id": "2d43005c7ae2460c94bb60aca286113b",
       "version_major": 2,
       "version_minor": 0
      },
      "text/plain": [
       "  0%|          | 0/525 [00:00<?, ?it/s]"
      ]
     },
     "metadata": {},
     "output_type": "display_data"
    },
    {
     "data": {
      "application/vnd.jupyter.widget-view+json": {
       "model_id": "ab7f8d48b98440fb93cd8b364684dcc4",
       "version_major": 2,
       "version_minor": 0
      },
      "text/plain": [
       "  0%|          | 0/525 [00:00<?, ?it/s]"
      ]
     },
     "metadata": {},
     "output_type": "display_data"
    },
    {
     "data": {
      "application/vnd.jupyter.widget-view+json": {
       "model_id": "9d8ed4e3f37144869fc361dbdf653122",
       "version_major": 2,
       "version_minor": 0
      },
      "text/plain": [
       "  0%|          | 0/4 [00:00<?, ?it/s]"
      ]
     },
     "metadata": {},
     "output_type": "display_data"
    },
    {
     "data": {
      "application/vnd.jupyter.widget-view+json": {
       "model_id": "51a96163aba544e1b23f41686f9c753e",
       "version_major": 2,
       "version_minor": 0
      },
      "text/plain": [
       "  0%|          | 0/525 [00:00<?, ?it/s]"
      ]
     },
     "metadata": {},
     "output_type": "display_data"
    },
    {
     "data": {
      "application/vnd.jupyter.widget-view+json": {
       "model_id": "da9d9b57a755469397ccdfdcdb8aa6fa",
       "version_major": 2,
       "version_minor": 0
      },
      "text/plain": [
       "  0%|          | 0/525 [00:00<?, ?it/s]"
      ]
     },
     "metadata": {},
     "output_type": "display_data"
    },
    {
     "data": {
      "application/vnd.jupyter.widget-view+json": {
       "model_id": "35c0c1f666b64fb8a54e879cf4642cde",
       "version_major": 2,
       "version_minor": 0
      },
      "text/plain": [
       "  0%|          | 0/525 [00:00<?, ?it/s]"
      ]
     },
     "metadata": {},
     "output_type": "display_data"
    },
    {
     "data": {
      "application/vnd.jupyter.widget-view+json": {
       "model_id": "4e2d7e2de4344b158527195f8d2d8944",
       "version_major": 2,
       "version_minor": 0
      },
      "text/plain": [
       "  0%|          | 0/525 [00:00<?, ?it/s]"
      ]
     },
     "metadata": {},
     "output_type": "display_data"
    },
    {
     "data": {
      "application/vnd.jupyter.widget-view+json": {
       "model_id": "aaf1efe31bd943c5a462cea872e609fd",
       "version_major": 2,
       "version_minor": 0
      },
      "text/plain": [
       "  0%|          | 0/4 [00:00<?, ?it/s]"
      ]
     },
     "metadata": {},
     "output_type": "display_data"
    },
    {
     "data": {
      "application/vnd.jupyter.widget-view+json": {
       "model_id": "654d7ce31d054ef7bded64ebd64c0c4a",
       "version_major": 2,
       "version_minor": 0
      },
      "text/plain": [
       "  0%|          | 0/525 [00:00<?, ?it/s]"
      ]
     },
     "metadata": {},
     "output_type": "display_data"
    },
    {
     "data": {
      "application/vnd.jupyter.widget-view+json": {
       "model_id": "171630740e2147af9ad75a397f053c43",
       "version_major": 2,
       "version_minor": 0
      },
      "text/plain": [
       "  0%|          | 0/525 [00:00<?, ?it/s]"
      ]
     },
     "metadata": {},
     "output_type": "display_data"
    },
    {
     "data": {
      "application/vnd.jupyter.widget-view+json": {
       "model_id": "e084bcbf772f4e23af4142ee25921c37",
       "version_major": 2,
       "version_minor": 0
      },
      "text/plain": [
       "  0%|          | 0/525 [00:00<?, ?it/s]"
      ]
     },
     "metadata": {},
     "output_type": "display_data"
    },
    {
     "data": {
      "application/vnd.jupyter.widget-view+json": {
       "model_id": "a5d43559cda749da9b0b59e9311a0e80",
       "version_major": 2,
       "version_minor": 0
      },
      "text/plain": [
       "  0%|          | 0/525 [00:00<?, ?it/s]"
      ]
     },
     "metadata": {},
     "output_type": "display_data"
    },
    {
     "data": {
      "application/vnd.jupyter.widget-view+json": {
       "model_id": "9d23018252be48798ce93cb4823c65ae",
       "version_major": 2,
       "version_minor": 0
      },
      "text/plain": [
       "  0%|          | 0/4 [00:00<?, ?it/s]"
      ]
     },
     "metadata": {},
     "output_type": "display_data"
    },
    {
     "data": {
      "application/vnd.jupyter.widget-view+json": {
       "model_id": "db01ffb691434c7da7f432954be46623",
       "version_major": 2,
       "version_minor": 0
      },
      "text/plain": [
       "  0%|          | 0/525 [00:00<?, ?it/s]"
      ]
     },
     "metadata": {},
     "output_type": "display_data"
    },
    {
     "data": {
      "application/vnd.jupyter.widget-view+json": {
       "model_id": "df87670f46a24ca2b205a3c401e04071",
       "version_major": 2,
       "version_minor": 0
      },
      "text/plain": [
       "  0%|          | 0/525 [00:00<?, ?it/s]"
      ]
     },
     "metadata": {},
     "output_type": "display_data"
    },
    {
     "data": {
      "application/vnd.jupyter.widget-view+json": {
       "model_id": "2e8b426a8b6a4055abde8712a06f7d9c",
       "version_major": 2,
       "version_minor": 0
      },
      "text/plain": [
       "  0%|          | 0/525 [00:00<?, ?it/s]"
      ]
     },
     "metadata": {},
     "output_type": "display_data"
    },
    {
     "data": {
      "application/vnd.jupyter.widget-view+json": {
       "model_id": "fd887ad7adbf490b8d7b6780083e3cb4",
       "version_major": 2,
       "version_minor": 0
      },
      "text/plain": [
       "  0%|          | 0/525 [00:00<?, ?it/s]"
      ]
     },
     "metadata": {},
     "output_type": "display_data"
    },
    {
     "data": {
      "application/vnd.jupyter.widget-view+json": {
       "model_id": "ceead30eafcb4787909a63db546b362b",
       "version_major": 2,
       "version_minor": 0
      },
      "text/plain": [
       "  0%|          | 0/4 [00:00<?, ?it/s]"
      ]
     },
     "metadata": {},
     "output_type": "display_data"
    },
    {
     "data": {
      "application/vnd.jupyter.widget-view+json": {
       "model_id": "5903567e76974c909ee9db28d26ad38e",
       "version_major": 2,
       "version_minor": 0
      },
      "text/plain": [
       "  0%|          | 0/525 [00:00<?, ?it/s]"
      ]
     },
     "metadata": {},
     "output_type": "display_data"
    },
    {
     "data": {
      "application/vnd.jupyter.widget-view+json": {
       "model_id": "31a986dd511f4ecbb095e2835e8388fb",
       "version_major": 2,
       "version_minor": 0
      },
      "text/plain": [
       "  0%|          | 0/525 [00:00<?, ?it/s]"
      ]
     },
     "metadata": {},
     "output_type": "display_data"
    },
    {
     "data": {
      "application/vnd.jupyter.widget-view+json": {
       "model_id": "b20d5ae7060c409a8aeeadb5397805e6",
       "version_major": 2,
       "version_minor": 0
      },
      "text/plain": [
       "  0%|          | 0/525 [00:00<?, ?it/s]"
      ]
     },
     "metadata": {},
     "output_type": "display_data"
    },
    {
     "data": {
      "application/vnd.jupyter.widget-view+json": {
       "model_id": "e218aa2520c94c9da7132eb26ab9eb53",
       "version_major": 2,
       "version_minor": 0
      },
      "text/plain": [
       "  0%|          | 0/525 [00:00<?, ?it/s]"
      ]
     },
     "metadata": {},
     "output_type": "display_data"
    },
    {
     "data": {
      "application/vnd.jupyter.widget-view+json": {
       "model_id": "1e6d076450f54c94870d46369f87ab11",
       "version_major": 2,
       "version_minor": 0
      },
      "text/plain": [
       "  0%|          | 0/4 [00:00<?, ?it/s]"
      ]
     },
     "metadata": {},
     "output_type": "display_data"
    },
    {
     "data": {
      "application/vnd.jupyter.widget-view+json": {
       "model_id": "cca488ec9bde4abcb1ad81e0fdba4124",
       "version_major": 2,
       "version_minor": 0
      },
      "text/plain": [
       "  0%|          | 0/525 [00:00<?, ?it/s]"
      ]
     },
     "metadata": {},
     "output_type": "display_data"
    },
    {
     "data": {
      "application/vnd.jupyter.widget-view+json": {
       "model_id": "e4f3db32304240cf915bb1bea116d7f1",
       "version_major": 2,
       "version_minor": 0
      },
      "text/plain": [
       "  0%|          | 0/525 [00:00<?, ?it/s]"
      ]
     },
     "metadata": {},
     "output_type": "display_data"
    },
    {
     "data": {
      "application/vnd.jupyter.widget-view+json": {
       "model_id": "c994d70dda2a4e9aa94b7d1d4bc1152e",
       "version_major": 2,
       "version_minor": 0
      },
      "text/plain": [
       "  0%|          | 0/525 [00:00<?, ?it/s]"
      ]
     },
     "metadata": {},
     "output_type": "display_data"
    },
    {
     "data": {
      "application/vnd.jupyter.widget-view+json": {
       "model_id": "2a0ce6182d6a4f8d99e6372ea9b1fcfd",
       "version_major": 2,
       "version_minor": 0
      },
      "text/plain": [
       "  0%|          | 0/525 [00:00<?, ?it/s]"
      ]
     },
     "metadata": {},
     "output_type": "display_data"
    },
    {
     "data": {
      "application/vnd.jupyter.widget-view+json": {
       "model_id": "dfebfb93225d4947bf479493f6dfc29b",
       "version_major": 2,
       "version_minor": 0
      },
      "text/plain": [
       "  0%|          | 0/4 [00:00<?, ?it/s]"
      ]
     },
     "metadata": {},
     "output_type": "display_data"
    },
    {
     "data": {
      "application/vnd.jupyter.widget-view+json": {
       "model_id": "fb029e2849b74c009e12d1194b994a8c",
       "version_major": 2,
       "version_minor": 0
      },
      "text/plain": [
       "  0%|          | 0/525 [00:00<?, ?it/s]"
      ]
     },
     "metadata": {},
     "output_type": "display_data"
    },
    {
     "data": {
      "application/vnd.jupyter.widget-view+json": {
       "model_id": "13f5b449f13a45fe905538f069384d05",
       "version_major": 2,
       "version_minor": 0
      },
      "text/plain": [
       "  0%|          | 0/525 [00:00<?, ?it/s]"
      ]
     },
     "metadata": {},
     "output_type": "display_data"
    },
    {
     "data": {
      "application/vnd.jupyter.widget-view+json": {
       "model_id": "ee21ce474dce4283a3c38eae8910c58a",
       "version_major": 2,
       "version_minor": 0
      },
      "text/plain": [
       "  0%|          | 0/525 [00:00<?, ?it/s]"
      ]
     },
     "metadata": {},
     "output_type": "display_data"
    },
    {
     "data": {
      "application/vnd.jupyter.widget-view+json": {
       "model_id": "a8f04f38d8a448488c14c4ed0c171199",
       "version_major": 2,
       "version_minor": 0
      },
      "text/plain": [
       "  0%|          | 0/525 [00:00<?, ?it/s]"
      ]
     },
     "metadata": {},
     "output_type": "display_data"
    },
    {
     "data": {
      "application/vnd.jupyter.widget-view+json": {
       "model_id": "89f2882236db4220b448ac6ee4b0ace5",
       "version_major": 2,
       "version_minor": 0
      },
      "text/plain": [
       "  0%|          | 0/4 [00:00<?, ?it/s]"
      ]
     },
     "metadata": {},
     "output_type": "display_data"
    },
    {
     "data": {
      "application/vnd.jupyter.widget-view+json": {
       "model_id": "70c238a823ef4349b9b5da0afa6b6fd1",
       "version_major": 2,
       "version_minor": 0
      },
      "text/plain": [
       "  0%|          | 0/525 [00:00<?, ?it/s]"
      ]
     },
     "metadata": {},
     "output_type": "display_data"
    },
    {
     "data": {
      "application/vnd.jupyter.widget-view+json": {
       "model_id": "52f17b98e8eb49d6b69065492a860a91",
       "version_major": 2,
       "version_minor": 0
      },
      "text/plain": [
       "  0%|          | 0/525 [00:00<?, ?it/s]"
      ]
     },
     "metadata": {},
     "output_type": "display_data"
    },
    {
     "data": {
      "application/vnd.jupyter.widget-view+json": {
       "model_id": "3218ddead85b4d03a9a1120c4af9ceb0",
       "version_major": 2,
       "version_minor": 0
      },
      "text/plain": [
       "  0%|          | 0/525 [00:00<?, ?it/s]"
      ]
     },
     "metadata": {},
     "output_type": "display_data"
    },
    {
     "data": {
      "application/vnd.jupyter.widget-view+json": {
       "model_id": "f0e40af61bc247d5a4a06683ae0e1097",
       "version_major": 2,
       "version_minor": 0
      },
      "text/plain": [
       "  0%|          | 0/525 [00:00<?, ?it/s]"
      ]
     },
     "metadata": {},
     "output_type": "display_data"
    },
    {
     "data": {
      "application/vnd.jupyter.widget-view+json": {
       "model_id": "6634b1501f67497cb065f49401e9be9c",
       "version_major": 2,
       "version_minor": 0
      },
      "text/plain": [
       "  0%|          | 0/4 [00:00<?, ?it/s]"
      ]
     },
     "metadata": {},
     "output_type": "display_data"
    },
    {
     "data": {
      "application/vnd.jupyter.widget-view+json": {
       "model_id": "6f51e0bdf06b43ca9a8fcaeef1e62d89",
       "version_major": 2,
       "version_minor": 0
      },
      "text/plain": [
       "  0%|          | 0/525 [00:00<?, ?it/s]"
      ]
     },
     "metadata": {},
     "output_type": "display_data"
    },
    {
     "data": {
      "application/vnd.jupyter.widget-view+json": {
       "model_id": "3c5d0bfa2de34dfe98f7d15101a5fd15",
       "version_major": 2,
       "version_minor": 0
      },
      "text/plain": [
       "  0%|          | 0/525 [00:00<?, ?it/s]"
      ]
     },
     "metadata": {},
     "output_type": "display_data"
    },
    {
     "data": {
      "application/vnd.jupyter.widget-view+json": {
       "model_id": "f1502ba3bdb742e39f09c6949b870660",
       "version_major": 2,
       "version_minor": 0
      },
      "text/plain": [
       "  0%|          | 0/525 [00:00<?, ?it/s]"
      ]
     },
     "metadata": {},
     "output_type": "display_data"
    },
    {
     "data": {
      "application/vnd.jupyter.widget-view+json": {
       "model_id": "b2637c1ac5b0410ca65fe0d5c364b6be",
       "version_major": 2,
       "version_minor": 0
      },
      "text/plain": [
       "  0%|          | 0/525 [00:00<?, ?it/s]"
      ]
     },
     "metadata": {},
     "output_type": "display_data"
    },
    {
     "data": {
      "application/vnd.jupyter.widget-view+json": {
       "model_id": "3e2553fe60a0430a81033bc8970bf204",
       "version_major": 2,
       "version_minor": 0
      },
      "text/plain": [
       "  0%|          | 0/4 [00:00<?, ?it/s]"
      ]
     },
     "metadata": {},
     "output_type": "display_data"
    },
    {
     "data": {
      "application/vnd.jupyter.widget-view+json": {
       "model_id": "482be44e71694ae7abbc24b1692dee13",
       "version_major": 2,
       "version_minor": 0
      },
      "text/plain": [
       "  0%|          | 0/525 [00:00<?, ?it/s]"
      ]
     },
     "metadata": {},
     "output_type": "display_data"
    },
    {
     "data": {
      "application/vnd.jupyter.widget-view+json": {
       "model_id": "b16332d95e3a47299658d0eea384a17b",
       "version_major": 2,
       "version_minor": 0
      },
      "text/plain": [
       "  0%|          | 0/525 [00:00<?, ?it/s]"
      ]
     },
     "metadata": {},
     "output_type": "display_data"
    },
    {
     "data": {
      "application/vnd.jupyter.widget-view+json": {
       "model_id": "a64826c3591d4527981ad934426391fb",
       "version_major": 2,
       "version_minor": 0
      },
      "text/plain": [
       "  0%|          | 0/525 [00:00<?, ?it/s]"
      ]
     },
     "metadata": {},
     "output_type": "display_data"
    },
    {
     "data": {
      "application/vnd.jupyter.widget-view+json": {
       "model_id": "37c1e78460b34dfab6e6ccd8f03134f1",
       "version_major": 2,
       "version_minor": 0
      },
      "text/plain": [
       "  0%|          | 0/525 [00:00<?, ?it/s]"
      ]
     },
     "metadata": {},
     "output_type": "display_data"
    }
   ],
   "source": [
    "tuples = table_to_tuple_v3(table_data)"
   ]
  },
  {
   "cell_type": "code",
   "execution_count": 112,
   "metadata": {},
   "outputs": [],
   "source": [
    "random.shuffle(tuples)\n",
    "cutoff = int(len(tuples)/5)\n",
    "\n",
    "VAL_DATA = tuples[:cutoff]\n",
    "TRAIN_DATA = tuples[cutoff:]"
   ]
  },
  {
   "cell_type": "code",
   "execution_count": 113,
   "metadata": {},
   "outputs": [
    {
     "data": {
      "text/plain": [
       "21000"
      ]
     },
     "execution_count": 113,
     "metadata": {},
     "output_type": "execute_result"
    }
   ],
   "source": [
    "len(VAL_DATA)"
   ]
  },
  {
   "cell_type": "code",
   "execution_count": 115,
   "metadata": {},
   "outputs": [
    {
     "data": {
      "application/vnd.jupyter.widget-view+json": {
       "model_id": "a2b0cd348b59459ca3ddb3e28a907e12",
       "version_major": 2,
       "version_minor": 0
      },
      "text/plain": [
       "  0%|          | 0/84000 [00:00<?, ?it/s]"
      ]
     },
     "metadata": {},
     "output_type": "display_data"
    },
    {
     "data": {
      "application/vnd.jupyter.widget-view+json": {
       "model_id": "0871ea7831a84e2c98cdcdbbfdfd2df0",
       "version_major": 2,
       "version_minor": 0
      },
      "text/plain": [
       "  0%|          | 0/21000 [00:00<?, ?it/s]"
      ]
     },
     "metadata": {},
     "output_type": "display_data"
    }
   ],
   "source": [
    "nlp = spacy.load(\"en_core_web_lg\") # load other spacy model\n",
    "\n",
    "db = DocBin() # create a DocBin object\n",
    "\n",
    "for text, annot in tqdm.notebook.tqdm(TRAIN_DATA): # data in previous format\n",
    "    doc = nlp.make_doc(text) # create doc object from text\n",
    "    ents = []\n",
    "    for start, end, label in annot[\"entities\"]: # add character indexes\n",
    "        span = doc.char_span(start, end, label=label, alignment_mode=\"contract\")\n",
    "        if span is None:\n",
    "            print(\"Skipping entity\")\n",
    "        else:\n",
    "            ents.append(span)\n",
    "    doc.ents = ents # label the text with the ents\n",
    "    db.add(doc)\n",
    "    \n",
    "db.to_disk(\"./Model/train.spacy\")\n",
    "\n",
    "for text, annot in tqdm.notebook.tqdm(VAL_DATA): # data in previous format\n",
    "    doc = nlp.make_doc(text) # create doc object from text\n",
    "    ents = []\n",
    "    for start, end, label in annot[\"entities\"]: # add character indexes\n",
    "        span = doc.char_span(start, end, label=label, alignment_mode=\"contract\")\n",
    "        if span is None:\n",
    "            print(\"Skipping entity\")\n",
    "        else:\n",
    "            ents.append(span)\n",
    "    doc.ents = ents # label the text with the ents\n",
    "    db.add(doc)\n",
    "    \n",
    "db.to_disk(\"./Model/dev.spacy\")"
   ]
  },
  {
   "cell_type": "markdown",
   "metadata": {},
   "source": [
    "Step-3 : Creating the Config file for training the model\n",
    "https://spacy.io/usage/training#config\n",
    "\n",
    "Head on to Quickstart section of the page and select your configuration. (Make sure you mark NER, you can select the language based on your requirement)\n",
    "image.png\n",
    "\n",
    "Once the configurations are set, you can download it.\n",
    "image.png\n",
    "\n",
    "Step-4 : Filling the Config file\n",
    "Go to the directory where base_config.cfg is stored and then run this command\n",
    "\n",
    "python -m spacy init fill-config base_config.cfg config.cfg\n",
    "\n",
    "Step-5 : Run the Training configuration\n",
    "python -m spacy train config.cfg --output ./output --paths.train ./train.spacy --paths.dev ./dev.spacy"
   ]
  },
  {
   "cell_type": "code",
   "execution_count": 60,
   "metadata": {},
   "outputs": [
    {
     "data": {
      "text/html": [
       "<span class=\"tex2jax_ignore\"><div class=\"entities\" style=\"line-height: 2.5; direction: ltr\">My name is Thomas Baumgartner and I work at Parashift. My email is \n",
       "<mark class=\"entity\" style=\"background: #ddd; padding: 0.45em 0.6em; margin: 0 0.25em; line-height: 1; border-radius: 0.35em;\">\n",
       "    thomas@parashift.ch\n",
       "    <span style=\"font-size: 0.8em; font-weight: bold; line-height: 1; border-radius: 0.35em; vertical-align: middle; margin-left: 0.5rem\">Email</span>\n",
       "</mark>\n",
       "</div></span>"
      ],
      "text/plain": [
       "<IPython.core.display.HTML object>"
      ]
     },
     "metadata": {},
     "output_type": "display_data"
    }
   ],
   "source": [
    "ner_model = spacy.load(r\"./Model/output/model-last\")\n",
    "doc = ner_model(\"My name is Thomas Baumgartner and I work at Parashift. My email is thomas@parashift.ch\")\n",
    "spacy.displacy.render(doc, style=\"ent\", jupyter=True)"
   ]
  }
 ],
 "metadata": {
  "kernelspec": {
   "display_name": "Python 3 (ipykernel)",
   "language": "python",
   "name": "python3"
  },
  "language_info": {
   "codemirror_mode": {
    "name": "ipython",
    "version": 3
   },
   "file_extension": ".py",
   "mimetype": "text/x-python",
   "name": "python",
   "nbconvert_exporter": "python",
   "pygments_lexer": "ipython3",
   "version": "3.10.0"
  },
  "toc": {
   "base_numbering": 1,
   "nav_menu": {},
   "number_sections": true,
   "sideBar": true,
   "skip_h1_title": true,
   "title_cell": "Table of Contents",
   "title_sidebar": "Contents",
   "toc_cell": true,
   "toc_position": {},
   "toc_section_display": true,
   "toc_window_display": false
  }
 },
 "nbformat": 4,
 "nbformat_minor": 1
}